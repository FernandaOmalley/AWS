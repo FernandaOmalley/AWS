{
 "cells": [
  {
   "cell_type": "markdown",
   "metadata": {},
   "source": [
    "# Clustering Crypto"
   ]
  },
  {
   "cell_type": "code",
   "execution_count": 38,
   "metadata": {},
   "outputs": [],
   "source": [
    "# Initial imports\n",
    "import requests\n",
    "import pandas as pd\n",
    "import matplotlib.pyplot as plt\n",
    "import hvplot.pandas\n",
    "import plotly.express as px\n",
    "import json\n",
    "from sklearn.preprocessing import StandardScaler, MinMaxScaler\n",
    "from sklearn.decomposition import PCA\n",
    "from sklearn.cluster import KMeans\n",
    "from pathlib import Path\n"
   ]
  },
  {
   "cell_type": "markdown",
   "metadata": {},
   "source": [
    "### Fetching Cryptocurrency Data"
   ]
  },
  {
   "cell_type": "code",
   "execution_count": 39,
   "metadata": {},
   "outputs": [],
   "source": [
    "# Use the following endpoint to fetch json data\n",
    "#url = \"https://min-api.cryptocompare.com/data/all/coinlist\"\n"
   ]
  },
  {
   "cell_type": "code",
   "execution_count": null,
   "metadata": {},
   "outputs": [],
   "source": [
    "\n",
    "\n",
    "# Create a DataFrame \n",
    "# HINT: You will need to use the 'Data' key from the json response, then transpose the DataFrame.\n",
    "\n"
   ]
  },
  {
   "cell_type": "code",
   "execution_count": 40,
   "metadata": {},
   "outputs": [],
   "source": [
    "# Alternatively, use the provided csv file:\n",
    "file_path = Path(\"Resources/crypto_data.csv\")\n",
    "crypto_df = pd.read_csv(file_path)\n",
    "\n",
    "# Create a DataFrame\n"
   ]
  },
  {
   "cell_type": "markdown",
   "metadata": {},
   "source": [
    "### Data Preprocessing"
   ]
  },
  {
   "cell_type": "code",
   "execution_count": 41,
   "metadata": {},
   "outputs": [
    {
     "data": {
      "text/html": [
       "<div>\n",
       "<style scoped>\n",
       "    .dataframe tbody tr th:only-of-type {\n",
       "        vertical-align: middle;\n",
       "    }\n",
       "\n",
       "    .dataframe tbody tr th {\n",
       "        vertical-align: top;\n",
       "    }\n",
       "\n",
       "    .dataframe thead th {\n",
       "        text-align: right;\n",
       "    }\n",
       "</style>\n",
       "<table border=\"1\" class=\"dataframe\">\n",
       "  <thead>\n",
       "    <tr style=\"text-align: right;\">\n",
       "      <th></th>\n",
       "      <th>CoinName</th>\n",
       "      <th>Algorithm</th>\n",
       "      <th>IsTrading</th>\n",
       "      <th>ProofType</th>\n",
       "      <th>TotalCoinsMined</th>\n",
       "      <th>TotalCoinSupply</th>\n",
       "    </tr>\n",
       "  </thead>\n",
       "  <tbody>\n",
       "    <tr>\n",
       "      <th>0</th>\n",
       "      <td>42 Coin</td>\n",
       "      <td>Scrypt</td>\n",
       "      <td>True</td>\n",
       "      <td>PoW/PoS</td>\n",
       "      <td>4.199995e+01</td>\n",
       "      <td>42</td>\n",
       "    </tr>\n",
       "    <tr>\n",
       "      <th>1</th>\n",
       "      <td>365Coin</td>\n",
       "      <td>X11</td>\n",
       "      <td>True</td>\n",
       "      <td>PoW/PoS</td>\n",
       "      <td>NaN</td>\n",
       "      <td>2300000000</td>\n",
       "    </tr>\n",
       "    <tr>\n",
       "      <th>2</th>\n",
       "      <td>404Coin</td>\n",
       "      <td>Scrypt</td>\n",
       "      <td>True</td>\n",
       "      <td>PoW/PoS</td>\n",
       "      <td>1.055185e+09</td>\n",
       "      <td>532000000</td>\n",
       "    </tr>\n",
       "    <tr>\n",
       "      <th>3</th>\n",
       "      <td>SixEleven</td>\n",
       "      <td>SHA-256</td>\n",
       "      <td>True</td>\n",
       "      <td>PoW</td>\n",
       "      <td>NaN</td>\n",
       "      <td>611000</td>\n",
       "    </tr>\n",
       "    <tr>\n",
       "      <th>4</th>\n",
       "      <td>808</td>\n",
       "      <td>SHA-256</td>\n",
       "      <td>True</td>\n",
       "      <td>PoW/PoS</td>\n",
       "      <td>0.000000e+00</td>\n",
       "      <td>0</td>\n",
       "    </tr>\n",
       "  </tbody>\n",
       "</table>\n",
       "</div>"
      ],
      "text/plain": [
       "    CoinName Algorithm  IsTrading ProofType  TotalCoinsMined TotalCoinSupply\n",
       "0    42 Coin    Scrypt       True   PoW/PoS     4.199995e+01              42\n",
       "1    365Coin       X11       True   PoW/PoS              NaN      2300000000\n",
       "2    404Coin    Scrypt       True   PoW/PoS     1.055185e+09       532000000\n",
       "3  SixEleven   SHA-256       True       PoW              NaN          611000\n",
       "4        808   SHA-256       True   PoW/PoS     0.000000e+00               0"
      ]
     },
     "execution_count": 41,
     "metadata": {},
     "output_type": "execute_result"
    }
   ],
   "source": [
    "# Keep only necessary columns:\n",
    "# 'CoinName','Algorithm','IsTrading','ProofType','TotalCoinsMined','TotalCoinSupply'\n",
    "crypto_df = crypto_df.drop(columns=['Unnamed: 0'])\n",
    "crypto_df.head()\n"
   ]
  },
  {
   "cell_type": "code",
   "execution_count": 42,
   "metadata": {},
   "outputs": [
    {
     "data": {
      "text/html": [
       "<div>\n",
       "<style scoped>\n",
       "    .dataframe tbody tr th:only-of-type {\n",
       "        vertical-align: middle;\n",
       "    }\n",
       "\n",
       "    .dataframe tbody tr th {\n",
       "        vertical-align: top;\n",
       "    }\n",
       "\n",
       "    .dataframe thead th {\n",
       "        text-align: right;\n",
       "    }\n",
       "</style>\n",
       "<table border=\"1\" class=\"dataframe\">\n",
       "  <thead>\n",
       "    <tr style=\"text-align: right;\">\n",
       "      <th></th>\n",
       "      <th>CoinName</th>\n",
       "      <th>Algorithm</th>\n",
       "      <th>IsTrading</th>\n",
       "      <th>ProofType</th>\n",
       "      <th>TotalCoinsMined</th>\n",
       "      <th>TotalCoinSupply</th>\n",
       "    </tr>\n",
       "  </thead>\n",
       "  <tbody>\n",
       "    <tr>\n",
       "      <th>0</th>\n",
       "      <td>42 Coin</td>\n",
       "      <td>Scrypt</td>\n",
       "      <td>True</td>\n",
       "      <td>PoW/PoS</td>\n",
       "      <td>4.199995e+01</td>\n",
       "      <td>42</td>\n",
       "    </tr>\n",
       "    <tr>\n",
       "      <th>1</th>\n",
       "      <td>365Coin</td>\n",
       "      <td>X11</td>\n",
       "      <td>True</td>\n",
       "      <td>PoW/PoS</td>\n",
       "      <td>NaN</td>\n",
       "      <td>2300000000</td>\n",
       "    </tr>\n",
       "    <tr>\n",
       "      <th>2</th>\n",
       "      <td>404Coin</td>\n",
       "      <td>Scrypt</td>\n",
       "      <td>True</td>\n",
       "      <td>PoW/PoS</td>\n",
       "      <td>1.055185e+09</td>\n",
       "      <td>532000000</td>\n",
       "    </tr>\n",
       "    <tr>\n",
       "      <th>3</th>\n",
       "      <td>SixEleven</td>\n",
       "      <td>SHA-256</td>\n",
       "      <td>True</td>\n",
       "      <td>PoW</td>\n",
       "      <td>NaN</td>\n",
       "      <td>611000</td>\n",
       "    </tr>\n",
       "    <tr>\n",
       "      <th>4</th>\n",
       "      <td>808</td>\n",
       "      <td>SHA-256</td>\n",
       "      <td>True</td>\n",
       "      <td>PoW/PoS</td>\n",
       "      <td>0.000000e+00</td>\n",
       "      <td>0</td>\n",
       "    </tr>\n",
       "    <tr>\n",
       "      <th>5</th>\n",
       "      <td>EliteCoin</td>\n",
       "      <td>X13</td>\n",
       "      <td>True</td>\n",
       "      <td>PoW/PoS</td>\n",
       "      <td>2.927942e+10</td>\n",
       "      <td>314159265359</td>\n",
       "    </tr>\n",
       "    <tr>\n",
       "      <th>6</th>\n",
       "      <td>2015 coin</td>\n",
       "      <td>X11</td>\n",
       "      <td>True</td>\n",
       "      <td>PoW/PoS</td>\n",
       "      <td>NaN</td>\n",
       "      <td>0</td>\n",
       "    </tr>\n",
       "    <tr>\n",
       "      <th>7</th>\n",
       "      <td>Bitcoin</td>\n",
       "      <td>SHA-256</td>\n",
       "      <td>True</td>\n",
       "      <td>PoW</td>\n",
       "      <td>1.792718e+07</td>\n",
       "      <td>21000000</td>\n",
       "    </tr>\n",
       "    <tr>\n",
       "      <th>8</th>\n",
       "      <td>Ethereum</td>\n",
       "      <td>Ethash</td>\n",
       "      <td>True</td>\n",
       "      <td>PoW</td>\n",
       "      <td>1.076842e+08</td>\n",
       "      <td>0</td>\n",
       "    </tr>\n",
       "    <tr>\n",
       "      <th>9</th>\n",
       "      <td>Litecoin</td>\n",
       "      <td>Scrypt</td>\n",
       "      <td>True</td>\n",
       "      <td>PoW</td>\n",
       "      <td>6.303924e+07</td>\n",
       "      <td>84000000</td>\n",
       "    </tr>\n",
       "    <tr>\n",
       "      <th>10</th>\n",
       "      <td>Dash</td>\n",
       "      <td>X11</td>\n",
       "      <td>True</td>\n",
       "      <td>PoW/PoS</td>\n",
       "      <td>9.031294e+06</td>\n",
       "      <td>22000000</td>\n",
       "    </tr>\n",
       "    <tr>\n",
       "      <th>11</th>\n",
       "      <td>Monero</td>\n",
       "      <td>CryptoNight-V7</td>\n",
       "      <td>True</td>\n",
       "      <td>PoW</td>\n",
       "      <td>1.720114e+07</td>\n",
       "      <td>0</td>\n",
       "    </tr>\n",
       "    <tr>\n",
       "      <th>12</th>\n",
       "      <td>Ethereum Classic</td>\n",
       "      <td>Ethash</td>\n",
       "      <td>True</td>\n",
       "      <td>PoW</td>\n",
       "      <td>1.133597e+08</td>\n",
       "      <td>210000000</td>\n",
       "    </tr>\n",
       "    <tr>\n",
       "      <th>13</th>\n",
       "      <td>ZCash</td>\n",
       "      <td>Equihash</td>\n",
       "      <td>True</td>\n",
       "      <td>PoW</td>\n",
       "      <td>7.383056e+06</td>\n",
       "      <td>21000000</td>\n",
       "    </tr>\n",
       "    <tr>\n",
       "      <th>14</th>\n",
       "      <td>Bitshares</td>\n",
       "      <td>SHA-512</td>\n",
       "      <td>True</td>\n",
       "      <td>PoS</td>\n",
       "      <td>2.741570e+09</td>\n",
       "      <td>3600570502</td>\n",
       "    </tr>\n",
       "  </tbody>\n",
       "</table>\n",
       "</div>"
      ],
      "text/plain": [
       "            CoinName       Algorithm  IsTrading ProofType  TotalCoinsMined  \\\n",
       "0            42 Coin          Scrypt       True   PoW/PoS     4.199995e+01   \n",
       "1            365Coin             X11       True   PoW/PoS              NaN   \n",
       "2            404Coin          Scrypt       True   PoW/PoS     1.055185e+09   \n",
       "3          SixEleven         SHA-256       True       PoW              NaN   \n",
       "4                808         SHA-256       True   PoW/PoS     0.000000e+00   \n",
       "5          EliteCoin             X13       True   PoW/PoS     2.927942e+10   \n",
       "6          2015 coin             X11       True   PoW/PoS              NaN   \n",
       "7            Bitcoin         SHA-256       True       PoW     1.792718e+07   \n",
       "8           Ethereum          Ethash       True       PoW     1.076842e+08   \n",
       "9           Litecoin          Scrypt       True       PoW     6.303924e+07   \n",
       "10              Dash             X11       True   PoW/PoS     9.031294e+06   \n",
       "11            Monero  CryptoNight-V7       True       PoW     1.720114e+07   \n",
       "12  Ethereum Classic          Ethash       True       PoW     1.133597e+08   \n",
       "13             ZCash        Equihash       True       PoW     7.383056e+06   \n",
       "14         Bitshares         SHA-512       True       PoS     2.741570e+09   \n",
       "\n",
       "   TotalCoinSupply  \n",
       "0               42  \n",
       "1       2300000000  \n",
       "2        532000000  \n",
       "3           611000  \n",
       "4                0  \n",
       "5     314159265359  \n",
       "6                0  \n",
       "7         21000000  \n",
       "8                0  \n",
       "9         84000000  \n",
       "10        22000000  \n",
       "11               0  \n",
       "12       210000000  \n",
       "13        21000000  \n",
       "14      3600570502  "
      ]
     },
     "execution_count": 42,
     "metadata": {},
     "output_type": "execute_result"
    }
   ],
   "source": [
    "# Keep only cryptocurrencies that are trading\n",
    "crypto_df = crypto_df.loc[crypto_df['IsTrading'] == True]\n",
    "crypto_df.head(15)\n",
    "\n"
   ]
  },
  {
   "cell_type": "code",
   "execution_count": 43,
   "metadata": {},
   "outputs": [
    {
     "data": {
      "text/html": [
       "<div>\n",
       "<style scoped>\n",
       "    .dataframe tbody tr th:only-of-type {\n",
       "        vertical-align: middle;\n",
       "    }\n",
       "\n",
       "    .dataframe tbody tr th {\n",
       "        vertical-align: top;\n",
       "    }\n",
       "\n",
       "    .dataframe thead th {\n",
       "        text-align: right;\n",
       "    }\n",
       "</style>\n",
       "<table border=\"1\" class=\"dataframe\">\n",
       "  <thead>\n",
       "    <tr style=\"text-align: right;\">\n",
       "      <th></th>\n",
       "      <th>CoinName</th>\n",
       "      <th>Algorithm</th>\n",
       "      <th>IsTrading</th>\n",
       "      <th>ProofType</th>\n",
       "      <th>TotalCoinsMined</th>\n",
       "      <th>TotalCoinSupply</th>\n",
       "    </tr>\n",
       "  </thead>\n",
       "  <tbody>\n",
       "    <tr>\n",
       "      <th>0</th>\n",
       "      <td>42 Coin</td>\n",
       "      <td>Scrypt</td>\n",
       "      <td>True</td>\n",
       "      <td>PoW/PoS</td>\n",
       "      <td>4.199995e+01</td>\n",
       "      <td>42</td>\n",
       "    </tr>\n",
       "    <tr>\n",
       "      <th>1</th>\n",
       "      <td>365Coin</td>\n",
       "      <td>X11</td>\n",
       "      <td>True</td>\n",
       "      <td>PoW/PoS</td>\n",
       "      <td>NaN</td>\n",
       "      <td>2300000000</td>\n",
       "    </tr>\n",
       "    <tr>\n",
       "      <th>2</th>\n",
       "      <td>404Coin</td>\n",
       "      <td>Scrypt</td>\n",
       "      <td>True</td>\n",
       "      <td>PoW/PoS</td>\n",
       "      <td>1.055185e+09</td>\n",
       "      <td>532000000</td>\n",
       "    </tr>\n",
       "    <tr>\n",
       "      <th>3</th>\n",
       "      <td>SixEleven</td>\n",
       "      <td>SHA-256</td>\n",
       "      <td>True</td>\n",
       "      <td>PoW</td>\n",
       "      <td>NaN</td>\n",
       "      <td>611000</td>\n",
       "    </tr>\n",
       "    <tr>\n",
       "      <th>4</th>\n",
       "      <td>808</td>\n",
       "      <td>SHA-256</td>\n",
       "      <td>True</td>\n",
       "      <td>PoW/PoS</td>\n",
       "      <td>0.000000e+00</td>\n",
       "      <td>0</td>\n",
       "    </tr>\n",
       "    <tr>\n",
       "      <th>5</th>\n",
       "      <td>EliteCoin</td>\n",
       "      <td>X13</td>\n",
       "      <td>True</td>\n",
       "      <td>PoW/PoS</td>\n",
       "      <td>2.927942e+10</td>\n",
       "      <td>314159265359</td>\n",
       "    </tr>\n",
       "    <tr>\n",
       "      <th>6</th>\n",
       "      <td>2015 coin</td>\n",
       "      <td>X11</td>\n",
       "      <td>True</td>\n",
       "      <td>PoW/PoS</td>\n",
       "      <td>NaN</td>\n",
       "      <td>0</td>\n",
       "    </tr>\n",
       "    <tr>\n",
       "      <th>7</th>\n",
       "      <td>Bitcoin</td>\n",
       "      <td>SHA-256</td>\n",
       "      <td>True</td>\n",
       "      <td>PoW</td>\n",
       "      <td>1.792718e+07</td>\n",
       "      <td>21000000</td>\n",
       "    </tr>\n",
       "    <tr>\n",
       "      <th>8</th>\n",
       "      <td>Ethereum</td>\n",
       "      <td>Ethash</td>\n",
       "      <td>True</td>\n",
       "      <td>PoW</td>\n",
       "      <td>1.076842e+08</td>\n",
       "      <td>0</td>\n",
       "    </tr>\n",
       "    <tr>\n",
       "      <th>9</th>\n",
       "      <td>Litecoin</td>\n",
       "      <td>Scrypt</td>\n",
       "      <td>True</td>\n",
       "      <td>PoW</td>\n",
       "      <td>6.303924e+07</td>\n",
       "      <td>84000000</td>\n",
       "    </tr>\n",
       "    <tr>\n",
       "      <th>10</th>\n",
       "      <td>Dash</td>\n",
       "      <td>X11</td>\n",
       "      <td>True</td>\n",
       "      <td>PoW/PoS</td>\n",
       "      <td>9.031294e+06</td>\n",
       "      <td>22000000</td>\n",
       "    </tr>\n",
       "    <tr>\n",
       "      <th>11</th>\n",
       "      <td>Monero</td>\n",
       "      <td>CryptoNight-V7</td>\n",
       "      <td>True</td>\n",
       "      <td>PoW</td>\n",
       "      <td>1.720114e+07</td>\n",
       "      <td>0</td>\n",
       "    </tr>\n",
       "    <tr>\n",
       "      <th>12</th>\n",
       "      <td>Ethereum Classic</td>\n",
       "      <td>Ethash</td>\n",
       "      <td>True</td>\n",
       "      <td>PoW</td>\n",
       "      <td>1.133597e+08</td>\n",
       "      <td>210000000</td>\n",
       "    </tr>\n",
       "    <tr>\n",
       "      <th>13</th>\n",
       "      <td>ZCash</td>\n",
       "      <td>Equihash</td>\n",
       "      <td>True</td>\n",
       "      <td>PoW</td>\n",
       "      <td>7.383056e+06</td>\n",
       "      <td>21000000</td>\n",
       "    </tr>\n",
       "    <tr>\n",
       "      <th>14</th>\n",
       "      <td>Bitshares</td>\n",
       "      <td>SHA-512</td>\n",
       "      <td>True</td>\n",
       "      <td>PoS</td>\n",
       "      <td>2.741570e+09</td>\n",
       "      <td>3600570502</td>\n",
       "    </tr>\n",
       "  </tbody>\n",
       "</table>\n",
       "</div>"
      ],
      "text/plain": [
       "            CoinName       Algorithm  IsTrading ProofType  TotalCoinsMined  \\\n",
       "0            42 Coin          Scrypt       True   PoW/PoS     4.199995e+01   \n",
       "1            365Coin             X11       True   PoW/PoS              NaN   \n",
       "2            404Coin          Scrypt       True   PoW/PoS     1.055185e+09   \n",
       "3          SixEleven         SHA-256       True       PoW              NaN   \n",
       "4                808         SHA-256       True   PoW/PoS     0.000000e+00   \n",
       "5          EliteCoin             X13       True   PoW/PoS     2.927942e+10   \n",
       "6          2015 coin             X11       True   PoW/PoS              NaN   \n",
       "7            Bitcoin         SHA-256       True       PoW     1.792718e+07   \n",
       "8           Ethereum          Ethash       True       PoW     1.076842e+08   \n",
       "9           Litecoin          Scrypt       True       PoW     6.303924e+07   \n",
       "10              Dash             X11       True   PoW/PoS     9.031294e+06   \n",
       "11            Monero  CryptoNight-V7       True       PoW     1.720114e+07   \n",
       "12  Ethereum Classic          Ethash       True       PoW     1.133597e+08   \n",
       "13             ZCash        Equihash       True       PoW     7.383056e+06   \n",
       "14         Bitshares         SHA-512       True       PoS     2.741570e+09   \n",
       "\n",
       "   TotalCoinSupply  \n",
       "0               42  \n",
       "1       2300000000  \n",
       "2        532000000  \n",
       "3           611000  \n",
       "4                0  \n",
       "5     314159265359  \n",
       "6                0  \n",
       "7         21000000  \n",
       "8                0  \n",
       "9         84000000  \n",
       "10        22000000  \n",
       "11               0  \n",
       "12       210000000  \n",
       "13        21000000  \n",
       "14      3600570502  "
      ]
     },
     "execution_count": 43,
     "metadata": {},
     "output_type": "execute_result"
    }
   ],
   "source": [
    "# Keep only cryptocurrencies with a working algorithm\n",
    "crypto_df = crypto_df.loc[crypto_df['Algorithm'] != 'N/A']\n",
    "\n",
    "crypto_df.head(15)\n"
   ]
  },
  {
   "cell_type": "code",
   "execution_count": 44,
   "metadata": {},
   "outputs": [
    {
     "data": {
      "text/html": [
       "<div>\n",
       "<style scoped>\n",
       "    .dataframe tbody tr th:only-of-type {\n",
       "        vertical-align: middle;\n",
       "    }\n",
       "\n",
       "    .dataframe tbody tr th {\n",
       "        vertical-align: top;\n",
       "    }\n",
       "\n",
       "    .dataframe thead th {\n",
       "        text-align: right;\n",
       "    }\n",
       "</style>\n",
       "<table border=\"1\" class=\"dataframe\">\n",
       "  <thead>\n",
       "    <tr style=\"text-align: right;\">\n",
       "      <th></th>\n",
       "      <th>CoinName</th>\n",
       "      <th>Algorithm</th>\n",
       "      <th>ProofType</th>\n",
       "      <th>TotalCoinsMined</th>\n",
       "      <th>TotalCoinSupply</th>\n",
       "    </tr>\n",
       "  </thead>\n",
       "  <tbody>\n",
       "    <tr>\n",
       "      <th>0</th>\n",
       "      <td>42 Coin</td>\n",
       "      <td>Scrypt</td>\n",
       "      <td>PoW/PoS</td>\n",
       "      <td>4.199995e+01</td>\n",
       "      <td>42</td>\n",
       "    </tr>\n",
       "    <tr>\n",
       "      <th>1</th>\n",
       "      <td>365Coin</td>\n",
       "      <td>X11</td>\n",
       "      <td>PoW/PoS</td>\n",
       "      <td>NaN</td>\n",
       "      <td>2300000000</td>\n",
       "    </tr>\n",
       "    <tr>\n",
       "      <th>2</th>\n",
       "      <td>404Coin</td>\n",
       "      <td>Scrypt</td>\n",
       "      <td>PoW/PoS</td>\n",
       "      <td>1.055185e+09</td>\n",
       "      <td>532000000</td>\n",
       "    </tr>\n",
       "    <tr>\n",
       "      <th>3</th>\n",
       "      <td>SixEleven</td>\n",
       "      <td>SHA-256</td>\n",
       "      <td>PoW</td>\n",
       "      <td>NaN</td>\n",
       "      <td>611000</td>\n",
       "    </tr>\n",
       "    <tr>\n",
       "      <th>4</th>\n",
       "      <td>808</td>\n",
       "      <td>SHA-256</td>\n",
       "      <td>PoW/PoS</td>\n",
       "      <td>0.000000e+00</td>\n",
       "      <td>0</td>\n",
       "    </tr>\n",
       "  </tbody>\n",
       "</table>\n",
       "</div>"
      ],
      "text/plain": [
       "    CoinName Algorithm ProofType  TotalCoinsMined TotalCoinSupply\n",
       "0    42 Coin    Scrypt   PoW/PoS     4.199995e+01              42\n",
       "1    365Coin       X11   PoW/PoS              NaN      2300000000\n",
       "2    404Coin    Scrypt   PoW/PoS     1.055185e+09       532000000\n",
       "3  SixEleven   SHA-256       PoW              NaN          611000\n",
       "4        808   SHA-256   PoW/PoS     0.000000e+00               0"
      ]
     },
     "execution_count": 44,
     "metadata": {},
     "output_type": "execute_result"
    }
   ],
   "source": [
    "# Remove the 'IsTrading' column\n",
    "crypto_df = crypto_df.drop(columns=['IsTrading'])\n",
    "crypto_df.head()\n"
   ]
  },
  {
   "cell_type": "code",
   "execution_count": 45,
   "metadata": {},
   "outputs": [
    {
     "data": {
      "text/html": [
       "<div>\n",
       "<style scoped>\n",
       "    .dataframe tbody tr th:only-of-type {\n",
       "        vertical-align: middle;\n",
       "    }\n",
       "\n",
       "    .dataframe tbody tr th {\n",
       "        vertical-align: top;\n",
       "    }\n",
       "\n",
       "    .dataframe thead th {\n",
       "        text-align: right;\n",
       "    }\n",
       "</style>\n",
       "<table border=\"1\" class=\"dataframe\">\n",
       "  <thead>\n",
       "    <tr style=\"text-align: right;\">\n",
       "      <th></th>\n",
       "      <th>CoinName</th>\n",
       "      <th>Algorithm</th>\n",
       "      <th>ProofType</th>\n",
       "      <th>TotalCoinsMined</th>\n",
       "      <th>TotalCoinSupply</th>\n",
       "    </tr>\n",
       "  </thead>\n",
       "  <tbody>\n",
       "    <tr>\n",
       "      <th>0</th>\n",
       "      <td>42 Coin</td>\n",
       "      <td>Scrypt</td>\n",
       "      <td>PoW/PoS</td>\n",
       "      <td>4.199995e+01</td>\n",
       "      <td>42</td>\n",
       "    </tr>\n",
       "    <tr>\n",
       "      <th>2</th>\n",
       "      <td>404Coin</td>\n",
       "      <td>Scrypt</td>\n",
       "      <td>PoW/PoS</td>\n",
       "      <td>1.055185e+09</td>\n",
       "      <td>532000000</td>\n",
       "    </tr>\n",
       "    <tr>\n",
       "      <th>4</th>\n",
       "      <td>808</td>\n",
       "      <td>SHA-256</td>\n",
       "      <td>PoW/PoS</td>\n",
       "      <td>0.000000e+00</td>\n",
       "      <td>0</td>\n",
       "    </tr>\n",
       "    <tr>\n",
       "      <th>5</th>\n",
       "      <td>EliteCoin</td>\n",
       "      <td>X13</td>\n",
       "      <td>PoW/PoS</td>\n",
       "      <td>2.927942e+10</td>\n",
       "      <td>314159265359</td>\n",
       "    </tr>\n",
       "    <tr>\n",
       "      <th>7</th>\n",
       "      <td>Bitcoin</td>\n",
       "      <td>SHA-256</td>\n",
       "      <td>PoW</td>\n",
       "      <td>1.792718e+07</td>\n",
       "      <td>21000000</td>\n",
       "    </tr>\n",
       "    <tr>\n",
       "      <th>8</th>\n",
       "      <td>Ethereum</td>\n",
       "      <td>Ethash</td>\n",
       "      <td>PoW</td>\n",
       "      <td>1.076842e+08</td>\n",
       "      <td>0</td>\n",
       "    </tr>\n",
       "    <tr>\n",
       "      <th>9</th>\n",
       "      <td>Litecoin</td>\n",
       "      <td>Scrypt</td>\n",
       "      <td>PoW</td>\n",
       "      <td>6.303924e+07</td>\n",
       "      <td>84000000</td>\n",
       "    </tr>\n",
       "    <tr>\n",
       "      <th>10</th>\n",
       "      <td>Dash</td>\n",
       "      <td>X11</td>\n",
       "      <td>PoW/PoS</td>\n",
       "      <td>9.031294e+06</td>\n",
       "      <td>22000000</td>\n",
       "    </tr>\n",
       "    <tr>\n",
       "      <th>11</th>\n",
       "      <td>Monero</td>\n",
       "      <td>CryptoNight-V7</td>\n",
       "      <td>PoW</td>\n",
       "      <td>1.720114e+07</td>\n",
       "      <td>0</td>\n",
       "    </tr>\n",
       "    <tr>\n",
       "      <th>12</th>\n",
       "      <td>Ethereum Classic</td>\n",
       "      <td>Ethash</td>\n",
       "      <td>PoW</td>\n",
       "      <td>1.133597e+08</td>\n",
       "      <td>210000000</td>\n",
       "    </tr>\n",
       "    <tr>\n",
       "      <th>13</th>\n",
       "      <td>ZCash</td>\n",
       "      <td>Equihash</td>\n",
       "      <td>PoW</td>\n",
       "      <td>7.383056e+06</td>\n",
       "      <td>21000000</td>\n",
       "    </tr>\n",
       "    <tr>\n",
       "      <th>14</th>\n",
       "      <td>Bitshares</td>\n",
       "      <td>SHA-512</td>\n",
       "      <td>PoS</td>\n",
       "      <td>2.741570e+09</td>\n",
       "      <td>3600570502</td>\n",
       "    </tr>\n",
       "    <tr>\n",
       "      <th>15</th>\n",
       "      <td>DigiByte</td>\n",
       "      <td>Multiple</td>\n",
       "      <td>PoW</td>\n",
       "      <td>1.140622e+10</td>\n",
       "      <td>21000000000</td>\n",
       "    </tr>\n",
       "    <tr>\n",
       "      <th>16</th>\n",
       "      <td>BitcoinDark</td>\n",
       "      <td>SHA-256</td>\n",
       "      <td>PoW/PoS</td>\n",
       "      <td>1.288862e+06</td>\n",
       "      <td>22000000</td>\n",
       "    </tr>\n",
       "    <tr>\n",
       "      <th>18</th>\n",
       "      <td>Bitstake</td>\n",
       "      <td>X11</td>\n",
       "      <td>PoW/PoS</td>\n",
       "      <td>0.000000e+00</td>\n",
       "      <td>1300000</td>\n",
       "    </tr>\n",
       "  </tbody>\n",
       "</table>\n",
       "</div>"
      ],
      "text/plain": [
       "            CoinName       Algorithm ProofType  TotalCoinsMined  \\\n",
       "0            42 Coin          Scrypt   PoW/PoS     4.199995e+01   \n",
       "2            404Coin          Scrypt   PoW/PoS     1.055185e+09   \n",
       "4                808         SHA-256   PoW/PoS     0.000000e+00   \n",
       "5          EliteCoin             X13   PoW/PoS     2.927942e+10   \n",
       "7            Bitcoin         SHA-256       PoW     1.792718e+07   \n",
       "8           Ethereum          Ethash       PoW     1.076842e+08   \n",
       "9           Litecoin          Scrypt       PoW     6.303924e+07   \n",
       "10              Dash             X11   PoW/PoS     9.031294e+06   \n",
       "11            Monero  CryptoNight-V7       PoW     1.720114e+07   \n",
       "12  Ethereum Classic          Ethash       PoW     1.133597e+08   \n",
       "13             ZCash        Equihash       PoW     7.383056e+06   \n",
       "14         Bitshares         SHA-512       PoS     2.741570e+09   \n",
       "15          DigiByte        Multiple       PoW     1.140622e+10   \n",
       "16       BitcoinDark         SHA-256   PoW/PoS     1.288862e+06   \n",
       "18          Bitstake             X11   PoW/PoS     0.000000e+00   \n",
       "\n",
       "   TotalCoinSupply  \n",
       "0               42  \n",
       "2        532000000  \n",
       "4                0  \n",
       "5     314159265359  \n",
       "7         21000000  \n",
       "8                0  \n",
       "9         84000000  \n",
       "10        22000000  \n",
       "11               0  \n",
       "12       210000000  \n",
       "13        21000000  \n",
       "14      3600570502  \n",
       "15     21000000000  \n",
       "16        22000000  \n",
       "18         1300000  "
      ]
     },
     "execution_count": 45,
     "metadata": {},
     "output_type": "execute_result"
    }
   ],
   "source": [
    "# Remove rows with at least 1 null value\n",
    "crypto_df = crypto_df.dropna()\n",
    "crypto_df.head(15)\n"
   ]
  },
  {
   "cell_type": "code",
   "execution_count": 46,
   "metadata": {},
   "outputs": [
    {
     "data": {
      "text/html": [
       "<div>\n",
       "<style scoped>\n",
       "    .dataframe tbody tr th:only-of-type {\n",
       "        vertical-align: middle;\n",
       "    }\n",
       "\n",
       "    .dataframe tbody tr th {\n",
       "        vertical-align: top;\n",
       "    }\n",
       "\n",
       "    .dataframe thead th {\n",
       "        text-align: right;\n",
       "    }\n",
       "</style>\n",
       "<table border=\"1\" class=\"dataframe\">\n",
       "  <thead>\n",
       "    <tr style=\"text-align: right;\">\n",
       "      <th></th>\n",
       "      <th>CoinName</th>\n",
       "      <th>Algorithm</th>\n",
       "      <th>ProofType</th>\n",
       "      <th>TotalCoinsMined</th>\n",
       "      <th>TotalCoinSupply</th>\n",
       "    </tr>\n",
       "  </thead>\n",
       "  <tbody>\n",
       "    <tr>\n",
       "      <th>0</th>\n",
       "      <td>42 Coin</td>\n",
       "      <td>Scrypt</td>\n",
       "      <td>PoW/PoS</td>\n",
       "      <td>4.199995e+01</td>\n",
       "      <td>42</td>\n",
       "    </tr>\n",
       "    <tr>\n",
       "      <th>2</th>\n",
       "      <td>404Coin</td>\n",
       "      <td>Scrypt</td>\n",
       "      <td>PoW/PoS</td>\n",
       "      <td>1.055185e+09</td>\n",
       "      <td>532000000</td>\n",
       "    </tr>\n",
       "    <tr>\n",
       "      <th>5</th>\n",
       "      <td>EliteCoin</td>\n",
       "      <td>X13</td>\n",
       "      <td>PoW/PoS</td>\n",
       "      <td>2.927942e+10</td>\n",
       "      <td>314159265359</td>\n",
       "    </tr>\n",
       "    <tr>\n",
       "      <th>7</th>\n",
       "      <td>Bitcoin</td>\n",
       "      <td>SHA-256</td>\n",
       "      <td>PoW</td>\n",
       "      <td>1.792718e+07</td>\n",
       "      <td>21000000</td>\n",
       "    </tr>\n",
       "    <tr>\n",
       "      <th>8</th>\n",
       "      <td>Ethereum</td>\n",
       "      <td>Ethash</td>\n",
       "      <td>PoW</td>\n",
       "      <td>1.076842e+08</td>\n",
       "      <td>0</td>\n",
       "    </tr>\n",
       "    <tr>\n",
       "      <th>9</th>\n",
       "      <td>Litecoin</td>\n",
       "      <td>Scrypt</td>\n",
       "      <td>PoW</td>\n",
       "      <td>6.303924e+07</td>\n",
       "      <td>84000000</td>\n",
       "    </tr>\n",
       "    <tr>\n",
       "      <th>10</th>\n",
       "      <td>Dash</td>\n",
       "      <td>X11</td>\n",
       "      <td>PoW/PoS</td>\n",
       "      <td>9.031294e+06</td>\n",
       "      <td>22000000</td>\n",
       "    </tr>\n",
       "    <tr>\n",
       "      <th>11</th>\n",
       "      <td>Monero</td>\n",
       "      <td>CryptoNight-V7</td>\n",
       "      <td>PoW</td>\n",
       "      <td>1.720114e+07</td>\n",
       "      <td>0</td>\n",
       "    </tr>\n",
       "    <tr>\n",
       "      <th>12</th>\n",
       "      <td>Ethereum Classic</td>\n",
       "      <td>Ethash</td>\n",
       "      <td>PoW</td>\n",
       "      <td>1.133597e+08</td>\n",
       "      <td>210000000</td>\n",
       "    </tr>\n",
       "    <tr>\n",
       "      <th>13</th>\n",
       "      <td>ZCash</td>\n",
       "      <td>Equihash</td>\n",
       "      <td>PoW</td>\n",
       "      <td>7.383056e+06</td>\n",
       "      <td>21000000</td>\n",
       "    </tr>\n",
       "    <tr>\n",
       "      <th>14</th>\n",
       "      <td>Bitshares</td>\n",
       "      <td>SHA-512</td>\n",
       "      <td>PoS</td>\n",
       "      <td>2.741570e+09</td>\n",
       "      <td>3600570502</td>\n",
       "    </tr>\n",
       "    <tr>\n",
       "      <th>15</th>\n",
       "      <td>DigiByte</td>\n",
       "      <td>Multiple</td>\n",
       "      <td>PoW</td>\n",
       "      <td>1.140622e+10</td>\n",
       "      <td>21000000000</td>\n",
       "    </tr>\n",
       "    <tr>\n",
       "      <th>16</th>\n",
       "      <td>BitcoinDark</td>\n",
       "      <td>SHA-256</td>\n",
       "      <td>PoW/PoS</td>\n",
       "      <td>1.288862e+06</td>\n",
       "      <td>22000000</td>\n",
       "    </tr>\n",
       "    <tr>\n",
       "      <th>19</th>\n",
       "      <td>PayCoin</td>\n",
       "      <td>SHA-256</td>\n",
       "      <td>PoS</td>\n",
       "      <td>1.199533e+07</td>\n",
       "      <td>12500000</td>\n",
       "    </tr>\n",
       "    <tr>\n",
       "      <th>20</th>\n",
       "      <td>ProsperCoin</td>\n",
       "      <td>Scrypt</td>\n",
       "      <td>PoW</td>\n",
       "      <td>5.768310e+06</td>\n",
       "      <td>21000000</td>\n",
       "    </tr>\n",
       "  </tbody>\n",
       "</table>\n",
       "</div>"
      ],
      "text/plain": [
       "            CoinName       Algorithm ProofType  TotalCoinsMined  \\\n",
       "0            42 Coin          Scrypt   PoW/PoS     4.199995e+01   \n",
       "2            404Coin          Scrypt   PoW/PoS     1.055185e+09   \n",
       "5          EliteCoin             X13   PoW/PoS     2.927942e+10   \n",
       "7            Bitcoin         SHA-256       PoW     1.792718e+07   \n",
       "8           Ethereum          Ethash       PoW     1.076842e+08   \n",
       "9           Litecoin          Scrypt       PoW     6.303924e+07   \n",
       "10              Dash             X11   PoW/PoS     9.031294e+06   \n",
       "11            Monero  CryptoNight-V7       PoW     1.720114e+07   \n",
       "12  Ethereum Classic          Ethash       PoW     1.133597e+08   \n",
       "13             ZCash        Equihash       PoW     7.383056e+06   \n",
       "14         Bitshares         SHA-512       PoS     2.741570e+09   \n",
       "15          DigiByte        Multiple       PoW     1.140622e+10   \n",
       "16       BitcoinDark         SHA-256   PoW/PoS     1.288862e+06   \n",
       "19           PayCoin         SHA-256       PoS     1.199533e+07   \n",
       "20       ProsperCoin          Scrypt       PoW     5.768310e+06   \n",
       "\n",
       "   TotalCoinSupply  \n",
       "0               42  \n",
       "2        532000000  \n",
       "5     314159265359  \n",
       "7         21000000  \n",
       "8                0  \n",
       "9         84000000  \n",
       "10        22000000  \n",
       "11               0  \n",
       "12       210000000  \n",
       "13        21000000  \n",
       "14      3600570502  \n",
       "15     21000000000  \n",
       "16        22000000  \n",
       "19        12500000  \n",
       "20        21000000  "
      ]
     },
     "execution_count": 46,
     "metadata": {},
     "output_type": "execute_result"
    }
   ],
   "source": [
    "# Remove rows with cryptocurrencies having no coins mined\n",
    "crypto_df = crypto_df.loc[crypto_df['TotalCoinsMined'] != 0]\n",
    "crypto_df.head(15)\n"
   ]
  },
  {
   "cell_type": "code",
   "execution_count": 47,
   "metadata": {},
   "outputs": [
    {
     "data": {
      "text/html": [
       "<div>\n",
       "<style scoped>\n",
       "    .dataframe tbody tr th:only-of-type {\n",
       "        vertical-align: middle;\n",
       "    }\n",
       "\n",
       "    .dataframe tbody tr th {\n",
       "        vertical-align: top;\n",
       "    }\n",
       "\n",
       "    .dataframe thead th {\n",
       "        text-align: right;\n",
       "    }\n",
       "</style>\n",
       "<table border=\"1\" class=\"dataframe\">\n",
       "  <thead>\n",
       "    <tr style=\"text-align: right;\">\n",
       "      <th></th>\n",
       "      <th>CoinName</th>\n",
       "      <th>Algorithm</th>\n",
       "      <th>ProofType</th>\n",
       "      <th>TotalCoinsMined</th>\n",
       "      <th>TotalCoinSupply</th>\n",
       "    </tr>\n",
       "  </thead>\n",
       "  <tbody>\n",
       "    <tr>\n",
       "      <th>0</th>\n",
       "      <td>42 Coin</td>\n",
       "      <td>Scrypt</td>\n",
       "      <td>PoW/PoS</td>\n",
       "      <td>4.199995e+01</td>\n",
       "      <td>42</td>\n",
       "    </tr>\n",
       "    <tr>\n",
       "      <th>2</th>\n",
       "      <td>404Coin</td>\n",
       "      <td>Scrypt</td>\n",
       "      <td>PoW/PoS</td>\n",
       "      <td>1.055185e+09</td>\n",
       "      <td>532000000</td>\n",
       "    </tr>\n",
       "    <tr>\n",
       "      <th>5</th>\n",
       "      <td>EliteCoin</td>\n",
       "      <td>X13</td>\n",
       "      <td>PoW/PoS</td>\n",
       "      <td>2.927942e+10</td>\n",
       "      <td>314159265359</td>\n",
       "    </tr>\n",
       "    <tr>\n",
       "      <th>7</th>\n",
       "      <td>Bitcoin</td>\n",
       "      <td>SHA-256</td>\n",
       "      <td>PoW</td>\n",
       "      <td>1.792718e+07</td>\n",
       "      <td>21000000</td>\n",
       "    </tr>\n",
       "    <tr>\n",
       "      <th>8</th>\n",
       "      <td>Ethereum</td>\n",
       "      <td>Ethash</td>\n",
       "      <td>PoW</td>\n",
       "      <td>1.076842e+08</td>\n",
       "      <td>0</td>\n",
       "    </tr>\n",
       "    <tr>\n",
       "      <th>9</th>\n",
       "      <td>Litecoin</td>\n",
       "      <td>Scrypt</td>\n",
       "      <td>PoW</td>\n",
       "      <td>6.303924e+07</td>\n",
       "      <td>84000000</td>\n",
       "    </tr>\n",
       "    <tr>\n",
       "      <th>10</th>\n",
       "      <td>Dash</td>\n",
       "      <td>X11</td>\n",
       "      <td>PoW/PoS</td>\n",
       "      <td>9.031294e+06</td>\n",
       "      <td>22000000</td>\n",
       "    </tr>\n",
       "    <tr>\n",
       "      <th>11</th>\n",
       "      <td>Monero</td>\n",
       "      <td>CryptoNight-V7</td>\n",
       "      <td>PoW</td>\n",
       "      <td>1.720114e+07</td>\n",
       "      <td>0</td>\n",
       "    </tr>\n",
       "    <tr>\n",
       "      <th>12</th>\n",
       "      <td>Ethereum Classic</td>\n",
       "      <td>Ethash</td>\n",
       "      <td>PoW</td>\n",
       "      <td>1.133597e+08</td>\n",
       "      <td>210000000</td>\n",
       "    </tr>\n",
       "    <tr>\n",
       "      <th>13</th>\n",
       "      <td>ZCash</td>\n",
       "      <td>Equihash</td>\n",
       "      <td>PoW</td>\n",
       "      <td>7.383056e+06</td>\n",
       "      <td>21000000</td>\n",
       "    </tr>\n",
       "    <tr>\n",
       "      <th>14</th>\n",
       "      <td>Bitshares</td>\n",
       "      <td>SHA-512</td>\n",
       "      <td>PoS</td>\n",
       "      <td>2.741570e+09</td>\n",
       "      <td>3600570502</td>\n",
       "    </tr>\n",
       "    <tr>\n",
       "      <th>15</th>\n",
       "      <td>DigiByte</td>\n",
       "      <td>Multiple</td>\n",
       "      <td>PoW</td>\n",
       "      <td>1.140622e+10</td>\n",
       "      <td>21000000000</td>\n",
       "    </tr>\n",
       "    <tr>\n",
       "      <th>16</th>\n",
       "      <td>BitcoinDark</td>\n",
       "      <td>SHA-256</td>\n",
       "      <td>PoW/PoS</td>\n",
       "      <td>1.288862e+06</td>\n",
       "      <td>22000000</td>\n",
       "    </tr>\n",
       "    <tr>\n",
       "      <th>19</th>\n",
       "      <td>PayCoin</td>\n",
       "      <td>SHA-256</td>\n",
       "      <td>PoS</td>\n",
       "      <td>1.199533e+07</td>\n",
       "      <td>12500000</td>\n",
       "    </tr>\n",
       "    <tr>\n",
       "      <th>20</th>\n",
       "      <td>ProsperCoin</td>\n",
       "      <td>Scrypt</td>\n",
       "      <td>PoW</td>\n",
       "      <td>5.768310e+06</td>\n",
       "      <td>21000000</td>\n",
       "    </tr>\n",
       "  </tbody>\n",
       "</table>\n",
       "</div>"
      ],
      "text/plain": [
       "            CoinName       Algorithm ProofType  TotalCoinsMined  \\\n",
       "0            42 Coin          Scrypt   PoW/PoS     4.199995e+01   \n",
       "2            404Coin          Scrypt   PoW/PoS     1.055185e+09   \n",
       "5          EliteCoin             X13   PoW/PoS     2.927942e+10   \n",
       "7            Bitcoin         SHA-256       PoW     1.792718e+07   \n",
       "8           Ethereum          Ethash       PoW     1.076842e+08   \n",
       "9           Litecoin          Scrypt       PoW     6.303924e+07   \n",
       "10              Dash             X11   PoW/PoS     9.031294e+06   \n",
       "11            Monero  CryptoNight-V7       PoW     1.720114e+07   \n",
       "12  Ethereum Classic          Ethash       PoW     1.133597e+08   \n",
       "13             ZCash        Equihash       PoW     7.383056e+06   \n",
       "14         Bitshares         SHA-512       PoS     2.741570e+09   \n",
       "15          DigiByte        Multiple       PoW     1.140622e+10   \n",
       "16       BitcoinDark         SHA-256   PoW/PoS     1.288862e+06   \n",
       "19           PayCoin         SHA-256       PoS     1.199533e+07   \n",
       "20       ProsperCoin          Scrypt       PoW     5.768310e+06   \n",
       "\n",
       "   TotalCoinSupply  \n",
       "0               42  \n",
       "2        532000000  \n",
       "5     314159265359  \n",
       "7         21000000  \n",
       "8                0  \n",
       "9         84000000  \n",
       "10        22000000  \n",
       "11               0  \n",
       "12       210000000  \n",
       "13        21000000  \n",
       "14      3600570502  \n",
       "15     21000000000  \n",
       "16        22000000  \n",
       "19        12500000  \n",
       "20        21000000  "
      ]
     },
     "execution_count": 47,
     "metadata": {},
     "output_type": "execute_result"
    }
   ],
   "source": [
    "# Drop rows where there are 'N/A' text values\n",
    "for column in crypto_df:\n",
    "    crypto_df = crypto_df.loc[crypto_df[column] != 'N/A']\n",
    "\n",
    "crypto_df.head(15)\n"
   ]
  },
  {
   "cell_type": "code",
   "execution_count": 48,
   "metadata": {},
   "outputs": [
    {
     "data": {
      "text/html": [
       "<div>\n",
       "<style scoped>\n",
       "    .dataframe tbody tr th:only-of-type {\n",
       "        vertical-align: middle;\n",
       "    }\n",
       "\n",
       "    .dataframe tbody tr th {\n",
       "        vertical-align: top;\n",
       "    }\n",
       "\n",
       "    .dataframe thead th {\n",
       "        text-align: right;\n",
       "    }\n",
       "</style>\n",
       "<table border=\"1\" class=\"dataframe\">\n",
       "  <thead>\n",
       "    <tr style=\"text-align: right;\">\n",
       "      <th></th>\n",
       "      <th>CoinName</th>\n",
       "    </tr>\n",
       "  </thead>\n",
       "  <tbody>\n",
       "    <tr>\n",
       "      <th>0</th>\n",
       "      <td>42 Coin</td>\n",
       "    </tr>\n",
       "    <tr>\n",
       "      <th>2</th>\n",
       "      <td>404Coin</td>\n",
       "    </tr>\n",
       "    <tr>\n",
       "      <th>5</th>\n",
       "      <td>EliteCoin</td>\n",
       "    </tr>\n",
       "    <tr>\n",
       "      <th>7</th>\n",
       "      <td>Bitcoin</td>\n",
       "    </tr>\n",
       "    <tr>\n",
       "      <th>8</th>\n",
       "      <td>Ethereum</td>\n",
       "    </tr>\n",
       "  </tbody>\n",
       "</table>\n",
       "</div>"
      ],
      "text/plain": [
       "    CoinName\n",
       "0    42 Coin\n",
       "2    404Coin\n",
       "5  EliteCoin\n",
       "7    Bitcoin\n",
       "8   Ethereum"
      ]
     },
     "execution_count": 48,
     "metadata": {},
     "output_type": "execute_result"
    }
   ],
   "source": [
    "# Store the 'CoinName'column in its own DataFrame prior to dropping it from crypto_df \n",
    "coin_name_df = crypto_df['CoinName'].to_frame()\n",
    "coin_name_df.head()\n",
    "\n"
   ]
  },
  {
   "cell_type": "code",
   "execution_count": 49,
   "metadata": {},
   "outputs": [],
   "source": [
    "# Drop the 'CoinName' column since it's not going to be used on the clustering algorithm\n",
    "crypto_df.drop(columns = ['CoinName'], inplace=True)\n"
   ]
  },
  {
   "cell_type": "code",
   "execution_count": 50,
   "metadata": {},
   "outputs": [],
   "source": [
    "# Create dummy variables for text features\n",
    "X = pd.get_dummies(crypto_df, columns=['Algorithm', 'ProofType'], drop_first=True)\n"
   ]
  },
  {
   "cell_type": "code",
   "execution_count": 51,
   "metadata": {},
   "outputs": [],
   "source": [
    "# Standardize data\n",
    "X_scaled = StandardScaler().fit_transform(X)"
   ]
  },
  {
   "cell_type": "markdown",
   "metadata": {},
   "source": [
    "### Reducing Dimensions Using PCA"
   ]
  },
  {
   "cell_type": "code",
   "execution_count": 52,
   "metadata": {},
   "outputs": [],
   "source": [
    "# Use PCA to reduce dimensions to 3 principal components\n",
    "pca = PCA(n_components=3)\n",
    "crypto_pca = pca.fit_transform(X_scaled)\n"
   ]
  },
  {
   "cell_type": "code",
   "execution_count": 53,
   "metadata": {},
   "outputs": [
    {
     "data": {
      "text/html": [
       "<div>\n",
       "<style scoped>\n",
       "    .dataframe tbody tr th:only-of-type {\n",
       "        vertical-align: middle;\n",
       "    }\n",
       "\n",
       "    .dataframe tbody tr th {\n",
       "        vertical-align: top;\n",
       "    }\n",
       "\n",
       "    .dataframe thead th {\n",
       "        text-align: right;\n",
       "    }\n",
       "</style>\n",
       "<table border=\"1\" class=\"dataframe\">\n",
       "  <thead>\n",
       "    <tr style=\"text-align: right;\">\n",
       "      <th></th>\n",
       "      <th>PC 1</th>\n",
       "      <th>PC 2</th>\n",
       "      <th>PC 3</th>\n",
       "    </tr>\n",
       "  </thead>\n",
       "  <tbody>\n",
       "    <tr>\n",
       "      <th>0</th>\n",
       "      <td>-0.346428</td>\n",
       "      <td>1.002279</td>\n",
       "      <td>-0.607274</td>\n",
       "    </tr>\n",
       "    <tr>\n",
       "      <th>2</th>\n",
       "      <td>-0.329802</td>\n",
       "      <td>1.002337</td>\n",
       "      <td>-0.607749</td>\n",
       "    </tr>\n",
       "    <tr>\n",
       "      <th>5</th>\n",
       "      <td>2.287451</td>\n",
       "      <td>1.654254</td>\n",
       "      <td>-0.707145</td>\n",
       "    </tr>\n",
       "    <tr>\n",
       "      <th>7</th>\n",
       "      <td>-0.139587</td>\n",
       "      <td>-1.319224</td>\n",
       "      <td>0.189272</td>\n",
       "    </tr>\n",
       "    <tr>\n",
       "      <th>8</th>\n",
       "      <td>-0.147342</td>\n",
       "      <td>-2.049479</td>\n",
       "      <td>0.408598</td>\n",
       "    </tr>\n",
       "  </tbody>\n",
       "</table>\n",
       "</div>"
      ],
      "text/plain": [
       "       PC 1      PC 2      PC 3\n",
       "0 -0.346428  1.002279 -0.607274\n",
       "2 -0.329802  1.002337 -0.607749\n",
       "5  2.287451  1.654254 -0.707145\n",
       "7 -0.139587 -1.319224  0.189272\n",
       "8 -0.147342 -2.049479  0.408598"
      ]
     },
     "execution_count": 53,
     "metadata": {},
     "output_type": "execute_result"
    }
   ],
   "source": [
    "# Create a DataFrame with the principal components data\n",
    "pca_df = pd.DataFrame(data=crypto_pca,\n",
    "                            columns=['PC 1', 'PC 2', 'PC 3'],\n",
    "                            index=crypto_df.index\n",
    "                            )\n",
    "pca_df.head()\n",
    "\n"
   ]
  },
  {
   "cell_type": "markdown",
   "metadata": {},
   "source": [
    "### Clustering Crytocurrencies Using K-Means\n",
    "\n",
    "#### Finding the Best Value for `k` Using the Elbow Curve"
   ]
  },
  {
   "cell_type": "code",
   "execution_count": 54,
   "metadata": {},
   "outputs": [
    {
     "name": "stderr",
     "output_type": "stream",
     "text": [
      "C:\\Users\\ferna_nlq0xu3\\anaconda3\\lib\\site-packages\\sklearn\\cluster\\_kmeans.py:881: UserWarning: KMeans is known to have a memory leak on Windows with MKL, when there are less chunks than available threads. You can avoid it by setting the environment variable OMP_NUM_THREADS=3.\n",
      "  warnings.warn(\n"
     ]
    },
    {
     "data": {},
     "metadata": {},
     "output_type": "display_data"
    },
    {
     "data": {
      "application/vnd.holoviews_exec.v0+json": "",
      "text/html": [
       "<div id='1002'>\n",
       "\n",
       "\n",
       "\n",
       "\n",
       "\n",
       "  <div class=\"bk-root\" id=\"47595df2-7eba-45f8-a127-39647a2445ab\" data-root-id=\"1002\"></div>\n",
       "</div>\n",
       "<script type=\"application/javascript\">(function(root) {\n",
       "  function embed_document(root) {\n",
       "    var docs_json = {\"f8843cfa-4b8b-40f8-889a-a88cc866acdb\":{\"defs\":[],\"roots\":{\"references\":[{\"attributes\":{\"text\":\"Elbow Curve\",\"text_color\":\"black\",\"text_font_size\":\"12pt\"},\"id\":\"1008\",\"type\":\"Title\"},{\"attributes\":{},\"id\":\"1014\",\"type\":\"LinearScale\"},{\"attributes\":{\"margin\":[5,5,5,5],\"name\":\"HSpacer01630\",\"sizing_mode\":\"stretch_width\"},\"id\":\"1073\",\"type\":\"Spacer\"},{\"attributes\":{},\"id\":\"1012\",\"type\":\"LinearScale\"},{\"attributes\":{\"end\":10.0,\"reset_end\":10.0,\"reset_start\":1.0,\"start\":1.0,\"tags\":[[[\"k\",\"k\",null]]]},\"id\":\"1004\",\"type\":\"Range1d\"},{\"attributes\":{},\"id\":\"1025\",\"type\":\"PanTool\"},{\"attributes\":{\"axis\":{\"id\":\"1016\"},\"grid_line_color\":null,\"ticker\":null},\"id\":\"1019\",\"type\":\"Grid\"},{\"attributes\":{},\"id\":\"1063\",\"type\":\"UnionRenderers\"},{\"attributes\":{\"axis\":{\"id\":\"1020\"},\"dimension\":1,\"grid_line_color\":null,\"ticker\":null},\"id\":\"1023\",\"type\":\"Grid\"},{\"attributes\":{\"children\":[{\"id\":\"1003\"},{\"id\":\"1007\"},{\"id\":\"1073\"}],\"margin\":[0,0,0,0],\"name\":\"Row01625\",\"tags\":[\"embedded\"]},\"id\":\"1002\",\"type\":\"Row\"},{\"attributes\":{\"axis_label\":\"inertia\",\"formatter\":{\"id\":\"1052\"},\"major_label_policy\":{\"id\":\"1054\"},\"ticker\":{\"id\":\"1021\"}},\"id\":\"1020\",\"type\":\"LinearAxis\"},{\"attributes\":{},\"id\":\"1021\",\"type\":\"BasicTicker\"},{\"attributes\":{},\"id\":\"1026\",\"type\":\"WheelZoomTool\"},{\"attributes\":{\"line_color\":\"#30a2da\",\"line_width\":2,\"x\":{\"field\":\"k\"},\"y\":{\"field\":\"inertia\"}},\"id\":\"1040\",\"type\":\"Line\"},{\"attributes\":{},\"id\":\"1024\",\"type\":\"SaveTool\"},{\"attributes\":{\"overlay\":{\"id\":\"1029\"}},\"id\":\"1027\",\"type\":\"BoxZoomTool\"},{\"attributes\":{},\"id\":\"1028\",\"type\":\"ResetTool\"},{\"attributes\":{\"active_multi\":null,\"tools\":[{\"id\":\"1006\"},{\"id\":\"1024\"},{\"id\":\"1025\"},{\"id\":\"1026\"},{\"id\":\"1027\"},{\"id\":\"1028\"}]},\"id\":\"1030\",\"type\":\"Toolbar\"},{\"attributes\":{\"line_color\":\"#30a2da\",\"line_width\":2,\"x\":{\"field\":\"k\"},\"y\":{\"field\":\"inertia\"}},\"id\":\"1045\",\"type\":\"Line\"},{\"attributes\":{\"ticks\":[1,2,3,4,5,6,7,8,9,10]},\"id\":\"1046\",\"type\":\"FixedTicker\"},{\"attributes\":{\"below\":[{\"id\":\"1016\"}],\"center\":[{\"id\":\"1019\"},{\"id\":\"1023\"}],\"height\":300,\"left\":[{\"id\":\"1020\"}],\"margin\":[5,5,5,5],\"min_border_bottom\":10,\"min_border_left\":10,\"min_border_right\":10,\"min_border_top\":10,\"renderers\":[{\"id\":\"1043\"}],\"sizing_mode\":\"fixed\",\"title\":{\"id\":\"1008\"},\"toolbar\":{\"id\":\"1030\"},\"width\":700,\"x_range\":{\"id\":\"1004\"},\"x_scale\":{\"id\":\"1012\"},\"y_range\":{\"id\":\"1005\"},\"y_scale\":{\"id\":\"1014\"}},\"id\":\"1007\",\"subtype\":\"Figure\",\"type\":\"Plot\"},{\"attributes\":{},\"id\":\"1054\",\"type\":\"AllLabels\"},{\"attributes\":{\"source\":{\"id\":\"1037\"}},\"id\":\"1044\",\"type\":\"CDSView\"},{\"attributes\":{\"line_alpha\":0.1,\"line_color\":\"#30a2da\",\"line_width\":2,\"x\":{\"field\":\"k\"},\"y\":{\"field\":\"inertia\"}},\"id\":\"1041\",\"type\":\"Line\"},{\"attributes\":{\"axis_label\":\"k\",\"formatter\":{\"id\":\"1047\"},\"major_label_policy\":{\"id\":\"1049\"},\"ticker\":{\"id\":\"1046\"}},\"id\":\"1016\",\"type\":\"LinearAxis\"},{\"attributes\":{\"line_alpha\":0.2,\"line_color\":\"#30a2da\",\"line_width\":2,\"x\":{\"field\":\"k\"},\"y\":{\"field\":\"inertia\"}},\"id\":\"1042\",\"type\":\"Line\"},{\"attributes\":{},\"id\":\"1049\",\"type\":\"AllLabels\"},{\"attributes\":{\"data\":{\"inertia\":{\"__ndarray__\":\"Op/xdCR8rEDEtC9LwWSjQEQ+53Rh/ZZApzqfwy1MfkCTg/gcvnlzQLC/eAfpNm9ARQtscWi9aEB89sel6sJkQFaF5dgtYV1AYHurqntCV0A=\",\"dtype\":\"float64\",\"order\":\"little\",\"shape\":[10]},\"k\":[1,2,3,4,5,6,7,8,9,10]},\"selected\":{\"id\":\"1038\"},\"selection_policy\":{\"id\":\"1063\"}},\"id\":\"1037\",\"type\":\"ColumnDataSource\"},{\"attributes\":{\"data_source\":{\"id\":\"1037\"},\"glyph\":{\"id\":\"1040\"},\"hover_glyph\":null,\"muted_glyph\":{\"id\":\"1042\"},\"nonselection_glyph\":{\"id\":\"1041\"},\"selection_glyph\":{\"id\":\"1045\"},\"view\":{\"id\":\"1044\"}},\"id\":\"1043\",\"type\":\"GlyphRenderer\"},{\"attributes\":{\"margin\":[5,5,5,5],\"name\":\"HSpacer01629\",\"sizing_mode\":\"stretch_width\"},\"id\":\"1003\",\"type\":\"Spacer\"},{\"attributes\":{},\"id\":\"1038\",\"type\":\"Selection\"},{\"attributes\":{},\"id\":\"1047\",\"type\":\"BasicTickFormatter\"},{\"attributes\":{\"bottom_units\":\"screen\",\"fill_alpha\":0.5,\"fill_color\":\"lightgrey\",\"left_units\":\"screen\",\"level\":\"overlay\",\"line_alpha\":1.0,\"line_color\":\"black\",\"line_dash\":[4,4],\"line_width\":2,\"right_units\":\"screen\",\"syncable\":false,\"top_units\":\"screen\"},\"id\":\"1029\",\"type\":\"BoxAnnotation\"},{\"attributes\":{\"end\":4001.3744453802196,\"reset_end\":4001.3744453802196,\"reset_start\":-262.2644426544758,\"start\":-262.2644426544758,\"tags\":[[[\"inertia\",\"inertia\",null]]]},\"id\":\"1005\",\"type\":\"Range1d\"},{\"attributes\":{},\"id\":\"1052\",\"type\":\"BasicTickFormatter\"},{\"attributes\":{\"callback\":null,\"renderers\":[{\"id\":\"1043\"}],\"tags\":[\"hv_created\"],\"tooltips\":[[\"k\",\"@{k}\"],[\"inertia\",\"@{inertia}\"]]},\"id\":\"1006\",\"type\":\"HoverTool\"}],\"root_ids\":[\"1002\"]},\"title\":\"Bokeh Application\",\"version\":\"2.3.2\"}};\n",
       "    var render_items = [{\"docid\":\"f8843cfa-4b8b-40f8-889a-a88cc866acdb\",\"root_ids\":[\"1002\"],\"roots\":{\"1002\":\"47595df2-7eba-45f8-a127-39647a2445ab\"}}];\n",
       "    root.Bokeh.embed.embed_items_notebook(docs_json, render_items);\n",
       "  }\n",
       "  if (root.Bokeh !== undefined && root.Bokeh.Panel !== undefined) {\n",
       "    embed_document(root);\n",
       "  } else {\n",
       "    var attempts = 0;\n",
       "    var timer = setInterval(function(root) {\n",
       "      if (root.Bokeh !== undefined && root.Bokeh.Panel !== undefined) {\n",
       "        clearInterval(timer);\n",
       "        embed_document(root);\n",
       "      } else if (document.readyState == \"complete\") {\n",
       "        attempts++;\n",
       "        if (attempts > 100) {\n",
       "          clearInterval(timer);\n",
       "          console.log(\"Bokeh: ERROR: Unable to run BokehJS code because BokehJS library is missing\");\n",
       "        }\n",
       "      }\n",
       "    }, 10, root)\n",
       "  }\n",
       "})(window);</script>"
      ],
      "text/plain": [
       ":Curve   [k]   (inertia)"
      ]
     },
     "execution_count": 54,
     "metadata": {
      "application/vnd.holoviews_exec.v0+json": {
       "id": "1002"
      }
     },
     "output_type": "execute_result"
    }
   ],
   "source": [
    "inertia = []\n",
    "k = list(range(1, 11))\n",
    "\n",
    "# Calculate the inertia for the range of k values\n",
    "for i in k:\n",
    "    km = KMeans(n_clusters=i, random_state=6)\n",
    "    km.fit(pca_df)\n",
    "    inertia.append(km.inertia_)\n",
    "\n",
    "\n",
    "# Create the Elbow Curve using hvPlot\n",
    "elbow_data = {'k': k, 'inertia': inertia}\n",
    "elbow_df = pd.DataFrame(elbow_data)\n",
    "elbow_df.hvplot.line(x='k', y='inertia',\n",
    "                     title='Elbow Curve',\n",
    "                     xticks=k)\n",
    "\n"
   ]
  },
  {
   "cell_type": "markdown",
   "metadata": {},
   "source": [
    "Running K-Means with `k=<your best value for k here>`"
   ]
  },
  {
   "cell_type": "code",
   "execution_count": 56,
   "metadata": {},
   "outputs": [
    {
     "data": {
      "text/html": [
       "<div>\n",
       "<style scoped>\n",
       "    .dataframe tbody tr th:only-of-type {\n",
       "        vertical-align: middle;\n",
       "    }\n",
       "\n",
       "    .dataframe tbody tr th {\n",
       "        vertical-align: top;\n",
       "    }\n",
       "\n",
       "    .dataframe thead th {\n",
       "        text-align: right;\n",
       "    }\n",
       "</style>\n",
       "<table border=\"1\" class=\"dataframe\">\n",
       "  <thead>\n",
       "    <tr style=\"text-align: right;\">\n",
       "      <th></th>\n",
       "      <th>Algorithm</th>\n",
       "      <th>ProofType</th>\n",
       "      <th>TotalCoinsMined</th>\n",
       "      <th>TotalCoinSupply</th>\n",
       "      <th>CoinName</th>\n",
       "      <th>PC 1</th>\n",
       "      <th>PC 2</th>\n",
       "      <th>PC 3</th>\n",
       "      <th>class</th>\n",
       "    </tr>\n",
       "  </thead>\n",
       "  <tbody>\n",
       "    <tr>\n",
       "      <th>0</th>\n",
       "      <td>Scrypt</td>\n",
       "      <td>PoW/PoS</td>\n",
       "      <td>4.199995e+01</td>\n",
       "      <td>42</td>\n",
       "      <td>42 Coin</td>\n",
       "      <td>-0.346428</td>\n",
       "      <td>1.002279</td>\n",
       "      <td>-0.607274</td>\n",
       "      <td>0</td>\n",
       "    </tr>\n",
       "    <tr>\n",
       "      <th>2</th>\n",
       "      <td>Scrypt</td>\n",
       "      <td>PoW/PoS</td>\n",
       "      <td>1.055185e+09</td>\n",
       "      <td>532000000</td>\n",
       "      <td>404Coin</td>\n",
       "      <td>-0.329802</td>\n",
       "      <td>1.002337</td>\n",
       "      <td>-0.607749</td>\n",
       "      <td>0</td>\n",
       "    </tr>\n",
       "    <tr>\n",
       "      <th>5</th>\n",
       "      <td>X13</td>\n",
       "      <td>PoW/PoS</td>\n",
       "      <td>2.927942e+10</td>\n",
       "      <td>314159265359</td>\n",
       "      <td>EliteCoin</td>\n",
       "      <td>2.287451</td>\n",
       "      <td>1.654254</td>\n",
       "      <td>-0.707145</td>\n",
       "      <td>0</td>\n",
       "    </tr>\n",
       "    <tr>\n",
       "      <th>7</th>\n",
       "      <td>SHA-256</td>\n",
       "      <td>PoW</td>\n",
       "      <td>1.792718e+07</td>\n",
       "      <td>21000000</td>\n",
       "      <td>Bitcoin</td>\n",
       "      <td>-0.139587</td>\n",
       "      <td>-1.319224</td>\n",
       "      <td>0.189272</td>\n",
       "      <td>1</td>\n",
       "    </tr>\n",
       "    <tr>\n",
       "      <th>8</th>\n",
       "      <td>Ethash</td>\n",
       "      <td>PoW</td>\n",
       "      <td>1.076842e+08</td>\n",
       "      <td>0</td>\n",
       "      <td>Ethereum</td>\n",
       "      <td>-0.147342</td>\n",
       "      <td>-2.049479</td>\n",
       "      <td>0.408598</td>\n",
       "      <td>1</td>\n",
       "    </tr>\n",
       "  </tbody>\n",
       "</table>\n",
       "</div>"
      ],
      "text/plain": [
       "  Algorithm ProofType  TotalCoinsMined TotalCoinSupply   CoinName      PC 1  \\\n",
       "0    Scrypt   PoW/PoS     4.199995e+01              42    42 Coin -0.346428   \n",
       "2    Scrypt   PoW/PoS     1.055185e+09       532000000    404Coin -0.329802   \n",
       "5       X13   PoW/PoS     2.927942e+10    314159265359  EliteCoin  2.287451   \n",
       "7   SHA-256       PoW     1.792718e+07        21000000    Bitcoin -0.139587   \n",
       "8    Ethash       PoW     1.076842e+08               0   Ethereum -0.147342   \n",
       "\n",
       "       PC 2      PC 3  class  \n",
       "0  1.002279 -0.607274      0  \n",
       "2  1.002337 -0.607749      0  \n",
       "5  1.654254 -0.707145      0  \n",
       "7 -1.319224  0.189272      1  \n",
       "8 -2.049479  0.408598      1  "
      ]
     },
     "execution_count": 56,
     "metadata": {},
     "output_type": "execute_result"
    }
   ],
   "source": [
    "# Initialize the K-Means model\n",
    "model = KMeans(n_clusters=4, random_state=0)\n",
    "\n",
    "# Fit the model\n",
    "model.fit(pca_df)\n",
    "\n",
    "# Predict clusters\n",
    "predictions = model.predict(pca_df)\n",
    "pca_df['class'] = model.labels_\n",
    "\n",
    "# Create a new DataFrame including predicted clusters and cryptocurrencies features\n",
    "clustered_df = pd.concat([crypto_df, coin_name_df, pca_df], axis=1)\n",
    "clustered_df.head()\n"
   ]
  },
  {
   "cell_type": "markdown",
   "metadata": {},
   "source": [
    "### Visualizing Results\n",
    "\n",
    "#### 3D-Scatter with Clusters"
   ]
  },
  {
   "cell_type": "code",
   "execution_count": 59,
   "metadata": {},
   "outputs": [
    {
     "data": {
      "application/vnd.plotly.v1+json": {
       "config": {
        "plotlyServerURL": "https://plot.ly"
       },
       "data": [
        {
         "customdata": [
          [
           "Scrypt"
          ],
          [
           "Scrypt"
          ],
          [
           "X13"
          ],
          [
           "SHA-256"
          ],
          [
           "Ethash"
          ],
          [
           "Scrypt"
          ],
          [
           "X11"
          ],
          [
           "CryptoNight-V7"
          ],
          [
           "Ethash"
          ],
          [
           "Equihash"
          ],
          [
           "SHA-512"
          ],
          [
           "Multiple"
          ],
          [
           "SHA-256"
          ],
          [
           "SHA-256"
          ],
          [
           "Scrypt"
          ],
          [
           "X15"
          ],
          [
           "X11"
          ],
          [
           "Scrypt"
          ],
          [
           "Scrypt"
          ],
          [
           "Scrypt"
          ],
          [
           "Multiple"
          ],
          [
           "Scrypt"
          ],
          [
           "SHA-256"
          ],
          [
           "Scrypt"
          ],
          [
           "Scrypt"
          ],
          [
           "Scrypt"
          ],
          [
           "Quark"
          ],
          [
           "Groestl"
          ],
          [
           "Scrypt"
          ],
          [
           "Scrypt"
          ],
          [
           "Scrypt"
          ],
          [
           "Scrypt"
          ],
          [
           "Scrypt"
          ],
          [
           "X11"
          ],
          [
           "Scrypt"
          ],
          [
           "Groestl"
          ],
          [
           "Multiple"
          ],
          [
           "SHA-256"
          ],
          [
           "Scrypt"
          ],
          [
           "Scrypt"
          ],
          [
           "Scrypt"
          ],
          [
           "Scrypt"
          ],
          [
           "PoS"
          ],
          [
           "Scrypt"
          ],
          [
           "Scrypt"
          ],
          [
           "NeoScrypt"
          ],
          [
           "Scrypt"
          ],
          [
           "Scrypt"
          ],
          [
           "Scrypt"
          ],
          [
           "Scrypt"
          ],
          [
           "X11"
          ],
          [
           "Scrypt"
          ],
          [
           "X11"
          ],
          [
           "SHA-256"
          ],
          [
           "Scrypt"
          ],
          [
           "Scrypt"
          ],
          [
           "Scrypt"
          ],
          [
           "SHA3"
          ],
          [
           "Scrypt"
          ],
          [
           "HybridScryptHash256"
          ],
          [
           "Scrypt"
          ],
          [
           "Scrypt"
          ],
          [
           "SHA-256"
          ],
          [
           "Scrypt"
          ],
          [
           "X13"
          ],
          [
           "Scrypt"
          ],
          [
           "SHA-256"
          ],
          [
           "Scrypt"
          ],
          [
           "X13"
          ],
          [
           "NeoScrypt"
          ],
          [
           "Scrypt"
          ],
          [
           "Scrypt"
          ],
          [
           "Scrypt"
          ],
          [
           "Scrypt"
          ],
          [
           "Scrypt"
          ],
          [
           "Scrypt"
          ],
          [
           "X11"
          ],
          [
           "X11"
          ],
          [
           "SHA-256"
          ],
          [
           "Multiple"
          ],
          [
           "SHA-256"
          ],
          [
           "PHI1612"
          ],
          [
           "X11"
          ],
          [
           "SHA-256"
          ],
          [
           "SHA-256"
          ],
          [
           "SHA-256"
          ],
          [
           "X11"
          ],
          [
           "Scrypt"
          ],
          [
           "Scrypt"
          ],
          [
           "Scrypt"
          ],
          [
           "Scrypt"
          ],
          [
           "Lyra2REv2"
          ],
          [
           "Scrypt"
          ],
          [
           "X11"
          ],
          [
           "Multiple"
          ],
          [
           "SHA-256"
          ],
          [
           "X13"
          ],
          [
           "Scrypt"
          ],
          [
           "CryptoNight"
          ],
          [
           "CryptoNight"
          ],
          [
           "Shabal256"
          ],
          [
           "Counterparty"
          ],
          [
           "Scrypt"
          ],
          [
           "SHA-256"
          ],
          [
           "Groestl"
          ],
          [
           "Scrypt"
          ],
          [
           "Scrypt"
          ],
          [
           "Scrypt"
          ],
          [
           "X13"
          ],
          [
           "Scrypt"
          ],
          [
           "Scrypt"
          ],
          [
           "Scrypt"
          ],
          [
           "Scrypt"
          ],
          [
           "X13"
          ],
          [
           "Scrypt"
          ],
          [
           "Stanford Folding"
          ],
          [
           "X11"
          ],
          [
           "Multiple"
          ],
          [
           "QuBit"
          ],
          [
           "Scrypt"
          ],
          [
           "Scrypt"
          ],
          [
           "Scrypt"
          ],
          [
           "M7 POW"
          ],
          [
           "Scrypt"
          ],
          [
           "SHA-256"
          ],
          [
           "Scrypt"
          ],
          [
           "X11"
          ],
          [
           "SHA3"
          ],
          [
           "X11"
          ],
          [
           "Lyra2RE"
          ],
          [
           "SHA-256"
          ],
          [
           "QUAIT"
          ],
          [
           "X11"
          ],
          [
           "X11"
          ],
          [
           "Scrypt"
          ],
          [
           "Scrypt"
          ],
          [
           "Scrypt"
          ],
          [
           "Ethash"
          ],
          [
           "X13"
          ],
          [
           "Blake2b"
          ],
          [
           "SHA-256"
          ],
          [
           "X15"
          ],
          [
           "X11"
          ],
          [
           "SHA-256"
          ],
          [
           "BLAKE256"
          ],
          [
           "Scrypt"
          ],
          [
           "1GB AES Pattern Search"
          ],
          [
           "SHA-256"
          ],
          [
           "X11"
          ],
          [
           "Scrypt"
          ],
          [
           "SHA-256"
          ],
          [
           "SHA-256"
          ],
          [
           "NIST5"
          ],
          [
           "Scrypt"
          ],
          [
           "Scrypt"
          ],
          [
           "X11"
          ],
          [
           "Dagger"
          ],
          [
           "Scrypt"
          ],
          [
           "X11GOST"
          ],
          [
           "X11"
          ],
          [
           "Scrypt"
          ],
          [
           "SHA-256"
          ],
          [
           "Scrypt"
          ],
          [
           "PoS"
          ],
          [
           "Scrypt"
          ],
          [
           "X11"
          ],
          [
           "X11"
          ],
          [
           "SHA-256"
          ],
          [
           "SHA-256"
          ],
          [
           "NIST5"
          ],
          [
           "X11"
          ],
          [
           "Scrypt"
          ],
          [
           "POS 3.0"
          ],
          [
           "Scrypt"
          ],
          [
           "Scrypt"
          ],
          [
           "Scrypt"
          ],
          [
           "X13"
          ],
          [
           "X11"
          ],
          [
           "X11"
          ],
          [
           "Equihash"
          ],
          [
           "X11"
          ],
          [
           "Scrypt"
          ],
          [
           "CryptoNight"
          ],
          [
           "SHA-256"
          ],
          [
           "SHA-256"
          ],
          [
           "X11"
          ],
          [
           "Scrypt"
          ],
          [
           "Multiple"
          ],
          [
           "Scrypt"
          ],
          [
           "Scrypt"
          ],
          [
           "Scrypt"
          ],
          [
           "SHA-256"
          ],
          [
           "Scrypt"
          ],
          [
           "Scrypt"
          ],
          [
           "SHA-256D"
          ],
          [
           "PoS"
          ],
          [
           "Scrypt"
          ],
          [
           "X11"
          ],
          [
           "Lyra2Z"
          ],
          [
           "PoS"
          ],
          [
           "X13"
          ],
          [
           "X14"
          ],
          [
           "PoS"
          ],
          [
           "SHA-256D"
          ],
          [
           "Ethash"
          ],
          [
           "Equihash"
          ],
          [
           "DPoS"
          ],
          [
           "X11"
          ],
          [
           "Scrypt"
          ],
          [
           "X11"
          ],
          [
           "X13"
          ],
          [
           "X11"
          ],
          [
           "PoS"
          ],
          [
           "Scrypt"
          ],
          [
           "Scrypt"
          ],
          [
           "X11"
          ],
          [
           "PoS"
          ],
          [
           "X11"
          ],
          [
           "SHA-256"
          ],
          [
           "Scrypt"
          ],
          [
           "X11"
          ],
          [
           "Scrypt"
          ],
          [
           "Scrypt"
          ],
          [
           "X11"
          ],
          [
           "CryptoNight"
          ],
          [
           "Scrypt"
          ],
          [
           "Scrypt"
          ],
          [
           "Scrypt"
          ],
          [
           "Scrypt"
          ],
          [
           "Quark"
          ],
          [
           "QuBit"
          ],
          [
           "Scrypt"
          ],
          [
           "CryptoNight"
          ],
          [
           "Lyra2RE"
          ],
          [
           "Scrypt"
          ],
          [
           "SHA-256"
          ],
          [
           "X11"
          ],
          [
           "Scrypt"
          ],
          [
           "X11"
          ],
          [
           "Scrypt"
          ],
          [
           "CryptoNight-V7"
          ],
          [
           "Scrypt"
          ],
          [
           "Scrypt"
          ],
          [
           "Scrypt"
          ],
          [
           "X13"
          ],
          [
           "X11"
          ],
          [
           "Equihash"
          ],
          [
           "Scrypt"
          ],
          [
           "Scrypt"
          ],
          [
           "Lyra2RE"
          ],
          [
           "Scrypt"
          ],
          [
           "Dagger-Hashimoto"
          ],
          [
           "X11"
          ],
          [
           "Blake2S"
          ],
          [
           "X11"
          ],
          [
           "Scrypt"
          ],
          [
           "PoS"
          ],
          [
           "X11"
          ],
          [
           "NIST5"
          ],
          [
           "PoS"
          ],
          [
           "X11"
          ],
          [
           "Scrypt"
          ],
          [
           "Scrypt"
          ],
          [
           "Scrypt"
          ],
          [
           "SHA-256"
          ],
          [
           "X11"
          ],
          [
           "Scrypt"
          ],
          [
           "Scrypt"
          ],
          [
           "SHA-256"
          ],
          [
           "PoS"
          ],
          [
           "Scrypt"
          ],
          [
           "X15"
          ],
          [
           "SHA-256"
          ],
          [
           "Scrypt"
          ],
          [
           "POS 3.0"
          ],
          [
           "CryptoNight-V7"
          ],
          [
           "536"
          ],
          [
           "Argon2d"
          ],
          [
           "Blake2b"
          ],
          [
           "Cloverhash"
          ],
          [
           "CryptoNight"
          ],
          [
           "NIST5"
          ],
          [
           "X11"
          ],
          [
           "NIST5"
          ],
          [
           "Skein"
          ],
          [
           "Scrypt"
          ],
          [
           "X13"
          ],
          [
           "Scrypt"
          ],
          [
           "X11"
          ],
          [
           "X11"
          ],
          [
           "Scrypt"
          ],
          [
           "CryptoNight"
          ],
          [
           "X13"
          ],
          [
           "Time Travel"
          ],
          [
           "Scrypt"
          ],
          [
           "Keccak"
          ],
          [
           "SkunkHash v2 Raptor"
          ],
          [
           "X11"
          ],
          [
           "Skein"
          ],
          [
           "SHA-256"
          ],
          [
           "X11"
          ],
          [
           "Scrypt"
          ],
          [
           "VeChainThor Authority"
          ],
          [
           "Scrypt"
          ],
          [
           "PoS"
          ],
          [
           "Scrypt"
          ],
          [
           "Scrypt"
          ],
          [
           "Scrypt"
          ],
          [
           "Scrypt"
          ],
          [
           "Scrypt"
          ],
          [
           "Scrypt"
          ],
          [
           "Scrypt"
          ],
          [
           "CryptoNight"
          ],
          [
           "SHA-512"
          ],
          [
           "Ouroboros"
          ],
          [
           "X11"
          ],
          [
           "Equihash"
          ],
          [
           "NeoScrypt"
          ],
          [
           "X11"
          ],
          [
           "Scrypt"
          ],
          [
           "NeoScrypt"
          ],
          [
           "Lyra2REv2"
          ],
          [
           "Equihash"
          ],
          [
           "Scrypt"
          ],
          [
           "SHA-256"
          ],
          [
           "NIST5"
          ],
          [
           "PHI1612"
          ],
          [
           "Dagger"
          ],
          [
           "Scrypt"
          ],
          [
           "Quark"
          ],
          [
           "Scrypt"
          ],
          [
           "POS 2.0"
          ],
          [
           "Scrypt"
          ],
          [
           "SHA-256"
          ],
          [
           "X11"
          ],
          [
           "NeoScrypt"
          ],
          [
           "Ethash"
          ],
          [
           "NeoScrypt"
          ],
          [
           "X11"
          ],
          [
           "DPoS"
          ],
          [
           "NIST5"
          ],
          [
           "X13"
          ],
          [
           "Multiple"
          ],
          [
           "Scrypt"
          ],
          [
           "CryptoNight"
          ],
          [
           "CryptoNight"
          ],
          [
           "Ethash"
          ],
          [
           "NIST5"
          ],
          [
           "Quark"
          ],
          [
           "X11"
          ],
          [
           "CryptoNight-V7"
          ],
          [
           "Scrypt"
          ],
          [
           "Scrypt"
          ],
          [
           "Scrypt"
          ],
          [
           "X11"
          ],
          [
           "BLAKE256"
          ],
          [
           "X11"
          ],
          [
           "NeoScrypt"
          ],
          [
           "Quark"
          ],
          [
           "NeoScrypt"
          ],
          [
           "Scrypt"
          ],
          [
           "Scrypt"
          ],
          [
           "Scrypt"
          ],
          [
           "X11"
          ],
          [
           "X11"
          ],
          [
           "SHA-256"
          ],
          [
           "C11"
          ],
          [
           "POS 3.0"
          ],
          [
           "Ethash"
          ],
          [
           "Scrypt"
          ],
          [
           "CryptoNight"
          ],
          [
           "SkunkHash"
          ],
          [
           "Scrypt"
          ],
          [
           "CryptoNight"
          ],
          [
           "Scrypt"
          ],
          [
           "Dagger"
          ],
          [
           "Lyra2REv2"
          ],
          [
           "X13"
          ],
          [
           "Proof-of-BibleHash"
          ],
          [
           "SHA-256 + Hive"
          ],
          [
           "Scrypt"
          ],
          [
           "Scrypt"
          ],
          [
           "X11"
          ],
          [
           "C11"
          ],
          [
           "Proof-of-Authority"
          ],
          [
           "X11"
          ],
          [
           "XEVAN"
          ],
          [
           "Scrypt"
          ],
          [
           "VBFT"
          ],
          [
           "Ethash"
          ],
          [
           "CryptoNight"
          ],
          [
           "Scrypt"
          ],
          [
           "IMesh"
          ],
          [
           "NIST5"
          ],
          [
           "Scrypt"
          ],
          [
           "Scrypt"
          ],
          [
           "Equihash"
          ],
          [
           "Scrypt"
          ],
          [
           "Lyra2Z"
          ],
          [
           "Green Protocol"
          ],
          [
           "PoS"
          ],
          [
           "Scrypt"
          ],
          [
           "Semux BFT consensus"
          ],
          [
           "X11"
          ],
          [
           "Quark"
          ],
          [
           "PoS"
          ],
          [
           "CryptoNight"
          ],
          [
           "X16R"
          ],
          [
           "Scrypt"
          ],
          [
           "NIST5"
          ],
          [
           "Lyra2RE"
          ],
          [
           "XEVAN"
          ],
          [
           "Tribus"
          ],
          [
           "Scrypt"
          ],
          [
           "Lyra2Z"
          ],
          [
           "CryptoNight"
          ],
          [
           "CryptoNight Heavy"
          ],
          [
           "CryptoNight"
          ],
          [
           "Scrypt"
          ],
          [
           "Scrypt"
          ],
          [
           "Jump Consistent Hash"
          ],
          [
           "SHA-256D"
          ],
          [
           "CryptoNight"
          ],
          [
           "Scrypt"
          ],
          [
           "X15"
          ],
          [
           "Scrypt"
          ],
          [
           "Quark"
          ],
          [
           "SHA-256"
          ],
          [
           "DPoS"
          ],
          [
           "X16R"
          ],
          [
           "HMQ1725"
          ],
          [
           "X11"
          ],
          [
           "X16R"
          ],
          [
           "Quark"
          ],
          [
           "Quark"
          ],
          [
           "Scrypt"
          ],
          [
           "Lyra2REv2"
          ],
          [
           "Quark"
          ],
          [
           "Scrypt"
          ],
          [
           "Scrypt"
          ],
          [
           "CryptoNight-V7"
          ],
          [
           "Cryptonight-GPU"
          ],
          [
           "XEVAN"
          ],
          [
           "CryptoNight Heavy"
          ],
          [
           "X11"
          ],
          [
           "X11"
          ],
          [
           "Scrypt"
          ],
          [
           "PoS"
          ],
          [
           "SHA-256"
          ],
          [
           "Keccak"
          ],
          [
           "X11"
          ],
          [
           "X11"
          ],
          [
           "Scrypt"
          ],
          [
           "SHA-512"
          ],
          [
           "X16R"
          ],
          [
           "ECC 256K1"
          ],
          [
           "Equihash"
          ],
          [
           "XEVAN"
          ],
          [
           "Lyra2Z"
          ],
          [
           "SHA-256"
          ],
          [
           "XEVAN"
          ],
          [
           "X11"
          ],
          [
           "CryptoNight"
          ],
          [
           "Quark"
          ],
          [
           "Blake"
          ],
          [
           "Blake"
          ],
          [
           "Equihash"
          ],
          [
           "Exosis"
          ],
          [
           "Scrypt"
          ],
          [
           "Scrypt"
          ],
          [
           "Equihash"
          ],
          [
           "Quark"
          ],
          [
           "Equihash"
          ],
          [
           "Quark"
          ],
          [
           "Scrypt"
          ],
          [
           "QuBit"
          ],
          [
           "X11"
          ],
          [
           "Scrypt"
          ],
          [
           "XEVAN"
          ],
          [
           "SHA-256D"
          ],
          [
           "X11"
          ],
          [
           "SHA-256"
          ],
          [
           "X13"
          ],
          [
           "SHA-256"
          ],
          [
           "X11"
          ],
          [
           "DPoS"
          ],
          [
           "Scrypt"
          ],
          [
           "Scrypt"
          ],
          [
           "X11"
          ],
          [
           "NeoScrypt"
          ],
          [
           "Scrypt"
          ],
          [
           "Blake"
          ],
          [
           "Scrypt"
          ],
          [
           "SHA-256"
          ],
          [
           "Scrypt"
          ],
          [
           "X11"
          ],
          [
           "Scrypt"
          ],
          [
           "Scrypt"
          ],
          [
           "SHA-256"
          ],
          [
           "X11"
          ],
          [
           "SHA-256"
          ],
          [
           "Scrypt"
          ],
          [
           "Scrypt"
          ],
          [
           "Scrypt"
          ],
          [
           "Groestl"
          ],
          [
           "X11"
          ],
          [
           "Scrypt"
          ],
          [
           "PoS"
          ],
          [
           "Scrypt"
          ],
          [
           "Scrypt"
          ],
          [
           "X11"
          ],
          [
           "SHA-256"
          ],
          [
           "DPoS"
          ],
          [
           "Scrypt"
          ],
          [
           "Scrypt"
          ],
          [
           "NeoScrypt"
          ],
          [
           "SHA3-256"
          ],
          [
           "Multiple"
          ],
          [
           "X13"
          ],
          [
           "Equihash+Scrypt"
          ],
          [
           "DPoS"
          ],
          [
           "Ethash"
          ],
          [
           "DPoS"
          ],
          [
           "SHA-256"
          ],
          [
           "Leased POS"
          ],
          [
           "PoS"
          ],
          [
           "TRC10"
          ],
          [
           "PoS"
          ],
          [
           "SHA-256"
          ],
          [
           "Scrypt"
          ],
          [
           "CryptoNight"
          ],
          [
           "Equihash"
          ],
          [
           "Scrypt"
          ]
         ],
         "hovertemplate": "<b>%{hovertext}</b><br><br>PC 3=%{x}<br>PC 2=%{y}<br>PC 1=%{z}<br>Algorithm=%{customdata[0]}<br>class=%{marker.color}<extra></extra>",
         "hovertext": [
          "42 Coin",
          "404Coin",
          "EliteCoin",
          "Bitcoin",
          "Ethereum",
          "Litecoin",
          "Dash",
          "Monero",
          "Ethereum Classic",
          "ZCash",
          "Bitshares",
          "DigiByte",
          "BitcoinDark",
          "PayCoin",
          "ProsperCoin",
          "KoboCoin",
          "Spreadcoin",
          "Argentum",
          "Aurora Coin",
          "BlueCoin",
          "MyriadCoin",
          "MoonCoin",
          "ZetaCoin",
          "SexCoin",
          "Quatloo",
          "EnergyCoin",
          "QuarkCoin",
          "Riecoin",
          "Digitalcoin ",
          "BitBar",
          "Catcoin",
          "CryptoBullion",
          "CannaCoin",
          "CryptCoin",
          "CasinoCoin",
          "Diamond",
          "Verge",
          "DevCoin",
          "EarthCoin",
          "E-Gulden",
          "Einsteinium",
          "Emerald",
          "Exclusive Coin",
          "FlutterCoin",
          "Franko",
          "FeatherCoin",
          "GrandCoin",
          "GlobalCoin",
          "GoldCoin",
          "HoboNickels",
          "HyperStake",
          "Infinite Coin",
          "IOCoin",
          "IXcoin",
          "KrugerCoin",
          "LuckyCoin",
          "Litebar ",
          "MaxCoin",
          "MegaCoin",
          "MediterraneanCoin",
          "MintCoin",
          "MinCoin",
          "MazaCoin",
          "Nautilus Coin",
          "NavCoin",
          "NobleCoin",
          "Namecoin",
          "NyanCoin",
          "OpalCoin",
          "Orbitcoin",
          "PotCoin",
          "PhoenixCoin",
          "Reddcoin",
          "RonPaulCoin",
          "StableCoin",
          "SmartCoin",
          "SuperCoin",
          "SyncCoin",
          "SysCoin",
          "TeslaCoin",
          "TigerCoin",
          "TittieCoin",
          "TorCoin",
          "TerraCoin",
          "UnbreakableCoin",
          "Unobtanium",
          "UroCoin",
          "UnitaryStatus Dollar",
          "UltraCoin",
          "ViaCoin",
          "VeriCoin",
          "Vertcoin",
          "WorldCoin",
          "X11 Coin",
          "Crypti",
          "JouleCoin",
          "StealthCoin",
          "ZCC Coin",
          "ByteCoin",
          "DigitalNote ",
          "BurstCoin",
          "StorjCoin",
          "MonaCoin",
          "Neutron",
          "FairCoin",
          "Gulden",
          "RubyCoin",
          "PesetaCoin",
          "Kore",
          "Wild Beast Coin",
          "Dnotes",
          "Flo",
          "8BIT Coin",
          "Sativa Coin",
          "ArtByte",
          "Folding Coin",
          "Ucoin",
          "Unitus",
          "CypherPunkCoin",
          "OmniCron",
          "Vtorrent",
          "GreenCoin",
          "Cryptonite",
          "MasterCoin",
          "SoonCoin",
          "1Credit",
          "IslaCoin",
          "Nexus",
          "MarsCoin ",
          "Crypto",
          "Anarchists Prime",
          "Droidz",
          "BowsCoin",
          "Squall Coin",
          "Song Coin",
          "BitZeny",
          "Diggits",
          "Expanse",
          "Paycon",
          "Siacoin",
          "Emercoin",
          "EverGreenCoin",
          "MindCoin",
          "I0coin",
          "Decred",
          "Revolution VR",
          "HOdlcoin",
          "EDRCoin",
          "Hitcoin",
          "Gamecredits",
          "DubaiCoin",
          "CarpeDiemCoin",
          "PWR Coin",
          "BillaryCoin",
          "GPU Coin",
          "Adzcoin",
          "SoilCoin",
          "YoCoin",
          "SibCoin",
          "EuropeCoin",
          "ZeitCoin",
          "SwingCoin",
          "SafeExchangeCoin",
          "Nebuchadnezzar",
          "Francs",
          "BolivarCoin",
          "Ratecoin",
          "Revenu",
          "Clockcoin",
          "VIP Tokens",
          "BitSend",
          "Omni",
          "Let it Ride",
          "PutinCoin",
          "iBankCoin",
          "Frankywillcoin",
          "MudraCoin",
          "PizzaCoin",
          "Lutetium Coin",
          "Komodo",
          "GoldBlocks",
          "CarterCoin",
          "Karbo",
          "BitTokens",
          "ZayedCoin",
          "MustangCoin",
          "ZoneCoin",
          "Circuits of Value",
          "RootCoin",
          "DopeCoin",
          "BitCurrency",
          "DollarCoin",
          "Swiscoin",
          "Shilling",
          "BuzzCoin",
          "Opair",
          "PesoBit",
          "Halloween Coin",
          "ZCoin",
          "CoffeeCoin",
          "RoyalCoin",
          "GanjaCoin V2",
          "TeamUP",
          "LanaCoin",
          "Elementrem",
          "ZClassic",
          "ARK",
          "InsaneCoin",
          "KiloCoin",
          "ArtexCoin",
          "EmberCoin",
          "XenixCoin",
          "FreeCoin",
          "PLNCoin",
          "AquariusCoin",
          "Kurrent",
          "Creatio",
          "Eternity",
          "Eurocoin",
          "BitcoinFast",
          "Stakenet",
          "BitConnect Coin",
          "MoneyCoin",
          "Enigma",
          "Cannabis Industry Coin",
          "Russiacoin",
          "PandaCoin",
          "GameUnits",
          "GAKHcoin",
          "Allsafe",
          "LiteCreed",
          "OsmiumCoin",
          "Bikercoins",
          "HexxCoin",
          "Klingon Empire Darsek",
          "Internet of People",
          "KushCoin",
          "Printerium",
          "PacCoin",
          "Impeach",
          "Citadel",
          "Zilbercoin",
          "FirstCoin",
          "BeaverCoin",
          "FindCoin",
          "VaultCoin",
          "Zero",
          "OpenChat",
          "Canada eCoin",
          "Zoin",
          "RenosCoin",
          "DubaiCoin",
          "VirtacoinPlus",
          "TajCoin",
          "Impact",
          "EB3coin",
          "Atmos",
          "HappyCoin",
          "Coinonat",
          "MacronCoin",
          "Condensate",
          "Independent Money System",
          "ArgusCoin",
          "LomoCoin",
          "ProCurrency",
          "GoldReserve",
          "BenjiRolls",
          "GrowthCoin",
          "ILCoin",
          "Phreak",
          "Degas Coin",
          "HTML5 Coin",
          "Ultimate Secure Cash",
          "EquiTrader",
          "QTUM",
          "Quantum Resistant Ledger",
          "Espers",
          "Dynamic",
          "Nano",
          "ChanCoin",
          "Dinastycoin",
          "Denarius",
          "DigitalPrice",
          "Virta Unique Coin",
          "Bitcoin Planet",
          "Unify",
          "BritCoin",
          "SocialCoin",
          "ArcticCoin",
          "DAS",
          "Linda",
          "LeviarCoin",
          "DeepOnion",
          "Bitcore",
          "gCn Coin",
          "SmartCash",
          "Signatum",
          "Onix",
          "Cream",
          "Bitcoin Cash",
          "Monoeci",
          "Draftcoin",
          "Vechain",
          "Sojourn Coin",
          "Stakecoin",
          "NewYorkCoin",
          "FrazCoin",
          "Kronecoin",
          "AdCoin",
          "Linx",
          "CoinonatX",
          "Ethereum Dark",
          "Sumokoin",
          "Obsidian",
          "Cardano",
          "Regalcoin",
          "BitcoinZ",
          "TrezarCoin",
          "Elements",
          "TerraNovaCoin",
          "VIVO Coin",
          "Rupee",
          "Bitcoin Gold",
          "WomenCoin",
          "Theresa May Coin",
          "NamoCoin",
          "LUXCoin",
          "Pirl",
          "Xios",
          "Bitcloud 2.0",
          "eBoost",
          "KekCoin",
          "BlackholeCoin",
          "Infinity Economics",
          "Pura",
          "Innova",
          "Ellaism",
          "GoByte",
          "Magnet",
          "Lamden Tau",
          "Electra",
          "Bitcoin Diamond",
          "SHIELD",
          "Cash & Back Coin",
          "UltraNote",
          "BitCoal",
          "DaxxCoin",
          "Bulwark",
          "Kalkulus",
          "AC3",
          "Lethean",
          "GermanCoin",
          "LiteCoin Ultra",
          "PopularCoin",
          "PhantomX",
          "Photon",
          "Sucre",
          "SparksPay",
          "Digiwage",
          "GunCoin",
          "IrishCoin",
          "Trollcoin",
          "Litecoin Plus",
          "Monkey Project",
          "Pioneer Coin",
          "UnitedBitcoin",
          "Interzone",
          "TokenPay",
          "1717 Masonic Commemorative Token",
          "My Big Coin",
          "TurtleCoin",
          "MUNcoin",
          "Unified Society USDEX",
          "Niobio Cash",
          "ShareChain",
          "Travelflex",
          "KREDS",
          "Tokyo Coin",
          "BiblePay",
          "LitecoinCash",
          "BitFlip",
          "LottoCoin",
          "Crypto Improvement Fund",
          "Stipend",
          "Poa Network",
          "Pushi",
          "Ellerium",
          "Velox",
          "Ontology",
          "Callisto Network",
          "BitTube",
          "Poseidon",
          "Aidos Kuneen",
          "Bitspace",
          "Briacoin",
          "Ignition",
          "Bitrolium",
          "MedicCoin",
          "Alpenschillling",
          "Bitcoin Green",
          "Deviant Coin",
          "Abjcoin",
          "Semux",
          "FuturoCoin",
          "Carebit",
          "Zealium",
          "Monero Classic",
          "Proton",
          "iDealCash",
          "Jumpcoin",
          "Infinex",
          "Bitcoin Incognito",
          "KEYCO",
          "HollyWoodCoin",
          "GINcoin",
          "PlatinCoin",
          "Loki",
          "Newton Coin",
          "Swisscoin",
          "Xt3ch",
          "MassGrid",
          "TheVig",
          "PluraCoin",
          "EmaratCoin",
          "Dekado",
          "Lynx",
          "Poseidon Quark",
          "BitcoinWSpectrum",
          "Muse",
          "Motion",
          "PlusOneCoin",
          "Axe",
          "Trivechain",
          "Dystem",
          "Giant",
          "Peony Coin",
          "Absolute Coin",
          "Vitae",
          "HexCoin",
          "TPCash",
          "Webchain",
          "Ryo",
          "Urals Coin",
          "Qwertycoin",
          "ARENON",
          "EUNO",
          "MMOCoin",
          "Ketan",
          "Project Pai",
          "XDNA",
          "PAXEX",
          "Azart",
          "ThunderStake",
          "Kcash",
          "Xchange",
          "Acute Angle Cloud",
          "CrypticCoin",
          "Bettex coin",
          "Actinium",
          "Bitcoin SV",
          "BitMoney",
          "Junson Ming Chan Coin",
          "FREDEnergy",
          "HerbCoin",
          "Universal Molecule",
          "Lithium",
          "PirateCash",
          "Exosis",
          "Block-Logic",
          "Oduwa",
          "Beam",
          "Galilel",
          "Bithereum",
          "Crypto Sports",
          "Credit",
          "SLICE",
          "Dash Platinum",
          "Nasdacoin",
          "Beetle Coin",
          "Titan Coin",
          "Award",
          "BLAST",
          "Bitcoin Rhodium",
          "GlobalToken",
          "Insane Coin",
          "ALAX",
          "LiteDoge",
          "SolarCoin",
          "TruckCoin",
          "UFO Coin",
          "OrangeCoin",
          "BlakeCoin",
          "BitstarCoin",
          "NeosCoin",
          "HyperCoin",
          "PinkCoin",
          "Crypto Escudo",
          "AudioCoin",
          "IncaKoin",
          "Piggy Coin",
          "Crown Coin",
          "Genstake",
          "SmileyCoin",
          "XiaoMiCoin",
          "Groestlcoin",
          "CapriCoin",
          " ClubCoin",
          "Radium",
          "Bata",
          "Pakcoin",
          "Creditbit ",
          "OKCash",
          "Lisk",
          "HiCoin",
          "WhiteCoin",
          "FriendshipCoin",
          "Fiii",
          "JoinCoin",
          "Triangles Coin",
          "Vollar",
          "EOS",
          "Reality Clash",
          "Oxycoin",
          "TigerCash",
          "Waves",
          "Particl",
          "BitTorrent",
          "Nxt",
          "ZEPHYR",
          "Gapcoin",
          "Beldex",
          "Horizen",
          "BitcoinPlus"
         ],
         "legendgroup": "",
         "marker": {
          "color": [
           0,
           0,
           0,
           1,
           1,
           1,
           0,
           1,
           1,
           1,
           0,
           1,
           0,
           0,
           1,
           0,
           1,
           1,
           0,
           0,
           1,
           1,
           1,
           1,
           1,
           0,
           1,
           1,
           1,
           0,
           1,
           0,
           1,
           1,
           0,
           0,
           1,
           1,
           1,
           1,
           1,
           1,
           0,
           0,
           1,
           1,
           1,
           1,
           1,
           0,
           0,
           1,
           0,
           1,
           1,
           1,
           1,
           0,
           1,
           1,
           0,
           1,
           0,
           0,
           0,
           1,
           1,
           1,
           0,
           0,
           0,
           0,
           0,
           1,
           1,
           1,
           0,
           0,
           1,
           0,
           1,
           0,
           0,
           1,
           1,
           1,
           1,
           0,
           0,
           1,
           0,
           1,
           1,
           0,
           0,
           1,
           0,
           0,
           1,
           1,
           0,
           0,
           1,
           0,
           0,
           1,
           0,
           1,
           0,
           1,
           0,
           1,
           0,
           0,
           1,
           1,
           0,
           1,
           1,
           1,
           0,
           1,
           1,
           1,
           1,
           1,
           0,
           0,
           1,
           1,
           1,
           0,
           1,
           0,
           1,
           1,
           0,
           1,
           0,
           1,
           0,
           0,
           1,
           1,
           0,
           1,
           1,
           0,
           0,
           1,
           0,
           1,
           0,
           0,
           0,
           1,
           1,
           1,
           1,
           0,
           0,
           0,
           0,
           0,
           1,
           1,
           0,
           0,
           0,
           0,
           0,
           1,
           0,
           0,
           0,
           0,
           0,
           1,
           0,
           1,
           0,
           0,
           1,
           0,
           1,
           0,
           0,
           1,
           0,
           1,
           0,
           1,
           0,
           1,
           0,
           0,
           0,
           0,
           1,
           0,
           0,
           0,
           0,
           0,
           1,
           1,
           0,
           0,
           1,
           1,
           0,
           0,
           0,
           0,
           0,
           1,
           0,
           0,
           0,
           0,
           0,
           0,
           0,
           0,
           1,
           0,
           0,
           0,
           0,
           0,
           0,
           1,
           1,
           1,
           0,
           0,
           0,
           0,
           1,
           0,
           1,
           0,
           0,
           1,
           0,
           1,
           1,
           0,
           1,
           1,
           0,
           1,
           0,
           0,
           0,
           1,
           0,
           0,
           1,
           0,
           0,
           0,
           0,
           0,
           0,
           0,
           1,
           0,
           1,
           0,
           0,
           0,
           0,
           1,
           0,
           1,
           0,
           1,
           1,
           1,
           1,
           0,
           1,
           0,
           0,
           1,
           0,
           1,
           1,
           1,
           0,
           1,
           0,
           1,
           1,
           1,
           0,
           1,
           0,
           1,
           0,
           0,
           3,
           1,
           0,
           1,
           1,
           1,
           1,
           1,
           0,
           0,
           1,
           0,
           0,
           0,
           1,
           0,
           1,
           0,
           1,
           0,
           1,
           0,
           0,
           0,
           0,
           1,
           0,
           0,
           1,
           0,
           0,
           0,
           1,
           1,
           1,
           1,
           0,
           0,
           0,
           0,
           1,
           0,
           1,
           1,
           1,
           0,
           0,
           1,
           1,
           0,
           0,
           1,
           0,
           1,
           1,
           1,
           0,
           1,
           1,
           0,
           0,
           0,
           1,
           1,
           1,
           0,
           0,
           0,
           1,
           1,
           0,
           1,
           1,
           1,
           1,
           0,
           3,
           3,
           1,
           1,
           1,
           0,
           3,
           0,
           0,
           0,
           0,
           1,
           1,
           1,
           1,
           0,
           0,
           0,
           1,
           0,
           1,
           0,
           0,
           0,
           0,
           1,
           0,
           0,
           1,
           0,
           0,
           1,
           1,
           0,
           1,
           0,
           1,
           1,
           1,
           1,
           0,
           0,
           1,
           0,
           1,
           0,
           0,
           0,
           0,
           0,
           0,
           1,
           1,
           1,
           0,
           0,
           0,
           0,
           0,
           0,
           1,
           0,
           1,
           1,
           1,
           1,
           0,
           0,
           0,
           0,
           1,
           0,
           0,
           1,
           0,
           0,
           1,
           0,
           1,
           0,
           1,
           1,
           0,
           0,
           1,
           0,
           1,
           1,
           0,
           1,
           1,
           0,
           1,
           0,
           1,
           0,
           0,
           1,
           0,
           0,
           0,
           0,
           0,
           1,
           1,
           1,
           0,
           0,
           0,
           1,
           0,
           1,
           0,
           1,
           0,
           0,
           0,
           0,
           1,
           0,
           0,
           0,
           1,
           0,
           1,
           0,
           1,
           0,
           0,
           0,
           1,
           1,
           0,
           0,
           0,
           0,
           0,
           0,
           3,
           1,
           0,
           1,
           0,
           1,
           0,
           0,
           3,
           0,
           2,
           0,
           0,
           0,
           1,
           1,
           0
          ],
          "coloraxis": "coloraxis",
          "symbol": "circle"
         },
         "mode": "markers",
         "name": "",
         "scene": "scene",
         "showlegend": false,
         "type": "scatter3d",
         "x": [
          -0.6072737931360755,
          -0.6077485241263535,
          -0.7071451801061783,
          0.1892724695579579,
          0.40859848481548106,
          -0.007872915391796841,
          -0.4902685877959534,
          0.4468732865986492,
          0.40858059596638496,
          0.3576274719848449,
          -0.08638416193565088,
          0.3915385879599284,
          -0.4101538450488982,
          -0.09112886021839967,
          -0.007844622562731308,
          -0.7213128187994741,
          0.10916379140517371,
          -0.007850462008853004,
          -0.6072825166894793,
          -0.6075359541307709,
          0.39695465117769496,
          -0.03626999795469336,
          0.18919862751557276,
          -0.007912394646377921,
          -0.007851127085165466,
          -0.6073245659444012,
          0.05893225439832659,
          0.1007415259078746,
          -0.007858051712294365,
          -0.6072738477002588,
          -0.007845221478130023,
          -0.6072742958654822,
          -0.007843601491212535,
          0.1091664779540958,
          -0.26674572600919494,
          -0.498666605371523,
          0.390001459660166,
          0.1799810389387266,
          -0.014013459809322129,
          -0.007850869866846782,
          -0.007953184415379075,
          -0.007851100991716086,
          -0.06719333983628058,
          -0.3261483680726145,
          -0.007841991269394806,
          0.27752996178147354,
          -0.00831063191052559,
          -0.007872965417523043,
          -0.007863224033435723,
          -0.6073195067205859,
          -0.1719270522587643,
          -0.05192591360150588,
          -0.490272144049068,
          0.18927116491905374,
          -0.007922822056671051,
          -0.007850142245020663,
          -0.007841243538621093,
          -0.5838662960278835,
          -0.007859538042461369,
          0.4187551433572061,
          -0.2970304691629877,
          -0.007843822990846433,
          -0.4109966201524931,
          -0.2882529677442978,
          -0.6718337666038445,
          -0.009927391413508757,
          0.18927378599698094,
          -0.008003730830555493,
          -0.6718127537770205,
          -0.32179378360487304,
          -0.6073967590802143,
          -0.6073115623765194,
          -0.6193687093571701,
          -0.007842698242644133,
          -0.007869187247298456,
          -0.007855037916291554,
          -0.171255454985125,
          -0.4902632334925559,
          0.1889832583792946,
          0.11735433119090805,
          0.18925997783940285,
          -0.29164729775334286,
          -0.4902645640277107,
          0.18926884855542034,
          0.18927455793405387,
          0.1892813192181172,
          0.109169374109622,
          -0.6078456506684421,
          -0.6073019224530298,
          -0.007851942278236499,
          -0.373296917383382,
          0.21821923434912568,
          -0.007909685326148861,
          -0.49026650787363024,
          0.11735359058681348,
          0.189261917814694,
          -0.671820154311986,
          -0.6074088850822095,
          0.36083885801740895,
          0.44684766111438634,
          0.021315486191265394,
          -0.21841470735884297,
          -0.007876606014133355,
          -0.4101728595834974,
          -0.4986868642739806,
          -0.008136298849890594,
          -0.2882563100584124,
          -0.007909742859032728,
          -0.6718082234537321,
          -0.007840957583978618,
          -0.28835416660038765,
          -0.007915356820178647,
          -0.6072743987124433,
          -0.671810168950229,
          -0.008241704929277593,
          0.4248059560238748,
          -0.17123712463845397,
          0.3977723904303755,
          0.31550735271789027,
          -0.007845121105851215,
          -0.6072800616452952,
          -0.010483153121142896,
          0.48241986308440715,
          -0.007840989410225081,
          0.18927472410534132,
          -0.014651913202822098,
          -0.4902638574517277,
          -0.28166662238099965,
          0.10915413520670042,
          0.42538340986683937,
          0.18927135616564836,
          -0.7498529840578706,
          0.10916177244184401,
          -0.14376716585613106,
          -0.007869688692346452,
          -0.007890393401892409,
          -0.28829375549796976,
          0.40863733103785066,
          -0.6718197091878249,
          0.41123536154439383,
          -0.41024348465599747,
          -0.7212838977703279,
          0.10916214102363685,
          0.189271202823344,
          -0.5525062846005792,
          -0.007942876324505434,
          0.22051332417555092,
          -0.4101548273235169,
          -0.49676567642956027,
          -0.007875719615640552,
          -0.4101545780070452,
          0.17871092318444212,
          -0.6352952460818738,
          -0.6072806152420586,
          -0.28827815981055077,
          0.10914504184300414,
          0.4892495775083659,
          -0.007853414386293495,
          0.6081386004133503,
          -0.49029595603857656,
          -0.31082799171881936,
          -0.41015645179986576,
          -0.24832626741360184,
          -0.06720072874774469,
          -0.007844879619803166,
          0.10916238799634476,
          -0.4903242997490345,
          -0.4101686671476353,
          -0.4101974274184573,
          -0.6311819201079442,
          -0.49028358555464496,
          -0.007840987935793001,
          -0.20447779264921093,
          -0.6077573252889816,
          -0.6072789427741729,
          -0.6073224542390789,
          -0.3527946716901883,
          0.10916745285463712,
          -0.17155423777284404,
          0.16850464525905215,
          -0.4902733559553719,
          -0.6072982653092206,
          0.4504335362768569,
          -0.4101534849200261,
          0.18927812375470782,
          -0.4902637263622525,
          -0.6072764131038563,
          0.39729783648666095,
          -0.6072745934683896,
          -0.007903702501290952,
          -0.288315066790319,
          0.18927687579863686,
          -0.39012683809241855,
          -0.007847496526542593,
          -0.8036635409867368,
          -0.06722701970229629,
          -0.6072876239023535,
          -0.49048348505622097,
          0.4945305109857634,
          -0.06725531497626755,
          -0.35277901846348136,
          -0.6876423930872022,
          -0.06722063252694309,
          -0.7951076905032375,
          0.40863016089337567,
          0.3576282020416705,
          -0.11561310129361967,
          -0.49027302178768734,
          -0.008662022522817626,
          0.10879289179052992,
          -0.7099060289431262,
          -0.4902651080050184,
          -0.06721532708477855,
          -0.6072836971800856,
          -0.6072779132096654,
          0.10912767463040243,
          -0.06720072874774469,
          -0.49027017913871485,
          -0.4101582880046074,
          -0.6072845884693574,
          -0.03083370239375585,
          -0.6072804377326169,
          -0.607326467529191,
          -0.4902639392203947,
          0.4504355456883564,
          -0.6072879106209985,
          -0.304602836239691,
          -0.6072761884376556,
          -0.6072754066158123,
          -0.2213522281505035,
          -0.2839414340638412,
          -0.007841257770698768,
          0.4504317925941219,
          0.42539243607171706,
          -0.6073206979973548,
          -0.41015428146077043,
          -0.4902662602639703,
          -0.6072801511768868,
          0.10154485985990537,
          -0.60727554408995,
          0.446862161291149,
          -0.28825037208295223,
          -0.29996761843717773,
          -0.0078422220042028,
          -0.35278486983096574,
          0.10908330119414276,
          0.3576279584872917,
          -0.6077604043500846,
          -0.007889284482655325,
          0.4253847441993639,
          -0.2882625166591439,
          0.39829809979733816,
          -0.49027606704096266,
          -0.7688865585744007,
          -0.4903170202519672,
          -0.008163271140100173,
          -0.06724501385080986,
          -0.49027951559233596,
          -0.031715471072409726,
          -0.06738622745358948,
          -0.4903504465786923,
          -0.6072775786442193,
          -0.6072763842785287,
          -0.6073480340652562,
          -0.09671706821010426,
          -0.4902732788293131,
          -0.00785168314955725,
          -0.2885149296765133,
          0.18855266221715974,
          -0.06719791690329502,
          -0.6072903788807311,
          -0.744714447074268,
          -0.09114206628307546,
          -0.007851659788055791,
          -0.20450805236048453,
          0.4468441271046546,
          -0.7741278220005979,
          0.34408083574572446,
          0.42481077548712604,
          0.3704304022265185,
          0.4495428909002618,
          -0.6311432886682331,
          0.10914797123342254,
          -0.6311756798920976,
          -0.7998712591097893,
          -0.007849596448083003,
          -0.6718174963725179,
          -0.007848372667771044,
          0.10915468566831514,
          0.10916739082102751,
          -0.6147072527950679,
          0.4504276632760937,
          -0.6718169421852842,
          0.3724224221440365,
          -0.08992033358795132,
          0.104243631806421,
          -0.043902688674877524,
          0.10903790351079773,
          -0.799887979782299,
          0.1892724413316853,
          -0.4902691225837708,
          -0.28825408305304784,
          7.355633879714899,
          -0.008618252097230524,
          -0.06719720736189506,
          -0.06684188969984059,
          -0.007846172318891148,
          -0.007854107884940106,
          -0.007861560707829772,
          -0.007862002080158742,
          -0.6072854270123695,
          -0.6072758368828185,
          0.4504272319378017,
          -0.08500356772635871,
          -0.11334272176672759,
          -0.490268228165722,
          0.35392718011692303,
          -0.3218971419330977,
          0.10792147489756017,
          -0.607275428568117,
          0.27763721169050876,
          -0.06216951873859707,
          0.3576234207697054,
          -0.6291179027290573,
          -0.41019706600183165,
          -0.6314609441530541,
          -0.6098442517174673,
          0.4892285567318703,
          -0.6072762347544299,
          -0.5404029547835981,
          -0.007889344963566379,
          -0.2458253158804559,
          -0.6072816387633786,
          -0.0955024868969054,
          0.10907167012731515,
          0.27763496756470296,
          0.4086169201197018,
          0.2776361688315762,
          -0.4902896537695053,
          -0.11571508206568397,
          -0.6450786912194025,
          -0.6718977697340837,
          0.3975516410305782,
          -0.6073351268955006,
          0.4361893299601889,
          0.45043472194811096,
          0.4076876584441395,
          -0.31211964599531844,
          -0.22135525448855417,
          0.10909601656825987,
          0.4466243376026199,
          -0.6130018961324507,
          -0.6072883719629911,
          -0.009846397838274215,
          -0.4902855724884351,
          0.02785523856674167,
          0.10916666152811129,
          0.27763613701855144,
          -0.22136692561173155,
          0.27748022246424714,
          -0.007864191424227686,
          -0.607584266450839,
          -0.6072751225466242,
          -0.17123790724862498,
          0.10916467155299893,
          0.18927160761612694,
          0.07470064168843585,
          -0.20446967758705903,
          0.12823771904076872,
          -0.3537759356839403,
          0.35447859153133815,
          0.3224023896800879,
          -0.6073878612246087,
          0.4503573709311646,
          -0.012706800309780246,
          0.48920246772303017,
          0.21789951310184547,
          -0.3529320455453934,
          15.200564905326544,
          14.989401584905169,
          -0.007848784321011899,
          -0.015182095554719935,
          0.1090456784311766,
          -0.5247319180741664,
          10.435220720862116,
          -0.49026597819412815,
          -0.5360748068118077,
          -0.2882648242609242,
          -0.19491065321151566,
          0.40805952840705323,
          0.45033044293831453,
          -0.007843921967339112,
          0.32743846644909236,
          -0.6311502175860086,
          -0.6072743641099689,
          -0.6072746510177801,
          0.357597450764314,
          -0.2883923924644874,
          0.49450172737417863,
          -0.18448977320495796,
          -0.06720653734048876,
          -0.6072800906192829,
          -0.07060144249083852,
          0.10914934821343418,
          -0.540447937201181,
          -0.06720148868634283,
          0.45042953355532744,
          -0.1075782149873087,
          -0.6082323175412049,
          -0.03171796960332854,
          0.4253899016540751,
          -0.18958004271211656,
          0.49691179964061655,
          -0.28826298879852524,
          0.49453155803426574,
          0.4503930483606003,
          0.4173174595392974,
          0.4197779747330599,
          -0.6122372277070329,
          -0.28825149985888265,
          0.42466947888447804,
          -0.7941266281455956,
          0.4501323909717277,
          -0.60728892340873,
          -0.40226682734457403,
          -0.43029417527172253,
          -0.22139602144110396,
          -0.09115426013404608,
          -0.11660906546436225,
          0.17282635297790072,
          0.4435526439447562,
          0.10916625748206178,
          -0.4266231101854291,
          -0.22135125500096087,
          -0.5403783005804024,
          -0.28949522936780714,
          -0.38119592635561983,
          -0.22138143399255483,
          -0.00784290900292362,
          -0.6073500572592855,
          0.4467443947047639,
          0.4056022449009858,
          0.06334128220524309,
          0.36260601191677344,
          -0.17124655624656016,
          -0.4902796301116914,
          -0.28830880423380306,
          -0.06721039195792726,
          0.188259537025934,
          -0.4939237366179546,
          -0.1712437961664652,
          0.10916595191576295,
          -0.6090437292418504,
          0.03789743189170913,
          0.17281991225004287,
          0.013244420932686006,
          0.35532210157154653,
          -0.21704799506525532,
          0.4945233734918178,
          0.18927244260035844,
          -0.294899163359887,
          -0.17833494554720797,
          0.44906900081092344,
          -0.540394043837354,
          0.4954645633012672,
          0.49546459119525765,
          0.07721433289119371,
          0.43588381600252635,
          -0.007864129772326022,
          -0.6072814447142099,
          0.35759789264507713,
          -0.5403844220245464,
          0.35761940952851295,
          -0.22134856629995892,
          -0.6255295515792242,
          0.3154972425409118,
          -0.1712362879389584,
          -0.6072884890433826,
          -0.5361892862974591,
          -0.7948455023091733,
          -0.49030068951820244,
          0.18925510718804464,
          -0.07237403377385887,
          0.1892340734123378,
          -0.49027526337699007,
          -0.11604581655038369,
          -0.6161852201982183,
          -0.01512641309115638,
          -0.49036331332597805,
          0.2757668153261515,
          -0.6072900593931265,
          0.49494511789307616,
          -0.6072862993440883,
          -0.09112635266171656,
          -0.6072777667231216,
          -0.49048027954664497,
          -0.008236619283520265,
          -0.6084557843256129,
          -0.4175672613995593,
          -0.4905411797145388,
          0.18926882729407637,
          -0.6072996582299405,
          -0.023748081965995517,
          -0.6074702184861024,
          0.10073017264367143,
          -0.490361710346634,
          -0.6073283906200163,
          -0.06719323939148002,
          -0.007843142704784197,
          -0.00788291244745811,
          -0.017485821096868477,
          -0.41019026776649214,
          -0.11562055901797222,
          -0.29311196181056604,
          -0.6073999751061149,
          -0.3217970925162162,
          12.619116726188807,
          0.3977976722705836,
          -0.6718065675819261,
          0.36453126628898297,
          -0.11598025807797369,
          0.4086309966943595,
          -0.11602227395213041,
          -0.09160959702542391,
          14.509771834289841,
          -0.06719546575376716,
          -1.0825892441939584,
          0.24135967982820347,
          -0.09105519359423435,
          -0.6072984619808233,
          0.4499294220900955,
          0.3576275076804554,
          -0.28824522135389846
         ],
         "y": [
          1.002278772779633,
          1.002336514527977,
          1.6542541561971802,
          -1.3192242332998814,
          -2.049479020014157,
          -1.146201211480707,
          1.2400620149366133,
          -2.173491235994959,
          -2.049588079672885,
          -1.9943586365463868,
          1.615684531359989,
          -1.8213045929927627,
          0.8292257619787843,
          0.6168702798628434,
          -1.1461863271147832,
          1.9240837783977658,
          -0.9083921121999838,
          -1.146206965355838,
          1.0022757389867334,
          1.0024826993878615,
          -1.8143912808951348,
          -1.3489310846129199,
          -1.3192539278148705,
          -1.1462677105070085,
          -1.1462275294117192,
          1.0023182673345103,
          -0.4716910814875062,
          -1.1808260628011593,
          -1.1461917892690383,
          1.0022785224507642,
          -1.146185861237809,
          1.0022785782668542,
          -1.1461825186016465,
          -0.9083930307910161,
          0.6006314871588382,
          0.9676569988714988,
          -1.8175059434856826,
          -1.3242819133253494,
          -1.1492810140574719,
          -1.1461814675383744,
          -1.1462651396441288,
          -1.1461877292918552,
          1.5648242138950859,
          0.34654674400802826,
          -1.146182656060087,
          -1.6682731658941896,
          -1.146643436980234,
          -1.1461929742461372,
          -1.146201866823955,
          1.0022440606031289,
          1.0282454859157508,
          -1.1649394647281315,
          1.2400647812312307,
          -1.3192232184633392,
          -1.1462686296944546,
          -1.1461814479375592,
          -1.1461774486193141,
          2.2929025965411873,
          -1.1461870223258512,
          -2.243472076026223,
          0.7967486983326271,
          -1.1461805075379048,
          0.8284775427318851,
          0.7899114881181317,
          1.8107564432327639,
          -1.1533378264495013,
          -1.3192252573153338,
          -1.146247609744872,
          1.810740098032397,
          0.4802921817071785,
          1.002128474411646,
          1.0022507640301943,
          1.0116870180969548,
          -1.1461878239813243,
          -1.1463013201494046,
          -1.1461959102970767,
          1.027723072054189,
          1.2400707324871985,
          -1.3195069755686872,
          0.12218780433282311,
          -1.3192297488568354,
          1.581376613879472,
          1.240065912109489,
          -1.319233714120523,
          -1.319260407848083,
          -1.319218966081961,
          -0.9083847429183561,
          1.0017866513464586,
          1.00224209425584,
          -1.1461818045328758,
          0.30426730397867635,
          -1.2954513402831318,
          -1.146278848333496,
          1.2400700593392076,
          0.12224693986180188,
          -1.3192300797039223,
          1.8107458546698951,
          1.0017982621033248,
          -2.3402249277741567,
          -2.304961251166856,
          1.3463721536610571,
          1.3619475043167812,
          -1.1462107084176885,
          0.8292136154310793,
          0.9676753225217514,
          -1.146930942595737,
          0.789923562913395,
          -1.146220809359269,
          1.8107295469075724,
          -1.1461784194438127,
          0.7897068851770439,
          -1.146212702834289,
          1.0022792438625578,
          1.8107322314352976,
          -1.1464507464345346,
          -2.2988628454405178,
          1.0276971015812415,
          -1.8138561851506774,
          -1.5164074951859192,
          -1.1461756160683754,
          1.0022719369880182,
          -1.1499775454924246,
          -2.238169401200642,
          -1.1461772185080288,
          -1.319225987039576,
          -1.1947535397471016,
          1.2400712184305112,
          2.8963366091234217,
          -0.9083922136813856,
          -2.1839293769738046,
          -1.3192425512994386,
          1.9190003728368594,
          -0.9083911273078867,
          0.6972505767397856,
          -1.1462776468593456,
          -1.1462848245655994,
          0.7898941310763529,
          -2.0495191375287134,
          1.8107162287036962,
          -2.275562834137888,
          0.8287227784452121,
          1.92425083973039,
          -0.9083884860439302,
          -1.3192232479478638,
          0.9758855529852143,
          -1.1462205760177884,
          -1.1495656881239549,
          0.8292265260585336,
          1.2295812432365412,
          -1.1461990301654104,
          0.8292330664585379,
          -1.3236606772803092,
          1.5393151199629027,
          1.002259484536962,
          0.7898111119543407,
          -0.908415005559846,
          -2.2181715831119933,
          -1.1462657763303516,
          -2.3120037056924816,
          1.23987131864827,
          0.7495075036198978,
          0.8292172489876508,
          0.6084698047490645,
          1.5648182496036493,
          -1.1461855415640076,
          -0.9083939485053596,
          1.2400743149667461,
          0.8291197481816182,
          0.8289651093308306,
          1.5360627928406692,
          1.2400051666682383,
          -1.1461772178805902,
          1.4529958299213859,
          1.0014837081343355,
          1.0022568171914608,
          1.0022580652701005,
          1.5982673033177712,
          -0.9083978882952942,
          1.027570750048961,
          -1.213149740376988,
          1.240049327291721,
          1.0022451054252999,
          -2.301900500068773,
          0.8292260674405173,
          -1.31922203538221,
          1.2400693596771275,
          1.0022685133109213,
          -1.814189758184476,
          1.002279395356928,
          -1.146245192127899,
          0.7899692678803638,
          -1.3192215930180542,
          0.33136212621777167,
          -1.1461893619003383,
          1.9285045455736003,
          1.564807078393421,
          1.0022895313113043,
          1.2393636681074607,
          -2.1591993560949216,
          1.5648489986428693,
          1.5983707819928368,
          1.8948448340522865,
          1.5646691800938386,
          1.9291656414416347,
          -2.0495190056297443,
          -1.994359204434046,
          2.000914562977741,
          1.2400607792408431,
          -1.151394144257222,
          -0.9083846866477848,
          1.8398738731419664,
          1.2400699347091246,
          1.5648120373481802,
          1.0022639080336848,
          1.0022573827130985,
          -0.9084858217544084,
          1.5648182496036493,
          1.2400410002047955,
          0.8292303891994933,
          1.002267845531674,
          0.8253858615888244,
          1.002267544779263,
          1.0019387237814148,
          1.2400683540638737,
          -2.3019085046632437,
          1.0022054287513027,
          0.7835984462326019,
          1.0022730233052841,
          1.0022780861707175,
          1.464443420326546,
          0.6320144006180323,
          -1.1461782364668394,
          -2.3019079276297445,
          -2.183903728384085,
          1.0020224613985502,
          0.8292266870438755,
          1.2400676098509378,
          1.0022720066317563,
          -0.9610133160952202,
          1.002267290778478,
          -2.173590916935356,
          0.7898867362634562,
          0.2642768118267623,
          -1.1461778645471743,
          1.5983682919702011,
          -0.9089033839424471,
          -1.9943566726034714,
          1.002071697606046,
          -1.1461978480027084,
          -2.183904186663277,
          0.7899082309084875,
          -2.1293451399023233,
          1.2400221564393068,
          1.8301316321305483,
          1.240048156677798,
          -1.1482685406579252,
          1.5647998242240433,
          1.2400248389562116,
          -0.6123945599164404,
          1.5647400172046209,
          1.2398457761353738,
          1.0022692957303203,
          1.0022640403714211,
          1.0017509280595545,
          0.5773049088783758,
          1.2400551232415407,
          -1.1461893379764616,
          0.7889535460356331,
          -1.3201160068234115,
          1.5648102064168343,
          1.002230186911358,
          1.889788615165187,
          0.616770704183384,
          -1.1462107183969772,
          1.4529804259494103,
          -2.173530041173697,
          1.9606260594120215,
          -2.22791159770578,
          -2.286321978303442,
          -2.1427873648596396,
          -2.302373028546813,
          1.5360795902390503,
          -0.9084266537480955,
          1.5360403709469148,
          1.8752274295853741,
          -1.1461814489935482,
          1.8107262193134153,
          -1.146215032124952,
          -0.9084084529156974,
          -0.9083942679156968,
          0.9787813028909187,
          -2.301921697803124,
          1.8107322893878555,
          -2.3512592451641066,
          -1.1994488546702082,
          -1.1852085858520995,
          1.6423304391943427,
          -0.9089266299854902,
          1.8752404360573125,
          -1.3192242113435635,
          1.2400697466025725,
          0.7899116378058592,
          2.7886595476365117,
          -1.151720989044468,
          1.5647911497258846,
          -1.1002819580651173,
          -1.1461845360150742,
          -1.1462158412337895,
          -1.1462194134331116,
          -1.1462190701038102,
          1.00225956632192,
          1.0022779030725635,
          -2.301941793015343,
          1.6166655686061413,
          1.4271066297378876,
          1.2400588072200078,
          -2.0037654831040164,
          0.48014055076063933,
          -0.9084681122282926,
          1.0022708316028597,
          -1.6681756434797077,
          0.6406635479890878,
          -1.9943554852367698,
          1.004630741995636,
          0.8292137058034751,
          1.5356298268974182,
          1.7944052920206197,
          -2.2182291962393212,
          1.002268374578654,
          1.6767161543487836,
          -1.146197800956558,
          1.6634717745547534,
          1.002276215733551,
          0.6150093536210464,
          -0.908513700170548,
          -1.6681844385452604,
          -2.0496573266662295,
          -1.6681776431263466,
          1.2400069589650444,
          2.00077429264315,
          1.529357515358672,
          1.8106832543862421,
          -1.8140709635950658,
          1.0022035075402336,
          -2.3405900567736677,
          -2.301902886350129,
          -2.0546264612458374,
          1.323709214536998,
          1.4644428464454755,
          -0.9086497573557115,
          -2.1738828773470913,
          0.9774547609372425,
          1.0022022740481453,
          -1.1475448850455048,
          1.2400588301388333,
          -1.210426337188174,
          -0.9083942276571879,
          -1.6681712939608315,
          1.4643933655988888,
          -1.668330512759884,
          -1.146196285686363,
          1.0019932450512374,
          1.0022774645323478,
          1.0276971247540867,
          -0.9083945536217022,
          -1.3192230744374123,
          -1.1627929967701895,
          1.4529944950283713,
          -0.113421985343368,
          0.33893972959136576,
          -2.8128487563244855,
          -2.1333633822729703,
          1.0022316447981494,
          -2.3020321572669475,
          -1.148247842052339,
          -2.2181759295350276,
          -1.2957976033144927,
          1.5980228053880938,
          2.764874109812294,
          3.60352060568149,
          -1.1461942161102427,
          -1.1512454697620993,
          -0.908581321223705,
          0.9856645849356453,
          3.145165854808402,
          1.2400582282284003,
          1.2793971908803794,
          0.7898575721351617,
          1.5662756585649025,
          -2.0528661466051625,
          -2.3024000455109426,
          -1.1461868720853459,
          -2.243898047617959,
          1.536061556245971,
          1.0022774601633007,
          1.0022765121508965,
          -1.9943639781311535,
          0.7897366198440231,
          -2.1593401128429868,
          1.482703528084342,
          1.5647829475035124,
          1.0022661035822553,
          2.152777575545962,
          -0.9084277248564423,
          1.676751144720832,
          1.564783705073216,
          -2.3019023054734773,
          0.638017094905142,
          1.000024992233953,
          -0.6123766577720569,
          -2.18391129041925,
          0.7366008867069654,
          -2.2475366013218188,
          0.78991353263635,
          -2.159193787581559,
          -2.3022145068056337,
          -2.174090139892728,
          -2.3857980353420114,
          1.000166605929042,
          0.7898940550620476,
          -2.120688720129199,
          1.9327394165703908,
          -2.302245987272894,
          1.002241352228381,
          1.7118586472956494,
          0.22530842490868924,
          1.4641056332905114,
          0.6168386445850393,
          1.7366676839816912,
          -1.298061535247113,
          -2.26633615685423,
          -0.9083946160760388,
          0.8503716407440302,
          1.4644391497786824,
          1.676811079116441,
          0.7810024453366372,
          0.8530090105517661,
          1.464416363087855,
          -1.1461883072734884,
          1.001752501836946,
          -2.1744157652935985,
          -2.2779906978460867,
          -0.869133274991495,
          -2.239468623279058,
          1.0276839423221098,
          1.2400542077555936,
          0.7898121419035681,
          1.5647145033730514,
          -1.31965375644208,
          0.9649763456916118,
          1.0276554435981893,
          -0.9083967207633462,
          0.9931148503755031,
          1.90318187715675,
          -1.2981021572439295,
          0.3247863678913773,
          -1.9970035829707025,
          1.067040580462539,
          -2.1592304622760725,
          -1.319224212330423,
          0.5602688663414751,
          1.0332299794637205,
          -2.305564818494056,
          1.676794719588987,
          -2.165672954111505,
          -2.1656261919716147,
          -0.058309104775740035,
          -2.213059617450034,
          -1.146229126928074,
          1.0022724272383563,
          -1.9944772244503641,
          1.6768077098132035,
          -1.9943581542075366,
          1.4644415264099166,
          0.9726768797582812,
          -1.5164581902422163,
          1.0276966264179968,
          1.002241014349585,
          1.2792285792580218,
          1.9304291931901345,
          1.239853919272129,
          -1.319235908230098,
          -0.33772136234654077,
          -1.3192804485486855,
          1.2400625229008748,
          2.000738763148619,
          0.9887148816130529,
          -1.1979565672387567,
          1.2401485819478475,
          -1.6690472888937438,
          1.002174306927163,
          -2.1693064971841456,
          1.0022567289023536,
          0.6168633517632233,
          1.0022818637294535,
          1.2399467690143038,
          -1.146454702394368,
          0.9970494647554368,
          0.8348940396367902,
          1.2397013441063194,
          -1.319233697582009,
          1.0022901085111122,
          -1.1630829598849848,
          1.0021973280019625,
          -1.1808295289448114,
          1.2400255314130795,
          1.0022275473272335,
          1.5648188654129902,
          -1.146178108738648,
          -1.1462508233416915,
          0.7500070101487811,
          0.8292054897035865,
          2.0008999160825907,
          0.7878395000349975,
          1.0022012473788087,
          0.48026172916645204,
          2.812448123557826,
          -1.8138774907431232,
          1.8107352157194008,
          -2.1674328113453507,
          2.001273361696425,
          -2.0495186499584155,
          2.001306044490008,
          0.6166659550825201,
          3.5815950091283577,
          1.5648208114739741,
          1.5913657854895196,
          1.7845478299773696,
          0.8807333262614806,
          1.0021515633106979,
          -2.3023224724321047,
          -1.9943586643128488,
          0.7899143517733715
         ],
         "z": [
          -0.34642834217237545,
          -0.3298019167773501,
          2.287451154665314,
          -0.13958681291307168,
          -0.14734161412529898,
          -0.17079757804628648,
          -0.39839565477202304,
          -0.13416732678867097,
          -0.1457866437823169,
          -0.14382733819159293,
          -0.20010106370438013,
          0.16703897091790046,
          -0.3140505722624352,
          -0.2566489818304843,
          -0.17194143220318717,
          -0.24839544993987447,
          -0.22411596409825174,
          -0.17155872820170529,
          -0.34608864006654416,
          -0.3386826902064571,
          -0.08584891594645899,
          2.5447086273542623,
          -0.13667783759989108,
          -0.16881977348767596,
          -0.17136311760989453,
          -0.3449282393072994,
          -0.2150557930860511,
          -0.20010932078050822,
          -0.17141188071357338,
          -0.3464242863589287,
          -0.17192373700652558,
          -0.3464086012390796,
          -0.17201001824643725,
          -0.2242051148594807,
          0.6522282863711212,
          -0.3755043679503638,
          0.1907277938218528,
          0.23747331223581916,
          0.07620194659266026,
          -0.1717568530870501,
          -0.16737124797398792,
          -0.17169625865727767,
          -0.34610037142266475,
          -0.28726415335455446,
          -0.17206690017552215,
          -0.16934410345844228,
          -0.15133199252359525,
          -0.17086452915546263,
          -0.17114136574883188,
          -0.3444911806314513,
          -0.32086237716253646,
          1.573189709313459,
          -0.39829058384147553,
          -0.13954826683098218,
          -0.1684363177314814,
          -0.17178323876262178,
          -0.1721373120164043,
          -0.4679626925171954,
          -0.17139810463831354,
          -0.10087024886678332,
          -0.029522611125263203,
          -0.1720188216289714,
          -0.27743341861466364,
          -0.28877834106045763,
          -0.2913850771287901,
          -0.03719089627352134,
          -0.13962570763395452,
          -0.16569597091764293,
          -0.2920059095600202,
          -0.3484670718895945,
          -0.3407423898510364,
          -0.3448334309812625,
          0.010920828485546142,
          -0.1719982870151661,
          -0.1700963534948518,
          -0.1714860949581701,
          -0.34070498909153646,
          -0.398661376439321,
          -0.12680423331184454,
          -0.23582250721551098,
          -0.13909059887252015,
          -0.30537115837097345,
          -0.39857319217335385,
          -0.13937718522535747,
          -0.13936013488083648,
          -0.13994970144661936,
          -0.22437866326305517,
          -0.321712108193395,
          -0.34510847081179635,
          -0.17171539266928446,
          -0.3026336977114665,
          -0.1828556188785465,
          -0.1688244477254527,
          -0.39853775554333515,
          -0.23628940533679282,
          -0.1391577503122931,
          -0.2917872577739614,
          -0.33754920074686756,
          3.8611949210896532,
          0.46726899209103195,
          -0.0014825479397887155,
          -0.31888330899237927,
          -0.1705853068782885,
          -0.3132639415787221,
          -0.37492721906323756,
          -0.15521488580414228,
          -0.28875867557788976,
          -0.1693068097603592,
          -0.2920811062380082,
          -0.17213951405860667,
          -0.28342356679686453,
          -0.16917215648051587,
          -0.34641045037986545,
          -0.2920334013518337,
          -0.15542432179648716,
          -0.1536968233646993,
          -0.341148810652804,
          -0.1197849428538401,
          -0.1796033554265864,
          -0.17201286784869219,
          -0.3461453808345649,
          -0.045209671169657746,
          -0.12625374994177002,
          -0.1721483909844901,
          -0.13965342442327716,
          0.4787572697354162,
          -0.398642946202094,
          -0.5277138059674202,
          -0.22376712648163427,
          -0.15477391682373676,
          -0.13939379310232772,
          -0.43616136291772195,
          -0.22405142521788396,
          -0.3407046120603369,
          -0.17027587685499318,
          -0.16946980911678822,
          -0.28716355541786087,
          -0.1484067063959354,
          -0.29155601936282277,
          0.38491300299489084,
          -0.3066218697988847,
          -0.2508321226293081,
          -0.22408675409376344,
          -0.13954938672850176,
          -0.08962100958754556,
          -0.16811469185820724,
          -0.09395705341954859,
          -0.31402155056322717,
          -0.07677311078137816,
          -0.1707147261234047,
          -0.31408512636905384,
          0.2780605223984708,
          -0.24365887262235328,
          -0.3460214930903784,
          -0.28703265575251946,
          -0.22324918180953324,
          -0.14171686448735255,
          -0.17096145118834488,
          -0.1489547271492704,
          -0.3958176669869854,
          0.8620225214477394,
          -0.3138855744331013,
          -0.07699740181942875,
          -0.3457843071441502,
          -0.1719387251441479,
          -0.22405006084080842,
          -0.39649056950996864,
          -0.3126315445988916,
          -0.3103043523768257,
          -0.36474884351370523,
          -0.39738066785724685,
          -0.17214844935719945,
          -0.3235815125648559,
          -0.32236659883168356,
          -0.3460595019726835,
          -0.3445018509240048,
          -0.23337638159249072,
          -0.22419970411888265,
          -0.32866604953790396,
          -0.25135450175603335,
          -0.39811791930272755,
          -0.34526540055527066,
          0.3124937874442594,
          -0.3140661002106768,
          -0.1398089245634759,
          -0.3986321559064094,
          -0.3462482906651166,
          -0.09989870065455739,
          -0.34640469623699954,
          -0.1693209761987079,
          -0.2870226842700038,
          -0.13976764295049277,
          -0.23784659455659996,
          -0.1718125296238434,
          0.027359742165202542,
          -0.34474358933702487,
          -0.34601970681765487,
          -0.3848222666616842,
          -0.15722913824580736,
          -0.3440737796234218,
          -0.2348042015194918,
          -0.4166364175007217,
          -0.34382277138695533,
          -0.2864944253216173,
          -0.14814940928367037,
          -0.1438489080145024,
          3.7913635100205134,
          -0.39822554833505636,
          -0.09901570813996098,
          -0.21081144368326993,
          0.8376298732456193,
          -0.3985871638275158,
          -0.34520635952690015,
          -0.3459473477631894,
          -0.34610132572565294,
          -0.222032217941512,
          -0.3457843071441502,
          -0.3981629016735504,
          -0.3139290789379947,
          -0.3459480926507291,
          -0.3895602739768838,
          -0.34609516681777236,
          -0.34169176390110045,
          -0.39861609133551873,
          0.3124881843246462,
          -0.3453073930225901,
          0.35313229404629065,
          -0.3462940308838954,
          -0.34636446456977665,
          -0.33666268273351024,
          -0.3530227227650952,
          -0.17213022317272822,
          0.3126186221880308,
          -0.15531328540865416,
          -0.34259862152297565,
          -0.3140425660935848,
          -0.39852623370592943,
          -0.3461427355876263,
          0.48967024846140417,
          -0.346269404089961,
          -0.13293438289805418,
          -0.28866528669219316,
          -0.29660831979269964,
          -0.1720985783874213,
          -0.23457254609960165,
          -0.2169478086350159,
          -0.14386126328498883,
          -0.3271634224065009,
          -0.17023574193353241,
          -0.15503226018482696,
          -0.2884070297381831,
          -0.1816257681685835,
          -0.397793429403329,
          -0.4411360741387744,
          -0.3965345723339397,
          -0.1430782926606835,
          -0.344034566720561,
          -0.39769154056413825,
          -0.19167003992131915,
          -0.3384463108155818,
          -0.393640737735399,
          -0.3462128175015778,
          -0.34621199507389777,
          -0.33934706854990315,
          0.2749804520731159,
          -0.39816907597995105,
          -0.1716618515735077,
          -0.2713420634542004,
          -0.10620296965475089,
          -0.34581850626410104,
          -0.3454250913260529,
          0.8812059644979975,
          -0.2553419300895323,
          -0.17148423696736886,
          -0.3223624387960648,
          -0.1327925792489971,
          0.6000489249469456,
          -0.1597381218947341,
          -0.014514838628404338,
          -0.17739245765389744,
          0.34853497718817755,
          -0.3662812486124191,
          -0.223257527098425,
          -0.36478657933382086,
          -0.43045716236421494,
          -0.17180289940679008,
          -0.29171915379575075,
          -0.17156669287300783,
          -0.22365141960850946,
          -0.22422768686452502,
          0.11758600076006899,
          0.3128823706267983,
          -0.291789790871303,
          -0.15410310045145456,
          3.2304749965627764,
          -0.10761711958541703,
          -0.31265227850561284,
          -0.21511773622958985,
          -0.42996314336083863,
          -0.1395859789562435,
          -0.3984409161573158,
          -0.28873939690857153,
          4.455329315382989,
          -0.09786502515446308,
          -0.3456850157782627,
          1.571053942233851,
          -0.17190053182896814,
          -0.17135325341086655,
          -0.1710548520262395,
          -0.17104181150301986,
          -0.3458487689000848,
          -0.3463474303150902,
          0.31306564444623664,
          -0.25804343807171837,
          0.6740056665361734,
          -0.39838184121363746,
          0.06804034077244257,
          -0.3434766171752562,
          -0.17871094624801445,
          -0.34630312156223453,
          -0.17402317407838075,
          -0.30054109260432355,
          -0.14370764340866837,
          0.4211595649307988,
          -0.3123923437385294,
          -0.3510795125272431,
          -0.3982323506026793,
          -0.14047843567797796,
          -0.3462535600707415,
          -0.39244591309949606,
          -0.17023395500066296,
          -0.3437460652964574,
          -0.346124258087689,
          -0.08349935654747676,
          -0.2197812312701557,
          -0.17386889015549836,
          -0.1465177098240156,
          -0.1739689009719791,
          -0.3971769410269039,
          3.7962094963810995,
          0.1920308244091986,
          -0.2884676417774463,
          -0.11003686778653238,
          -0.34358977466196255,
          1.148758354219646,
          0.31247097579871536,
          -0.07155292540570544,
          -0.3087069767556031,
          -0.3365488293785897,
          -0.21952299753812685,
          -0.12192676700786242,
          0.06720055134710369,
          -0.3452644357135561,
          -0.08846184082980184,
          -0.3977569769132893,
          1.0879235458557963,
          -0.22420174059548872,
          -0.17402074923663466,
          -0.3357152217763662,
          -0.1670729368082242,
          -0.17115308709507274,
          -0.33285626714507055,
          -0.34636951322477216,
          -0.3411208003244361,
          -0.22412730503318362,
          -0.13956542291589935,
          -0.18014793905450135,
          -0.32386282160762714,
          -0.26555280793030095,
          -0.32188669425078936,
          8.035268072092418,
          -0.14233759169715438,
          -0.3419241861653629,
          0.31633754464768704,
          0.02048888057108485,
          -0.13998284120931725,
          -0.16844332545702861,
          -0.22638493830937176,
          -0.14222834984354218,
          -0.6051850767075881,
          -0.17172560326084718,
          0.1347140751873129,
          -0.21828012678855954,
          -0.3544499569868999,
          -0.4527843269686907,
          -0.3984580931218864,
          -0.29858273969488697,
          -0.28790103337194994,
          -0.29360768703978174,
          -0.09964725809012352,
          0.32037863936975586,
          -0.17196213157620344,
          -0.16599009222503705,
          -0.36588101911917537,
          -0.3463968093368842,
          -0.3463785569386962,
          -0.14270084715212353,
          -0.28229416824694464,
          -0.15501697497411693,
          -0.320590285158029,
          -0.3452803198262672,
          -0.34609564682967286,
          4.028007388065282,
          -0.22329821052743842,
          -0.3911168894557804,
          -0.34546858671170594,
          0.31265310694757825,
          -0.3041668046725244,
          -0.29307330176998386,
          -0.19172942202680276,
          -0.1551588317002325,
          -0.24077808094165595,
          -0.16058769815746182,
          -0.28843426682390105,
          -0.15731335068836066,
          0.31657382121640665,
          0.5810582932903873,
          2.117530225762062,
          -0.14992615311646118,
          -0.2886857318505493,
          -0.15242434543697878,
          -0.35167932256186035,
          0.32623016448607545,
          -0.3455707375416903,
          -0.19283890150271962,
          2.233539570680459,
          -0.3322650420716459,
          -0.25546956736709603,
          1.0614764491227322,
          -0.18735390490629097,
          -0.14811896286709506,
          -0.22418393753742036,
          -0.36084304940015266,
          -0.3366621080546222,
          -0.394126713561677,
          -0.1696483146221493,
          -0.3578077781175675,
          -0.3353843217353302,
          -0.17198665771810928,
          -0.33928729246749484,
          -0.12180552144231559,
          -0.14509992859345783,
          -0.12307880402927607,
          3.0984485466530582,
          -0.3406990771441881,
          -0.3979325468274163,
          -0.285936887148903,
          -0.34457012252924935,
          -0.09949758609670586,
          -0.341931883879257,
          -0.3405606740168014,
          -0.22415535827535601,
          -0.20615454515466164,
          -0.1487325182807105,
          -0.18678273295125578,
          -0.14109517682157185,
          -0.03866963744284367,
          -0.24123757013134733,
          -0.15671228210337168,
          -0.13958601643969695,
          0.5886754290956672,
          -0.1315385892382499,
          0.3922540484373763,
          -0.393422808763654,
          -0.15393786163080803,
          -0.15432917763886927,
          -0.260088474973718,
          -0.18433830775228238,
          -0.1708811920675272,
          -0.3460996297107882,
          -0.1417715356910696,
          -0.3938779859910177,
          -0.14354080892410917,
          -0.33677884068956815,
          0.5585525096586406,
          -0.17881586660845386,
          -0.34117499761507175,
          -0.34558357104080706,
          -0.29304976708872343,
          -0.3064896970710001,
          -0.3955018537807623,
          -0.13886365948718835,
          -0.11789352047381249,
          -0.13773387736256698,
          -0.39815931967632584,
          3.8084250777692565,
          0.087936207795711,
          0.52259211365504,
          -0.39570448234246614,
          -0.09934234799190109,
          -0.34497019012685887,
          -0.10488987320641253,
          -0.3457936486012476,
          -0.2566815223393443,
          -0.3463109411479362,
          -0.38980477040826056,
          -0.15557457924858217,
          -0.26018408205782734,
          -0.09419705082679204,
          -0.3855615525833006,
          -0.13937655705039256,
          -0.34559083082725417,
          0.5422198208804626,
          -0.3386697580325115,
          -0.19967124030803154,
          -0.39473518151233655,
          -0.3440331904178783,
          -0.34605934894366114,
          -0.1720633599330318,
          -0.17002320703434573,
          -0.3847832829840441,
          -0.31256876136118256,
          3.791754525494499,
          -0.09637534546335959,
          -0.34123390655160524,
          -0.3480936461621088,
          -0.44925223009103066,
          -0.12051821917691515,
          -0.29218809665002204,
          -0.14766288286692164,
          3.8016003306236636,
          -0.14818249861375724,
          3.8028417065471314,
          -0.23761872102561368,
          -0.37499647919241236,
          -0.34599535842219226,
          34.026547624199196,
          -0.39119089204375523,
          2.5096796311455303,
          -0.34447754250553936,
          0.3341831681799263,
          -0.14382839283274784,
          -0.2890814080229496
         ]
        }
       ],
       "layout": {
        "coloraxis": {
         "colorbar": {
          "title": {
           "text": "class"
          }
         },
         "colorscale": [
          [
           0,
           "#0d0887"
          ],
          [
           0.1111111111111111,
           "#46039f"
          ],
          [
           0.2222222222222222,
           "#7201a8"
          ],
          [
           0.3333333333333333,
           "#9c179e"
          ],
          [
           0.4444444444444444,
           "#bd3786"
          ],
          [
           0.5555555555555556,
           "#d8576b"
          ],
          [
           0.6666666666666666,
           "#ed7953"
          ],
          [
           0.7777777777777778,
           "#fb9f3a"
          ],
          [
           0.8888888888888888,
           "#fdca26"
          ],
          [
           1,
           "#f0f921"
          ]
         ]
        },
        "legend": {
         "tracegroupgap": 0
        },
        "margin": {
         "t": 60
        },
        "scene": {
         "domain": {
          "x": [
           0,
           1
          ],
          "y": [
           0,
           1
          ]
         },
         "xaxis": {
          "title": {
           "text": "PC 3"
          }
         },
         "yaxis": {
          "title": {
           "text": "PC 2"
          }
         },
         "zaxis": {
          "title": {
           "text": "PC 1"
          }
         }
        },
        "template": {
         "data": {
          "bar": [
           {
            "error_x": {
             "color": "#2a3f5f"
            },
            "error_y": {
             "color": "#2a3f5f"
            },
            "marker": {
             "line": {
              "color": "#E5ECF6",
              "width": 0.5
             }
            },
            "type": "bar"
           }
          ],
          "barpolar": [
           {
            "marker": {
             "line": {
              "color": "#E5ECF6",
              "width": 0.5
             }
            },
            "type": "barpolar"
           }
          ],
          "carpet": [
           {
            "aaxis": {
             "endlinecolor": "#2a3f5f",
             "gridcolor": "white",
             "linecolor": "white",
             "minorgridcolor": "white",
             "startlinecolor": "#2a3f5f"
            },
            "baxis": {
             "endlinecolor": "#2a3f5f",
             "gridcolor": "white",
             "linecolor": "white",
             "minorgridcolor": "white",
             "startlinecolor": "#2a3f5f"
            },
            "type": "carpet"
           }
          ],
          "choropleth": [
           {
            "colorbar": {
             "outlinewidth": 0,
             "ticks": ""
            },
            "type": "choropleth"
           }
          ],
          "contour": [
           {
            "colorbar": {
             "outlinewidth": 0,
             "ticks": ""
            },
            "colorscale": [
             [
              0,
              "#0d0887"
             ],
             [
              0.1111111111111111,
              "#46039f"
             ],
             [
              0.2222222222222222,
              "#7201a8"
             ],
             [
              0.3333333333333333,
              "#9c179e"
             ],
             [
              0.4444444444444444,
              "#bd3786"
             ],
             [
              0.5555555555555556,
              "#d8576b"
             ],
             [
              0.6666666666666666,
              "#ed7953"
             ],
             [
              0.7777777777777778,
              "#fb9f3a"
             ],
             [
              0.8888888888888888,
              "#fdca26"
             ],
             [
              1,
              "#f0f921"
             ]
            ],
            "type": "contour"
           }
          ],
          "contourcarpet": [
           {
            "colorbar": {
             "outlinewidth": 0,
             "ticks": ""
            },
            "type": "contourcarpet"
           }
          ],
          "heatmap": [
           {
            "colorbar": {
             "outlinewidth": 0,
             "ticks": ""
            },
            "colorscale": [
             [
              0,
              "#0d0887"
             ],
             [
              0.1111111111111111,
              "#46039f"
             ],
             [
              0.2222222222222222,
              "#7201a8"
             ],
             [
              0.3333333333333333,
              "#9c179e"
             ],
             [
              0.4444444444444444,
              "#bd3786"
             ],
             [
              0.5555555555555556,
              "#d8576b"
             ],
             [
              0.6666666666666666,
              "#ed7953"
             ],
             [
              0.7777777777777778,
              "#fb9f3a"
             ],
             [
              0.8888888888888888,
              "#fdca26"
             ],
             [
              1,
              "#f0f921"
             ]
            ],
            "type": "heatmap"
           }
          ],
          "heatmapgl": [
           {
            "colorbar": {
             "outlinewidth": 0,
             "ticks": ""
            },
            "colorscale": [
             [
              0,
              "#0d0887"
             ],
             [
              0.1111111111111111,
              "#46039f"
             ],
             [
              0.2222222222222222,
              "#7201a8"
             ],
             [
              0.3333333333333333,
              "#9c179e"
             ],
             [
              0.4444444444444444,
              "#bd3786"
             ],
             [
              0.5555555555555556,
              "#d8576b"
             ],
             [
              0.6666666666666666,
              "#ed7953"
             ],
             [
              0.7777777777777778,
              "#fb9f3a"
             ],
             [
              0.8888888888888888,
              "#fdca26"
             ],
             [
              1,
              "#f0f921"
             ]
            ],
            "type": "heatmapgl"
           }
          ],
          "histogram": [
           {
            "marker": {
             "colorbar": {
              "outlinewidth": 0,
              "ticks": ""
             }
            },
            "type": "histogram"
           }
          ],
          "histogram2d": [
           {
            "colorbar": {
             "outlinewidth": 0,
             "ticks": ""
            },
            "colorscale": [
             [
              0,
              "#0d0887"
             ],
             [
              0.1111111111111111,
              "#46039f"
             ],
             [
              0.2222222222222222,
              "#7201a8"
             ],
             [
              0.3333333333333333,
              "#9c179e"
             ],
             [
              0.4444444444444444,
              "#bd3786"
             ],
             [
              0.5555555555555556,
              "#d8576b"
             ],
             [
              0.6666666666666666,
              "#ed7953"
             ],
             [
              0.7777777777777778,
              "#fb9f3a"
             ],
             [
              0.8888888888888888,
              "#fdca26"
             ],
             [
              1,
              "#f0f921"
             ]
            ],
            "type": "histogram2d"
           }
          ],
          "histogram2dcontour": [
           {
            "colorbar": {
             "outlinewidth": 0,
             "ticks": ""
            },
            "colorscale": [
             [
              0,
              "#0d0887"
             ],
             [
              0.1111111111111111,
              "#46039f"
             ],
             [
              0.2222222222222222,
              "#7201a8"
             ],
             [
              0.3333333333333333,
              "#9c179e"
             ],
             [
              0.4444444444444444,
              "#bd3786"
             ],
             [
              0.5555555555555556,
              "#d8576b"
             ],
             [
              0.6666666666666666,
              "#ed7953"
             ],
             [
              0.7777777777777778,
              "#fb9f3a"
             ],
             [
              0.8888888888888888,
              "#fdca26"
             ],
             [
              1,
              "#f0f921"
             ]
            ],
            "type": "histogram2dcontour"
           }
          ],
          "mesh3d": [
           {
            "colorbar": {
             "outlinewidth": 0,
             "ticks": ""
            },
            "type": "mesh3d"
           }
          ],
          "parcoords": [
           {
            "line": {
             "colorbar": {
              "outlinewidth": 0,
              "ticks": ""
             }
            },
            "type": "parcoords"
           }
          ],
          "pie": [
           {
            "automargin": true,
            "type": "pie"
           }
          ],
          "scatter": [
           {
            "marker": {
             "colorbar": {
              "outlinewidth": 0,
              "ticks": ""
             }
            },
            "type": "scatter"
           }
          ],
          "scatter3d": [
           {
            "line": {
             "colorbar": {
              "outlinewidth": 0,
              "ticks": ""
             }
            },
            "marker": {
             "colorbar": {
              "outlinewidth": 0,
              "ticks": ""
             }
            },
            "type": "scatter3d"
           }
          ],
          "scattercarpet": [
           {
            "marker": {
             "colorbar": {
              "outlinewidth": 0,
              "ticks": ""
             }
            },
            "type": "scattercarpet"
           }
          ],
          "scattergeo": [
           {
            "marker": {
             "colorbar": {
              "outlinewidth": 0,
              "ticks": ""
             }
            },
            "type": "scattergeo"
           }
          ],
          "scattergl": [
           {
            "marker": {
             "colorbar": {
              "outlinewidth": 0,
              "ticks": ""
             }
            },
            "type": "scattergl"
           }
          ],
          "scattermapbox": [
           {
            "marker": {
             "colorbar": {
              "outlinewidth": 0,
              "ticks": ""
             }
            },
            "type": "scattermapbox"
           }
          ],
          "scatterpolar": [
           {
            "marker": {
             "colorbar": {
              "outlinewidth": 0,
              "ticks": ""
             }
            },
            "type": "scatterpolar"
           }
          ],
          "scatterpolargl": [
           {
            "marker": {
             "colorbar": {
              "outlinewidth": 0,
              "ticks": ""
             }
            },
            "type": "scatterpolargl"
           }
          ],
          "scatterternary": [
           {
            "marker": {
             "colorbar": {
              "outlinewidth": 0,
              "ticks": ""
             }
            },
            "type": "scatterternary"
           }
          ],
          "surface": [
           {
            "colorbar": {
             "outlinewidth": 0,
             "ticks": ""
            },
            "colorscale": [
             [
              0,
              "#0d0887"
             ],
             [
              0.1111111111111111,
              "#46039f"
             ],
             [
              0.2222222222222222,
              "#7201a8"
             ],
             [
              0.3333333333333333,
              "#9c179e"
             ],
             [
              0.4444444444444444,
              "#bd3786"
             ],
             [
              0.5555555555555556,
              "#d8576b"
             ],
             [
              0.6666666666666666,
              "#ed7953"
             ],
             [
              0.7777777777777778,
              "#fb9f3a"
             ],
             [
              0.8888888888888888,
              "#fdca26"
             ],
             [
              1,
              "#f0f921"
             ]
            ],
            "type": "surface"
           }
          ],
          "table": [
           {
            "cells": {
             "fill": {
              "color": "#EBF0F8"
             },
             "line": {
              "color": "white"
             }
            },
            "header": {
             "fill": {
              "color": "#C8D4E3"
             },
             "line": {
              "color": "white"
             }
            },
            "type": "table"
           }
          ]
         },
         "layout": {
          "annotationdefaults": {
           "arrowcolor": "#2a3f5f",
           "arrowhead": 0,
           "arrowwidth": 1
          },
          "autotypenumbers": "strict",
          "coloraxis": {
           "colorbar": {
            "outlinewidth": 0,
            "ticks": ""
           }
          },
          "colorscale": {
           "diverging": [
            [
             0,
             "#8e0152"
            ],
            [
             0.1,
             "#c51b7d"
            ],
            [
             0.2,
             "#de77ae"
            ],
            [
             0.3,
             "#f1b6da"
            ],
            [
             0.4,
             "#fde0ef"
            ],
            [
             0.5,
             "#f7f7f7"
            ],
            [
             0.6,
             "#e6f5d0"
            ],
            [
             0.7,
             "#b8e186"
            ],
            [
             0.8,
             "#7fbc41"
            ],
            [
             0.9,
             "#4d9221"
            ],
            [
             1,
             "#276419"
            ]
           ],
           "sequential": [
            [
             0,
             "#0d0887"
            ],
            [
             0.1111111111111111,
             "#46039f"
            ],
            [
             0.2222222222222222,
             "#7201a8"
            ],
            [
             0.3333333333333333,
             "#9c179e"
            ],
            [
             0.4444444444444444,
             "#bd3786"
            ],
            [
             0.5555555555555556,
             "#d8576b"
            ],
            [
             0.6666666666666666,
             "#ed7953"
            ],
            [
             0.7777777777777778,
             "#fb9f3a"
            ],
            [
             0.8888888888888888,
             "#fdca26"
            ],
            [
             1,
             "#f0f921"
            ]
           ],
           "sequentialminus": [
            [
             0,
             "#0d0887"
            ],
            [
             0.1111111111111111,
             "#46039f"
            ],
            [
             0.2222222222222222,
             "#7201a8"
            ],
            [
             0.3333333333333333,
             "#9c179e"
            ],
            [
             0.4444444444444444,
             "#bd3786"
            ],
            [
             0.5555555555555556,
             "#d8576b"
            ],
            [
             0.6666666666666666,
             "#ed7953"
            ],
            [
             0.7777777777777778,
             "#fb9f3a"
            ],
            [
             0.8888888888888888,
             "#fdca26"
            ],
            [
             1,
             "#f0f921"
            ]
           ]
          },
          "colorway": [
           "#636efa",
           "#EF553B",
           "#00cc96",
           "#ab63fa",
           "#FFA15A",
           "#19d3f3",
           "#FF6692",
           "#B6E880",
           "#FF97FF",
           "#FECB52"
          ],
          "font": {
           "color": "#2a3f5f"
          },
          "geo": {
           "bgcolor": "white",
           "lakecolor": "white",
           "landcolor": "#E5ECF6",
           "showlakes": true,
           "showland": true,
           "subunitcolor": "white"
          },
          "hoverlabel": {
           "align": "left"
          },
          "hovermode": "closest",
          "mapbox": {
           "style": "light"
          },
          "paper_bgcolor": "white",
          "plot_bgcolor": "#E5ECF6",
          "polar": {
           "angularaxis": {
            "gridcolor": "white",
            "linecolor": "white",
            "ticks": ""
           },
           "bgcolor": "#E5ECF6",
           "radialaxis": {
            "gridcolor": "white",
            "linecolor": "white",
            "ticks": ""
           }
          },
          "scene": {
           "xaxis": {
            "backgroundcolor": "#E5ECF6",
            "gridcolor": "white",
            "gridwidth": 2,
            "linecolor": "white",
            "showbackground": true,
            "ticks": "",
            "zerolinecolor": "white"
           },
           "yaxis": {
            "backgroundcolor": "#E5ECF6",
            "gridcolor": "white",
            "gridwidth": 2,
            "linecolor": "white",
            "showbackground": true,
            "ticks": "",
            "zerolinecolor": "white"
           },
           "zaxis": {
            "backgroundcolor": "#E5ECF6",
            "gridcolor": "white",
            "gridwidth": 2,
            "linecolor": "white",
            "showbackground": true,
            "ticks": "",
            "zerolinecolor": "white"
           }
          },
          "shapedefaults": {
           "line": {
            "color": "#2a3f5f"
           }
          },
          "ternary": {
           "aaxis": {
            "gridcolor": "white",
            "linecolor": "white",
            "ticks": ""
           },
           "baxis": {
            "gridcolor": "white",
            "linecolor": "white",
            "ticks": ""
           },
           "bgcolor": "#E5ECF6",
           "caxis": {
            "gridcolor": "white",
            "linecolor": "white",
            "ticks": ""
           }
          },
          "title": {
           "x": 0.05
          },
          "xaxis": {
           "automargin": true,
           "gridcolor": "white",
           "linecolor": "white",
           "ticks": "",
           "title": {
            "standoff": 15
           },
           "zerolinecolor": "white",
           "zerolinewidth": 2
          },
          "yaxis": {
           "automargin": true,
           "gridcolor": "white",
           "linecolor": "white",
           "ticks": "",
           "title": {
            "standoff": 15
           },
           "zerolinecolor": "white",
           "zerolinewidth": 2
          }
         }
        },
        "width": 800
       }
      },
      "text/html": [
       "<div>                            <div id=\"5d3142b4-2f4d-4881-9b36-abb11c409805\" class=\"plotly-graph-div\" style=\"height:525px; width:800px;\"></div>            <script type=\"text/javascript\">                require([\"plotly\"], function(Plotly) {                    window.PLOTLYENV=window.PLOTLYENV || {};                                    if (document.getElementById(\"5d3142b4-2f4d-4881-9b36-abb11c409805\")) {                    Plotly.newPlot(                        \"5d3142b4-2f4d-4881-9b36-abb11c409805\",                        [{\"customdata\": [[\"Scrypt\"], [\"Scrypt\"], [\"X13\"], [\"SHA-256\"], [\"Ethash\"], [\"Scrypt\"], [\"X11\"], [\"CryptoNight-V7\"], [\"Ethash\"], [\"Equihash\"], [\"SHA-512\"], [\"Multiple\"], [\"SHA-256\"], [\"SHA-256\"], [\"Scrypt\"], [\"X15\"], [\"X11\"], [\"Scrypt\"], [\"Scrypt\"], [\"Scrypt\"], [\"Multiple\"], [\"Scrypt\"], [\"SHA-256\"], [\"Scrypt\"], [\"Scrypt\"], [\"Scrypt\"], [\"Quark\"], [\"Groestl\"], [\"Scrypt\"], [\"Scrypt\"], [\"Scrypt\"], [\"Scrypt\"], [\"Scrypt\"], [\"X11\"], [\"Scrypt\"], [\"Groestl\"], [\"Multiple\"], [\"SHA-256\"], [\"Scrypt\"], [\"Scrypt\"], [\"Scrypt\"], [\"Scrypt\"], [\"PoS\"], [\"Scrypt\"], [\"Scrypt\"], [\"NeoScrypt\"], [\"Scrypt\"], [\"Scrypt\"], [\"Scrypt\"], [\"Scrypt\"], [\"X11\"], [\"Scrypt\"], [\"X11\"], [\"SHA-256\"], [\"Scrypt\"], [\"Scrypt\"], [\"Scrypt\"], [\"SHA3\"], [\"Scrypt\"], [\"HybridScryptHash256\"], [\"Scrypt\"], [\"Scrypt\"], [\"SHA-256\"], [\"Scrypt\"], [\"X13\"], [\"Scrypt\"], [\"SHA-256\"], [\"Scrypt\"], [\"X13\"], [\"NeoScrypt\"], [\"Scrypt\"], [\"Scrypt\"], [\"Scrypt\"], [\"Scrypt\"], [\"Scrypt\"], [\"Scrypt\"], [\"X11\"], [\"X11\"], [\"SHA-256\"], [\"Multiple\"], [\"SHA-256\"], [\"PHI1612\"], [\"X11\"], [\"SHA-256\"], [\"SHA-256\"], [\"SHA-256\"], [\"X11\"], [\"Scrypt\"], [\"Scrypt\"], [\"Scrypt\"], [\"Scrypt\"], [\"Lyra2REv2\"], [\"Scrypt\"], [\"X11\"], [\"Multiple\"], [\"SHA-256\"], [\"X13\"], [\"Scrypt\"], [\"CryptoNight\"], [\"CryptoNight\"], [\"Shabal256\"], [\"Counterparty\"], [\"Scrypt\"], [\"SHA-256\"], [\"Groestl\"], [\"Scrypt\"], [\"Scrypt\"], [\"Scrypt\"], [\"X13\"], [\"Scrypt\"], [\"Scrypt\"], [\"Scrypt\"], [\"Scrypt\"], [\"X13\"], [\"Scrypt\"], [\"Stanford Folding\"], [\"X11\"], [\"Multiple\"], [\"QuBit\"], [\"Scrypt\"], [\"Scrypt\"], [\"Scrypt\"], [\"M7 POW\"], [\"Scrypt\"], [\"SHA-256\"], [\"Scrypt\"], [\"X11\"], [\"SHA3\"], [\"X11\"], [\"Lyra2RE\"], [\"SHA-256\"], [\"QUAIT\"], [\"X11\"], [\"X11\"], [\"Scrypt\"], [\"Scrypt\"], [\"Scrypt\"], [\"Ethash\"], [\"X13\"], [\"Blake2b\"], [\"SHA-256\"], [\"X15\"], [\"X11\"], [\"SHA-256\"], [\"BLAKE256\"], [\"Scrypt\"], [\"1GB AES Pattern Search\"], [\"SHA-256\"], [\"X11\"], [\"Scrypt\"], [\"SHA-256\"], [\"SHA-256\"], [\"NIST5\"], [\"Scrypt\"], [\"Scrypt\"], [\"X11\"], [\"Dagger\"], [\"Scrypt\"], [\"X11GOST\"], [\"X11\"], [\"Scrypt\"], [\"SHA-256\"], [\"Scrypt\"], [\"PoS\"], [\"Scrypt\"], [\"X11\"], [\"X11\"], [\"SHA-256\"], [\"SHA-256\"], [\"NIST5\"], [\"X11\"], [\"Scrypt\"], [\"POS 3.0\"], [\"Scrypt\"], [\"Scrypt\"], [\"Scrypt\"], [\"X13\"], [\"X11\"], [\"X11\"], [\"Equihash\"], [\"X11\"], [\"Scrypt\"], [\"CryptoNight\"], [\"SHA-256\"], [\"SHA-256\"], [\"X11\"], [\"Scrypt\"], [\"Multiple\"], [\"Scrypt\"], [\"Scrypt\"], [\"Scrypt\"], [\"SHA-256\"], [\"Scrypt\"], [\"Scrypt\"], [\"SHA-256D\"], [\"PoS\"], [\"Scrypt\"], [\"X11\"], [\"Lyra2Z\"], [\"PoS\"], [\"X13\"], [\"X14\"], [\"PoS\"], [\"SHA-256D\"], [\"Ethash\"], [\"Equihash\"], [\"DPoS\"], [\"X11\"], [\"Scrypt\"], [\"X11\"], [\"X13\"], [\"X11\"], [\"PoS\"], [\"Scrypt\"], [\"Scrypt\"], [\"X11\"], [\"PoS\"], [\"X11\"], [\"SHA-256\"], [\"Scrypt\"], [\"X11\"], [\"Scrypt\"], [\"Scrypt\"], [\"X11\"], [\"CryptoNight\"], [\"Scrypt\"], [\"Scrypt\"], [\"Scrypt\"], [\"Scrypt\"], [\"Quark\"], [\"QuBit\"], [\"Scrypt\"], [\"CryptoNight\"], [\"Lyra2RE\"], [\"Scrypt\"], [\"SHA-256\"], [\"X11\"], [\"Scrypt\"], [\"X11\"], [\"Scrypt\"], [\"CryptoNight-V7\"], [\"Scrypt\"], [\"Scrypt\"], [\"Scrypt\"], [\"X13\"], [\"X11\"], [\"Equihash\"], [\"Scrypt\"], [\"Scrypt\"], [\"Lyra2RE\"], [\"Scrypt\"], [\"Dagger-Hashimoto\"], [\"X11\"], [\"Blake2S\"], [\"X11\"], [\"Scrypt\"], [\"PoS\"], [\"X11\"], [\"NIST5\"], [\"PoS\"], [\"X11\"], [\"Scrypt\"], [\"Scrypt\"], [\"Scrypt\"], [\"SHA-256\"], [\"X11\"], [\"Scrypt\"], [\"Scrypt\"], [\"SHA-256\"], [\"PoS\"], [\"Scrypt\"], [\"X15\"], [\"SHA-256\"], [\"Scrypt\"], [\"POS 3.0\"], [\"CryptoNight-V7\"], [\"536\"], [\"Argon2d\"], [\"Blake2b\"], [\"Cloverhash\"], [\"CryptoNight\"], [\"NIST5\"], [\"X11\"], [\"NIST5\"], [\"Skein\"], [\"Scrypt\"], [\"X13\"], [\"Scrypt\"], [\"X11\"], [\"X11\"], [\"Scrypt\"], [\"CryptoNight\"], [\"X13\"], [\"Time Travel\"], [\"Scrypt\"], [\"Keccak\"], [\"SkunkHash v2 Raptor\"], [\"X11\"], [\"Skein\"], [\"SHA-256\"], [\"X11\"], [\"Scrypt\"], [\"VeChainThor Authority\"], [\"Scrypt\"], [\"PoS\"], [\"Scrypt\"], [\"Scrypt\"], [\"Scrypt\"], [\"Scrypt\"], [\"Scrypt\"], [\"Scrypt\"], [\"Scrypt\"], [\"CryptoNight\"], [\"SHA-512\"], [\"Ouroboros\"], [\"X11\"], [\"Equihash\"], [\"NeoScrypt\"], [\"X11\"], [\"Scrypt\"], [\"NeoScrypt\"], [\"Lyra2REv2\"], [\"Equihash\"], [\"Scrypt\"], [\"SHA-256\"], [\"NIST5\"], [\"PHI1612\"], [\"Dagger\"], [\"Scrypt\"], [\"Quark\"], [\"Scrypt\"], [\"POS 2.0\"], [\"Scrypt\"], [\"SHA-256\"], [\"X11\"], [\"NeoScrypt\"], [\"Ethash\"], [\"NeoScrypt\"], [\"X11\"], [\"DPoS\"], [\"NIST5\"], [\"X13\"], [\"Multiple\"], [\"Scrypt\"], [\"CryptoNight\"], [\"CryptoNight\"], [\"Ethash\"], [\"NIST5\"], [\"Quark\"], [\"X11\"], [\"CryptoNight-V7\"], [\"Scrypt\"], [\"Scrypt\"], [\"Scrypt\"], [\"X11\"], [\"BLAKE256\"], [\"X11\"], [\"NeoScrypt\"], [\"Quark\"], [\"NeoScrypt\"], [\"Scrypt\"], [\"Scrypt\"], [\"Scrypt\"], [\"X11\"], [\"X11\"], [\"SHA-256\"], [\"C11\"], [\"POS 3.0\"], [\"Ethash\"], [\"Scrypt\"], [\"CryptoNight\"], [\"SkunkHash\"], [\"Scrypt\"], [\"CryptoNight\"], [\"Scrypt\"], [\"Dagger\"], [\"Lyra2REv2\"], [\"X13\"], [\"Proof-of-BibleHash\"], [\"SHA-256 + Hive\"], [\"Scrypt\"], [\"Scrypt\"], [\"X11\"], [\"C11\"], [\"Proof-of-Authority\"], [\"X11\"], [\"XEVAN\"], [\"Scrypt\"], [\"VBFT\"], [\"Ethash\"], [\"CryptoNight\"], [\"Scrypt\"], [\"IMesh\"], [\"NIST5\"], [\"Scrypt\"], [\"Scrypt\"], [\"Equihash\"], [\"Scrypt\"], [\"Lyra2Z\"], [\"Green Protocol\"], [\"PoS\"], [\"Scrypt\"], [\"Semux BFT consensus\"], [\"X11\"], [\"Quark\"], [\"PoS\"], [\"CryptoNight\"], [\"X16R\"], [\"Scrypt\"], [\"NIST5\"], [\"Lyra2RE\"], [\"XEVAN\"], [\"Tribus\"], [\"Scrypt\"], [\"Lyra2Z\"], [\"CryptoNight\"], [\"CryptoNight Heavy\"], [\"CryptoNight\"], [\"Scrypt\"], [\"Scrypt\"], [\"Jump Consistent Hash\"], [\"SHA-256D\"], [\"CryptoNight\"], [\"Scrypt\"], [\"X15\"], [\"Scrypt\"], [\"Quark\"], [\"SHA-256\"], [\"DPoS\"], [\"X16R\"], [\"HMQ1725\"], [\"X11\"], [\"X16R\"], [\"Quark\"], [\"Quark\"], [\"Scrypt\"], [\"Lyra2REv2\"], [\"Quark\"], [\"Scrypt\"], [\"Scrypt\"], [\"CryptoNight-V7\"], [\"Cryptonight-GPU\"], [\"XEVAN\"], [\"CryptoNight Heavy\"], [\"X11\"], [\"X11\"], [\"Scrypt\"], [\"PoS\"], [\"SHA-256\"], [\"Keccak\"], [\"X11\"], [\"X11\"], [\"Scrypt\"], [\"SHA-512\"], [\"X16R\"], [\"ECC 256K1\"], [\"Equihash\"], [\"XEVAN\"], [\"Lyra2Z\"], [\"SHA-256\"], [\"XEVAN\"], [\"X11\"], [\"CryptoNight\"], [\"Quark\"], [\"Blake\"], [\"Blake\"], [\"Equihash\"], [\"Exosis\"], [\"Scrypt\"], [\"Scrypt\"], [\"Equihash\"], [\"Quark\"], [\"Equihash\"], [\"Quark\"], [\"Scrypt\"], [\"QuBit\"], [\"X11\"], [\"Scrypt\"], [\"XEVAN\"], [\"SHA-256D\"], [\"X11\"], [\"SHA-256\"], [\"X13\"], [\"SHA-256\"], [\"X11\"], [\"DPoS\"], [\"Scrypt\"], [\"Scrypt\"], [\"X11\"], [\"NeoScrypt\"], [\"Scrypt\"], [\"Blake\"], [\"Scrypt\"], [\"SHA-256\"], [\"Scrypt\"], [\"X11\"], [\"Scrypt\"], [\"Scrypt\"], [\"SHA-256\"], [\"X11\"], [\"SHA-256\"], [\"Scrypt\"], [\"Scrypt\"], [\"Scrypt\"], [\"Groestl\"], [\"X11\"], [\"Scrypt\"], [\"PoS\"], [\"Scrypt\"], [\"Scrypt\"], [\"X11\"], [\"SHA-256\"], [\"DPoS\"], [\"Scrypt\"], [\"Scrypt\"], [\"NeoScrypt\"], [\"SHA3-256\"], [\"Multiple\"], [\"X13\"], [\"Equihash+Scrypt\"], [\"DPoS\"], [\"Ethash\"], [\"DPoS\"], [\"SHA-256\"], [\"Leased POS\"], [\"PoS\"], [\"TRC10\"], [\"PoS\"], [\"SHA-256\"], [\"Scrypt\"], [\"CryptoNight\"], [\"Equihash\"], [\"Scrypt\"]], \"hovertemplate\": \"<b>%{hovertext}</b><br><br>PC 3=%{x}<br>PC 2=%{y}<br>PC 1=%{z}<br>Algorithm=%{customdata[0]}<br>class=%{marker.color}<extra></extra>\", \"hovertext\": [\"42 Coin\", \"404Coin\", \"EliteCoin\", \"Bitcoin\", \"Ethereum\", \"Litecoin\", \"Dash\", \"Monero\", \"Ethereum Classic\", \"ZCash\", \"Bitshares\", \"DigiByte\", \"BitcoinDark\", \"PayCoin\", \"ProsperCoin\", \"KoboCoin\", \"Spreadcoin\", \"Argentum\", \"Aurora Coin\", \"BlueCoin\", \"MyriadCoin\", \"MoonCoin\", \"ZetaCoin\", \"SexCoin\", \"Quatloo\", \"EnergyCoin\", \"QuarkCoin\", \"Riecoin\", \"Digitalcoin \", \"BitBar\", \"Catcoin\", \"CryptoBullion\", \"CannaCoin\", \"CryptCoin\", \"CasinoCoin\", \"Diamond\", \"Verge\", \"DevCoin\", \"EarthCoin\", \"E-Gulden\", \"Einsteinium\", \"Emerald\", \"Exclusive Coin\", \"FlutterCoin\", \"Franko\", \"FeatherCoin\", \"GrandCoin\", \"GlobalCoin\", \"GoldCoin\", \"HoboNickels\", \"HyperStake\", \"Infinite Coin\", \"IOCoin\", \"IXcoin\", \"KrugerCoin\", \"LuckyCoin\", \"Litebar \", \"MaxCoin\", \"MegaCoin\", \"MediterraneanCoin\", \"MintCoin\", \"MinCoin\", \"MazaCoin\", \"Nautilus Coin\", \"NavCoin\", \"NobleCoin\", \"Namecoin\", \"NyanCoin\", \"OpalCoin\", \"Orbitcoin\", \"PotCoin\", \"PhoenixCoin\", \"Reddcoin\", \"RonPaulCoin\", \"StableCoin\", \"SmartCoin\", \"SuperCoin\", \"SyncCoin\", \"SysCoin\", \"TeslaCoin\", \"TigerCoin\", \"TittieCoin\", \"TorCoin\", \"TerraCoin\", \"UnbreakableCoin\", \"Unobtanium\", \"UroCoin\", \"UnitaryStatus Dollar\", \"UltraCoin\", \"ViaCoin\", \"VeriCoin\", \"Vertcoin\", \"WorldCoin\", \"X11 Coin\", \"Crypti\", \"JouleCoin\", \"StealthCoin\", \"ZCC Coin\", \"ByteCoin\", \"DigitalNote \", \"BurstCoin\", \"StorjCoin\", \"MonaCoin\", \"Neutron\", \"FairCoin\", \"Gulden\", \"RubyCoin\", \"PesetaCoin\", \"Kore\", \"Wild Beast Coin\", \"Dnotes\", \"Flo\", \"8BIT Coin\", \"Sativa Coin\", \"ArtByte\", \"Folding Coin\", \"Ucoin\", \"Unitus\", \"CypherPunkCoin\", \"OmniCron\", \"Vtorrent\", \"GreenCoin\", \"Cryptonite\", \"MasterCoin\", \"SoonCoin\", \"1Credit\", \"IslaCoin\", \"Nexus\", \"MarsCoin \", \"Crypto\", \"Anarchists Prime\", \"Droidz\", \"BowsCoin\", \"Squall Coin\", \"Song Coin\", \"BitZeny\", \"Diggits\", \"Expanse\", \"Paycon\", \"Siacoin\", \"Emercoin\", \"EverGreenCoin\", \"MindCoin\", \"I0coin\", \"Decred\", \"Revolution VR\", \"HOdlcoin\", \"EDRCoin\", \"Hitcoin\", \"Gamecredits\", \"DubaiCoin\", \"CarpeDiemCoin\", \"PWR Coin\", \"BillaryCoin\", \"GPU Coin\", \"Adzcoin\", \"SoilCoin\", \"YoCoin\", \"SibCoin\", \"EuropeCoin\", \"ZeitCoin\", \"SwingCoin\", \"SafeExchangeCoin\", \"Nebuchadnezzar\", \"Francs\", \"BolivarCoin\", \"Ratecoin\", \"Revenu\", \"Clockcoin\", \"VIP Tokens\", \"BitSend\", \"Omni\", \"Let it Ride\", \"PutinCoin\", \"iBankCoin\", \"Frankywillcoin\", \"MudraCoin\", \"PizzaCoin\", \"Lutetium Coin\", \"Komodo\", \"GoldBlocks\", \"CarterCoin\", \"Karbo\", \"BitTokens\", \"ZayedCoin\", \"MustangCoin\", \"ZoneCoin\", \"Circuits of Value\", \"RootCoin\", \"DopeCoin\", \"BitCurrency\", \"DollarCoin\", \"Swiscoin\", \"Shilling\", \"BuzzCoin\", \"Opair\", \"PesoBit\", \"Halloween Coin\", \"ZCoin\", \"CoffeeCoin\", \"RoyalCoin\", \"GanjaCoin V2\", \"TeamUP\", \"LanaCoin\", \"Elementrem\", \"ZClassic\", \"ARK\", \"InsaneCoin\", \"KiloCoin\", \"ArtexCoin\", \"EmberCoin\", \"XenixCoin\", \"FreeCoin\", \"PLNCoin\", \"AquariusCoin\", \"Kurrent\", \"Creatio\", \"Eternity\", \"Eurocoin\", \"BitcoinFast\", \"Stakenet\", \"BitConnect Coin\", \"MoneyCoin\", \"Enigma\", \"Cannabis Industry Coin\", \"Russiacoin\", \"PandaCoin\", \"GameUnits\", \"GAKHcoin\", \"Allsafe\", \"LiteCreed\", \"OsmiumCoin\", \"Bikercoins\", \"HexxCoin\", \"Klingon Empire Darsek\", \"Internet of People\", \"KushCoin\", \"Printerium\", \"PacCoin\", \"Impeach\", \"Citadel\", \"Zilbercoin\", \"FirstCoin\", \"BeaverCoin\", \"FindCoin\", \"VaultCoin\", \"Zero\", \"OpenChat\", \"Canada eCoin\", \"Zoin\", \"RenosCoin\", \"DubaiCoin\", \"VirtacoinPlus\", \"TajCoin\", \"Impact\", \"EB3coin\", \"Atmos\", \"HappyCoin\", \"Coinonat\", \"MacronCoin\", \"Condensate\", \"Independent Money System\", \"ArgusCoin\", \"LomoCoin\", \"ProCurrency\", \"GoldReserve\", \"BenjiRolls\", \"GrowthCoin\", \"ILCoin\", \"Phreak\", \"Degas Coin\", \"HTML5 Coin\", \"Ultimate Secure Cash\", \"EquiTrader\", \"QTUM\", \"Quantum Resistant Ledger\", \"Espers\", \"Dynamic\", \"Nano\", \"ChanCoin\", \"Dinastycoin\", \"Denarius\", \"DigitalPrice\", \"Virta Unique Coin\", \"Bitcoin Planet\", \"Unify\", \"BritCoin\", \"SocialCoin\", \"ArcticCoin\", \"DAS\", \"Linda\", \"LeviarCoin\", \"DeepOnion\", \"Bitcore\", \"gCn Coin\", \"SmartCash\", \"Signatum\", \"Onix\", \"Cream\", \"Bitcoin Cash\", \"Monoeci\", \"Draftcoin\", \"Vechain\", \"Sojourn Coin\", \"Stakecoin\", \"NewYorkCoin\", \"FrazCoin\", \"Kronecoin\", \"AdCoin\", \"Linx\", \"CoinonatX\", \"Ethereum Dark\", \"Sumokoin\", \"Obsidian\", \"Cardano\", \"Regalcoin\", \"BitcoinZ\", \"TrezarCoin\", \"Elements\", \"TerraNovaCoin\", \"VIVO Coin\", \"Rupee\", \"Bitcoin Gold\", \"WomenCoin\", \"Theresa May Coin\", \"NamoCoin\", \"LUXCoin\", \"Pirl\", \"Xios\", \"Bitcloud 2.0\", \"eBoost\", \"KekCoin\", \"BlackholeCoin\", \"Infinity Economics\", \"Pura\", \"Innova\", \"Ellaism\", \"GoByte\", \"Magnet\", \"Lamden Tau\", \"Electra\", \"Bitcoin Diamond\", \"SHIELD\", \"Cash & Back Coin\", \"UltraNote\", \"BitCoal\", \"DaxxCoin\", \"Bulwark\", \"Kalkulus\", \"AC3\", \"Lethean\", \"GermanCoin\", \"LiteCoin Ultra\", \"PopularCoin\", \"PhantomX\", \"Photon\", \"Sucre\", \"SparksPay\", \"Digiwage\", \"GunCoin\", \"IrishCoin\", \"Trollcoin\", \"Litecoin Plus\", \"Monkey Project\", \"Pioneer Coin\", \"UnitedBitcoin\", \"Interzone\", \"TokenPay\", \"1717 Masonic Commemorative Token\", \"My Big Coin\", \"TurtleCoin\", \"MUNcoin\", \"Unified Society USDEX\", \"Niobio Cash\", \"ShareChain\", \"Travelflex\", \"KREDS\", \"Tokyo Coin\", \"BiblePay\", \"LitecoinCash\", \"BitFlip\", \"LottoCoin\", \"Crypto Improvement Fund\", \"Stipend\", \"Poa Network\", \"Pushi\", \"Ellerium\", \"Velox\", \"Ontology\", \"Callisto Network\", \"BitTube\", \"Poseidon\", \"Aidos Kuneen\", \"Bitspace\", \"Briacoin\", \"Ignition\", \"Bitrolium\", \"MedicCoin\", \"Alpenschillling\", \"Bitcoin Green\", \"Deviant Coin\", \"Abjcoin\", \"Semux\", \"FuturoCoin\", \"Carebit\", \"Zealium\", \"Monero Classic\", \"Proton\", \"iDealCash\", \"Jumpcoin\", \"Infinex\", \"Bitcoin Incognito\", \"KEYCO\", \"HollyWoodCoin\", \"GINcoin\", \"PlatinCoin\", \"Loki\", \"Newton Coin\", \"Swisscoin\", \"Xt3ch\", \"MassGrid\", \"TheVig\", \"PluraCoin\", \"EmaratCoin\", \"Dekado\", \"Lynx\", \"Poseidon Quark\", \"BitcoinWSpectrum\", \"Muse\", \"Motion\", \"PlusOneCoin\", \"Axe\", \"Trivechain\", \"Dystem\", \"Giant\", \"Peony Coin\", \"Absolute Coin\", \"Vitae\", \"HexCoin\", \"TPCash\", \"Webchain\", \"Ryo\", \"Urals Coin\", \"Qwertycoin\", \"ARENON\", \"EUNO\", \"MMOCoin\", \"Ketan\", \"Project Pai\", \"XDNA\", \"PAXEX\", \"Azart\", \"ThunderStake\", \"Kcash\", \"Xchange\", \"Acute Angle Cloud\", \"CrypticCoin\", \"Bettex coin\", \"Actinium\", \"Bitcoin SV\", \"BitMoney\", \"Junson Ming Chan Coin\", \"FREDEnergy\", \"HerbCoin\", \"Universal Molecule\", \"Lithium\", \"PirateCash\", \"Exosis\", \"Block-Logic\", \"Oduwa\", \"Beam\", \"Galilel\", \"Bithereum\", \"Crypto Sports\", \"Credit\", \"SLICE\", \"Dash Platinum\", \"Nasdacoin\", \"Beetle Coin\", \"Titan Coin\", \"Award\", \"BLAST\", \"Bitcoin Rhodium\", \"GlobalToken\", \"Insane Coin\", \"ALAX\", \"LiteDoge\", \"SolarCoin\", \"TruckCoin\", \"UFO Coin\", \"OrangeCoin\", \"BlakeCoin\", \"BitstarCoin\", \"NeosCoin\", \"HyperCoin\", \"PinkCoin\", \"Crypto Escudo\", \"AudioCoin\", \"IncaKoin\", \"Piggy Coin\", \"Crown Coin\", \"Genstake\", \"SmileyCoin\", \"XiaoMiCoin\", \"Groestlcoin\", \"CapriCoin\", \" ClubCoin\", \"Radium\", \"Bata\", \"Pakcoin\", \"Creditbit \", \"OKCash\", \"Lisk\", \"HiCoin\", \"WhiteCoin\", \"FriendshipCoin\", \"Fiii\", \"JoinCoin\", \"Triangles Coin\", \"Vollar\", \"EOS\", \"Reality Clash\", \"Oxycoin\", \"TigerCash\", \"Waves\", \"Particl\", \"BitTorrent\", \"Nxt\", \"ZEPHYR\", \"Gapcoin\", \"Beldex\", \"Horizen\", \"BitcoinPlus\"], \"legendgroup\": \"\", \"marker\": {\"color\": [0, 0, 0, 1, 1, 1, 0, 1, 1, 1, 0, 1, 0, 0, 1, 0, 1, 1, 0, 0, 1, 1, 1, 1, 1, 0, 1, 1, 1, 0, 1, 0, 1, 1, 0, 0, 1, 1, 1, 1, 1, 1, 0, 0, 1, 1, 1, 1, 1, 0, 0, 1, 0, 1, 1, 1, 1, 0, 1, 1, 0, 1, 0, 0, 0, 1, 1, 1, 0, 0, 0, 0, 0, 1, 1, 1, 0, 0, 1, 0, 1, 0, 0, 1, 1, 1, 1, 0, 0, 1, 0, 1, 1, 0, 0, 1, 0, 0, 1, 1, 0, 0, 1, 0, 0, 1, 0, 1, 0, 1, 0, 1, 0, 0, 1, 1, 0, 1, 1, 1, 0, 1, 1, 1, 1, 1, 0, 0, 1, 1, 1, 0, 1, 0, 1, 1, 0, 1, 0, 1, 0, 0, 1, 1, 0, 1, 1, 0, 0, 1, 0, 1, 0, 0, 0, 1, 1, 1, 1, 0, 0, 0, 0, 0, 1, 1, 0, 0, 0, 0, 0, 1, 0, 0, 0, 0, 0, 1, 0, 1, 0, 0, 1, 0, 1, 0, 0, 1, 0, 1, 0, 1, 0, 1, 0, 0, 0, 0, 1, 0, 0, 0, 0, 0, 1, 1, 0, 0, 1, 1, 0, 0, 0, 0, 0, 1, 0, 0, 0, 0, 0, 0, 0, 0, 1, 0, 0, 0, 0, 0, 0, 1, 1, 1, 0, 0, 0, 0, 1, 0, 1, 0, 0, 1, 0, 1, 1, 0, 1, 1, 0, 1, 0, 0, 0, 1, 0, 0, 1, 0, 0, 0, 0, 0, 0, 0, 1, 0, 1, 0, 0, 0, 0, 1, 0, 1, 0, 1, 1, 1, 1, 0, 1, 0, 0, 1, 0, 1, 1, 1, 0, 1, 0, 1, 1, 1, 0, 1, 0, 1, 0, 0, 3, 1, 0, 1, 1, 1, 1, 1, 0, 0, 1, 0, 0, 0, 1, 0, 1, 0, 1, 0, 1, 0, 0, 0, 0, 1, 0, 0, 1, 0, 0, 0, 1, 1, 1, 1, 0, 0, 0, 0, 1, 0, 1, 1, 1, 0, 0, 1, 1, 0, 0, 1, 0, 1, 1, 1, 0, 1, 1, 0, 0, 0, 1, 1, 1, 0, 0, 0, 1, 1, 0, 1, 1, 1, 1, 0, 3, 3, 1, 1, 1, 0, 3, 0, 0, 0, 0, 1, 1, 1, 1, 0, 0, 0, 1, 0, 1, 0, 0, 0, 0, 1, 0, 0, 1, 0, 0, 1, 1, 0, 1, 0, 1, 1, 1, 1, 0, 0, 1, 0, 1, 0, 0, 0, 0, 0, 0, 1, 1, 1, 0, 0, 0, 0, 0, 0, 1, 0, 1, 1, 1, 1, 0, 0, 0, 0, 1, 0, 0, 1, 0, 0, 1, 0, 1, 0, 1, 1, 0, 0, 1, 0, 1, 1, 0, 1, 1, 0, 1, 0, 1, 0, 0, 1, 0, 0, 0, 0, 0, 1, 1, 1, 0, 0, 0, 1, 0, 1, 0, 1, 0, 0, 0, 0, 1, 0, 0, 0, 1, 0, 1, 0, 1, 0, 0, 0, 1, 1, 0, 0, 0, 0, 0, 0, 3, 1, 0, 1, 0, 1, 0, 0, 3, 0, 2, 0, 0, 0, 1, 1, 0], \"coloraxis\": \"coloraxis\", \"symbol\": \"circle\"}, \"mode\": \"markers\", \"name\": \"\", \"scene\": \"scene\", \"showlegend\": false, \"type\": \"scatter3d\", \"x\": [-0.6072737931360755, -0.6077485241263535, -0.7071451801061783, 0.1892724695579579, 0.40859848481548106, -0.007872915391796841, -0.4902685877959534, 0.4468732865986492, 0.40858059596638496, 0.3576274719848449, -0.08638416193565088, 0.3915385879599284, -0.4101538450488982, -0.09112886021839967, -0.007844622562731308, -0.7213128187994741, 0.10916379140517371, -0.007850462008853004, -0.6072825166894793, -0.6075359541307709, 0.39695465117769496, -0.03626999795469336, 0.18919862751557276, -0.007912394646377921, -0.007851127085165466, -0.6073245659444012, 0.05893225439832659, 0.1007415259078746, -0.007858051712294365, -0.6072738477002588, -0.007845221478130023, -0.6072742958654822, -0.007843601491212535, 0.1091664779540958, -0.26674572600919494, -0.498666605371523, 0.390001459660166, 0.1799810389387266, -0.014013459809322129, -0.007850869866846782, -0.007953184415379075, -0.007851100991716086, -0.06719333983628058, -0.3261483680726145, -0.007841991269394806, 0.27752996178147354, -0.00831063191052559, -0.007872965417523043, -0.007863224033435723, -0.6073195067205859, -0.1719270522587643, -0.05192591360150588, -0.490272144049068, 0.18927116491905374, -0.007922822056671051, -0.007850142245020663, -0.007841243538621093, -0.5838662960278835, -0.007859538042461369, 0.4187551433572061, -0.2970304691629877, -0.007843822990846433, -0.4109966201524931, -0.2882529677442978, -0.6718337666038445, -0.009927391413508757, 0.18927378599698094, -0.008003730830555493, -0.6718127537770205, -0.32179378360487304, -0.6073967590802143, -0.6073115623765194, -0.6193687093571701, -0.007842698242644133, -0.007869187247298456, -0.007855037916291554, -0.171255454985125, -0.4902632334925559, 0.1889832583792946, 0.11735433119090805, 0.18925997783940285, -0.29164729775334286, -0.4902645640277107, 0.18926884855542034, 0.18927455793405387, 0.1892813192181172, 0.109169374109622, -0.6078456506684421, -0.6073019224530298, -0.007851942278236499, -0.373296917383382, 0.21821923434912568, -0.007909685326148861, -0.49026650787363024, 0.11735359058681348, 0.189261917814694, -0.671820154311986, -0.6074088850822095, 0.36083885801740895, 0.44684766111438634, 0.021315486191265394, -0.21841470735884297, -0.007876606014133355, -0.4101728595834974, -0.4986868642739806, -0.008136298849890594, -0.2882563100584124, -0.007909742859032728, -0.6718082234537321, -0.007840957583978618, -0.28835416660038765, -0.007915356820178647, -0.6072743987124433, -0.671810168950229, -0.008241704929277593, 0.4248059560238748, -0.17123712463845397, 0.3977723904303755, 0.31550735271789027, -0.007845121105851215, -0.6072800616452952, -0.010483153121142896, 0.48241986308440715, -0.007840989410225081, 0.18927472410534132, -0.014651913202822098, -0.4902638574517277, -0.28166662238099965, 0.10915413520670042, 0.42538340986683937, 0.18927135616564836, -0.7498529840578706, 0.10916177244184401, -0.14376716585613106, -0.007869688692346452, -0.007890393401892409, -0.28829375549796976, 0.40863733103785066, -0.6718197091878249, 0.41123536154439383, -0.41024348465599747, -0.7212838977703279, 0.10916214102363685, 0.189271202823344, -0.5525062846005792, -0.007942876324505434, 0.22051332417555092, -0.4101548273235169, -0.49676567642956027, -0.007875719615640552, -0.4101545780070452, 0.17871092318444212, -0.6352952460818738, -0.6072806152420586, -0.28827815981055077, 0.10914504184300414, 0.4892495775083659, -0.007853414386293495, 0.6081386004133503, -0.49029595603857656, -0.31082799171881936, -0.41015645179986576, -0.24832626741360184, -0.06720072874774469, -0.007844879619803166, 0.10916238799634476, -0.4903242997490345, -0.4101686671476353, -0.4101974274184573, -0.6311819201079442, -0.49028358555464496, -0.007840987935793001, -0.20447779264921093, -0.6077573252889816, -0.6072789427741729, -0.6073224542390789, -0.3527946716901883, 0.10916745285463712, -0.17155423777284404, 0.16850464525905215, -0.4902733559553719, -0.6072982653092206, 0.4504335362768569, -0.4101534849200261, 0.18927812375470782, -0.4902637263622525, -0.6072764131038563, 0.39729783648666095, -0.6072745934683896, -0.007903702501290952, -0.288315066790319, 0.18927687579863686, -0.39012683809241855, -0.007847496526542593, -0.8036635409867368, -0.06722701970229629, -0.6072876239023535, -0.49048348505622097, 0.4945305109857634, -0.06725531497626755, -0.35277901846348136, -0.6876423930872022, -0.06722063252694309, -0.7951076905032375, 0.40863016089337567, 0.3576282020416705, -0.11561310129361967, -0.49027302178768734, -0.008662022522817626, 0.10879289179052992, -0.7099060289431262, -0.4902651080050184, -0.06721532708477855, -0.6072836971800856, -0.6072779132096654, 0.10912767463040243, -0.06720072874774469, -0.49027017913871485, -0.4101582880046074, -0.6072845884693574, -0.03083370239375585, -0.6072804377326169, -0.607326467529191, -0.4902639392203947, 0.4504355456883564, -0.6072879106209985, -0.304602836239691, -0.6072761884376556, -0.6072754066158123, -0.2213522281505035, -0.2839414340638412, -0.007841257770698768, 0.4504317925941219, 0.42539243607171706, -0.6073206979973548, -0.41015428146077043, -0.4902662602639703, -0.6072801511768868, 0.10154485985990537, -0.60727554408995, 0.446862161291149, -0.28825037208295223, -0.29996761843717773, -0.0078422220042028, -0.35278486983096574, 0.10908330119414276, 0.3576279584872917, -0.6077604043500846, -0.007889284482655325, 0.4253847441993639, -0.2882625166591439, 0.39829809979733816, -0.49027606704096266, -0.7688865585744007, -0.4903170202519672, -0.008163271140100173, -0.06724501385080986, -0.49027951559233596, -0.031715471072409726, -0.06738622745358948, -0.4903504465786923, -0.6072775786442193, -0.6072763842785287, -0.6073480340652562, -0.09671706821010426, -0.4902732788293131, -0.00785168314955725, -0.2885149296765133, 0.18855266221715974, -0.06719791690329502, -0.6072903788807311, -0.744714447074268, -0.09114206628307546, -0.007851659788055791, -0.20450805236048453, 0.4468441271046546, -0.7741278220005979, 0.34408083574572446, 0.42481077548712604, 0.3704304022265185, 0.4495428909002618, -0.6311432886682331, 0.10914797123342254, -0.6311756798920976, -0.7998712591097893, -0.007849596448083003, -0.6718174963725179, -0.007848372667771044, 0.10915468566831514, 0.10916739082102751, -0.6147072527950679, 0.4504276632760937, -0.6718169421852842, 0.3724224221440365, -0.08992033358795132, 0.104243631806421, -0.043902688674877524, 0.10903790351079773, -0.799887979782299, 0.1892724413316853, -0.4902691225837708, -0.28825408305304784, 7.355633879714899, -0.008618252097230524, -0.06719720736189506, -0.06684188969984059, -0.007846172318891148, -0.007854107884940106, -0.007861560707829772, -0.007862002080158742, -0.6072854270123695, -0.6072758368828185, 0.4504272319378017, -0.08500356772635871, -0.11334272176672759, -0.490268228165722, 0.35392718011692303, -0.3218971419330977, 0.10792147489756017, -0.607275428568117, 0.27763721169050876, -0.06216951873859707, 0.3576234207697054, -0.6291179027290573, -0.41019706600183165, -0.6314609441530541, -0.6098442517174673, 0.4892285567318703, -0.6072762347544299, -0.5404029547835981, -0.007889344963566379, -0.2458253158804559, -0.6072816387633786, -0.0955024868969054, 0.10907167012731515, 0.27763496756470296, 0.4086169201197018, 0.2776361688315762, -0.4902896537695053, -0.11571508206568397, -0.6450786912194025, -0.6718977697340837, 0.3975516410305782, -0.6073351268955006, 0.4361893299601889, 0.45043472194811096, 0.4076876584441395, -0.31211964599531844, -0.22135525448855417, 0.10909601656825987, 0.4466243376026199, -0.6130018961324507, -0.6072883719629911, -0.009846397838274215, -0.4902855724884351, 0.02785523856674167, 0.10916666152811129, 0.27763613701855144, -0.22136692561173155, 0.27748022246424714, -0.007864191424227686, -0.607584266450839, -0.6072751225466242, -0.17123790724862498, 0.10916467155299893, 0.18927160761612694, 0.07470064168843585, -0.20446967758705903, 0.12823771904076872, -0.3537759356839403, 0.35447859153133815, 0.3224023896800879, -0.6073878612246087, 0.4503573709311646, -0.012706800309780246, 0.48920246772303017, 0.21789951310184547, -0.3529320455453934, 15.200564905326544, 14.989401584905169, -0.007848784321011899, -0.015182095554719935, 0.1090456784311766, -0.5247319180741664, 10.435220720862116, -0.49026597819412815, -0.5360748068118077, -0.2882648242609242, -0.19491065321151566, 0.40805952840705323, 0.45033044293831453, -0.007843921967339112, 0.32743846644909236, -0.6311502175860086, -0.6072743641099689, -0.6072746510177801, 0.357597450764314, -0.2883923924644874, 0.49450172737417863, -0.18448977320495796, -0.06720653734048876, -0.6072800906192829, -0.07060144249083852, 0.10914934821343418, -0.540447937201181, -0.06720148868634283, 0.45042953355532744, -0.1075782149873087, -0.6082323175412049, -0.03171796960332854, 0.4253899016540751, -0.18958004271211656, 0.49691179964061655, -0.28826298879852524, 0.49453155803426574, 0.4503930483606003, 0.4173174595392974, 0.4197779747330599, -0.6122372277070329, -0.28825149985888265, 0.42466947888447804, -0.7941266281455956, 0.4501323909717277, -0.60728892340873, -0.40226682734457403, -0.43029417527172253, -0.22139602144110396, -0.09115426013404608, -0.11660906546436225, 0.17282635297790072, 0.4435526439447562, 0.10916625748206178, -0.4266231101854291, -0.22135125500096087, -0.5403783005804024, -0.28949522936780714, -0.38119592635561983, -0.22138143399255483, -0.00784290900292362, -0.6073500572592855, 0.4467443947047639, 0.4056022449009858, 0.06334128220524309, 0.36260601191677344, -0.17124655624656016, -0.4902796301116914, -0.28830880423380306, -0.06721039195792726, 0.188259537025934, -0.4939237366179546, -0.1712437961664652, 0.10916595191576295, -0.6090437292418504, 0.03789743189170913, 0.17281991225004287, 0.013244420932686006, 0.35532210157154653, -0.21704799506525532, 0.4945233734918178, 0.18927244260035844, -0.294899163359887, -0.17833494554720797, 0.44906900081092344, -0.540394043837354, 0.4954645633012672, 0.49546459119525765, 0.07721433289119371, 0.43588381600252635, -0.007864129772326022, -0.6072814447142099, 0.35759789264507713, -0.5403844220245464, 0.35761940952851295, -0.22134856629995892, -0.6255295515792242, 0.3154972425409118, -0.1712362879389584, -0.6072884890433826, -0.5361892862974591, -0.7948455023091733, -0.49030068951820244, 0.18925510718804464, -0.07237403377385887, 0.1892340734123378, -0.49027526337699007, -0.11604581655038369, -0.6161852201982183, -0.01512641309115638, -0.49036331332597805, 0.2757668153261515, -0.6072900593931265, 0.49494511789307616, -0.6072862993440883, -0.09112635266171656, -0.6072777667231216, -0.49048027954664497, -0.008236619283520265, -0.6084557843256129, -0.4175672613995593, -0.4905411797145388, 0.18926882729407637, -0.6072996582299405, -0.023748081965995517, -0.6074702184861024, 0.10073017264367143, -0.490361710346634, -0.6073283906200163, -0.06719323939148002, -0.007843142704784197, -0.00788291244745811, -0.017485821096868477, -0.41019026776649214, -0.11562055901797222, -0.29311196181056604, -0.6073999751061149, -0.3217970925162162, 12.619116726188807, 0.3977976722705836, -0.6718065675819261, 0.36453126628898297, -0.11598025807797369, 0.4086309966943595, -0.11602227395213041, -0.09160959702542391, 14.509771834289841, -0.06719546575376716, -1.0825892441939584, 0.24135967982820347, -0.09105519359423435, -0.6072984619808233, 0.4499294220900955, 0.3576275076804554, -0.28824522135389846], \"y\": [1.002278772779633, 1.002336514527977, 1.6542541561971802, -1.3192242332998814, -2.049479020014157, -1.146201211480707, 1.2400620149366133, -2.173491235994959, -2.049588079672885, -1.9943586365463868, 1.615684531359989, -1.8213045929927627, 0.8292257619787843, 0.6168702798628434, -1.1461863271147832, 1.9240837783977658, -0.9083921121999838, -1.146206965355838, 1.0022757389867334, 1.0024826993878615, -1.8143912808951348, -1.3489310846129199, -1.3192539278148705, -1.1462677105070085, -1.1462275294117192, 1.0023182673345103, -0.4716910814875062, -1.1808260628011593, -1.1461917892690383, 1.0022785224507642, -1.146185861237809, 1.0022785782668542, -1.1461825186016465, -0.9083930307910161, 0.6006314871588382, 0.9676569988714988, -1.8175059434856826, -1.3242819133253494, -1.1492810140574719, -1.1461814675383744, -1.1462651396441288, -1.1461877292918552, 1.5648242138950859, 0.34654674400802826, -1.146182656060087, -1.6682731658941896, -1.146643436980234, -1.1461929742461372, -1.146201866823955, 1.0022440606031289, 1.0282454859157508, -1.1649394647281315, 1.2400647812312307, -1.3192232184633392, -1.1462686296944546, -1.1461814479375592, -1.1461774486193141, 2.2929025965411873, -1.1461870223258512, -2.243472076026223, 0.7967486983326271, -1.1461805075379048, 0.8284775427318851, 0.7899114881181317, 1.8107564432327639, -1.1533378264495013, -1.3192252573153338, -1.146247609744872, 1.810740098032397, 0.4802921817071785, 1.002128474411646, 1.0022507640301943, 1.0116870180969548, -1.1461878239813243, -1.1463013201494046, -1.1461959102970767, 1.027723072054189, 1.2400707324871985, -1.3195069755686872, 0.12218780433282311, -1.3192297488568354, 1.581376613879472, 1.240065912109489, -1.319233714120523, -1.319260407848083, -1.319218966081961, -0.9083847429183561, 1.0017866513464586, 1.00224209425584, -1.1461818045328758, 0.30426730397867635, -1.2954513402831318, -1.146278848333496, 1.2400700593392076, 0.12224693986180188, -1.3192300797039223, 1.8107458546698951, 1.0017982621033248, -2.3402249277741567, -2.304961251166856, 1.3463721536610571, 1.3619475043167812, -1.1462107084176885, 0.8292136154310793, 0.9676753225217514, -1.146930942595737, 0.789923562913395, -1.146220809359269, 1.8107295469075724, -1.1461784194438127, 0.7897068851770439, -1.146212702834289, 1.0022792438625578, 1.8107322314352976, -1.1464507464345346, -2.2988628454405178, 1.0276971015812415, -1.8138561851506774, -1.5164074951859192, -1.1461756160683754, 1.0022719369880182, -1.1499775454924246, -2.238169401200642, -1.1461772185080288, -1.319225987039576, -1.1947535397471016, 1.2400712184305112, 2.8963366091234217, -0.9083922136813856, -2.1839293769738046, -1.3192425512994386, 1.9190003728368594, -0.9083911273078867, 0.6972505767397856, -1.1462776468593456, -1.1462848245655994, 0.7898941310763529, -2.0495191375287134, 1.8107162287036962, -2.275562834137888, 0.8287227784452121, 1.92425083973039, -0.9083884860439302, -1.3192232479478638, 0.9758855529852143, -1.1462205760177884, -1.1495656881239549, 0.8292265260585336, 1.2295812432365412, -1.1461990301654104, 0.8292330664585379, -1.3236606772803092, 1.5393151199629027, 1.002259484536962, 0.7898111119543407, -0.908415005559846, -2.2181715831119933, -1.1462657763303516, -2.3120037056924816, 1.23987131864827, 0.7495075036198978, 0.8292172489876508, 0.6084698047490645, 1.5648182496036493, -1.1461855415640076, -0.9083939485053596, 1.2400743149667461, 0.8291197481816182, 0.8289651093308306, 1.5360627928406692, 1.2400051666682383, -1.1461772178805902, 1.4529958299213859, 1.0014837081343355, 1.0022568171914608, 1.0022580652701005, 1.5982673033177712, -0.9083978882952942, 1.027570750048961, -1.213149740376988, 1.240049327291721, 1.0022451054252999, -2.301900500068773, 0.8292260674405173, -1.31922203538221, 1.2400693596771275, 1.0022685133109213, -1.814189758184476, 1.002279395356928, -1.146245192127899, 0.7899692678803638, -1.3192215930180542, 0.33136212621777167, -1.1461893619003383, 1.9285045455736003, 1.564807078393421, 1.0022895313113043, 1.2393636681074607, -2.1591993560949216, 1.5648489986428693, 1.5983707819928368, 1.8948448340522865, 1.5646691800938386, 1.9291656414416347, -2.0495190056297443, -1.994359204434046, 2.000914562977741, 1.2400607792408431, -1.151394144257222, -0.9083846866477848, 1.8398738731419664, 1.2400699347091246, 1.5648120373481802, 1.0022639080336848, 1.0022573827130985, -0.9084858217544084, 1.5648182496036493, 1.2400410002047955, 0.8292303891994933, 1.002267845531674, 0.8253858615888244, 1.002267544779263, 1.0019387237814148, 1.2400683540638737, -2.3019085046632437, 1.0022054287513027, 0.7835984462326019, 1.0022730233052841, 1.0022780861707175, 1.464443420326546, 0.6320144006180323, -1.1461782364668394, -2.3019079276297445, -2.183903728384085, 1.0020224613985502, 0.8292266870438755, 1.2400676098509378, 1.0022720066317563, -0.9610133160952202, 1.002267290778478, -2.173590916935356, 0.7898867362634562, 0.2642768118267623, -1.1461778645471743, 1.5983682919702011, -0.9089033839424471, -1.9943566726034714, 1.002071697606046, -1.1461978480027084, -2.183904186663277, 0.7899082309084875, -2.1293451399023233, 1.2400221564393068, 1.8301316321305483, 1.240048156677798, -1.1482685406579252, 1.5647998242240433, 1.2400248389562116, -0.6123945599164404, 1.5647400172046209, 1.2398457761353738, 1.0022692957303203, 1.0022640403714211, 1.0017509280595545, 0.5773049088783758, 1.2400551232415407, -1.1461893379764616, 0.7889535460356331, -1.3201160068234115, 1.5648102064168343, 1.002230186911358, 1.889788615165187, 0.616770704183384, -1.1462107183969772, 1.4529804259494103, -2.173530041173697, 1.9606260594120215, -2.22791159770578, -2.286321978303442, -2.1427873648596396, -2.302373028546813, 1.5360795902390503, -0.9084266537480955, 1.5360403709469148, 1.8752274295853741, -1.1461814489935482, 1.8107262193134153, -1.146215032124952, -0.9084084529156974, -0.9083942679156968, 0.9787813028909187, -2.301921697803124, 1.8107322893878555, -2.3512592451641066, -1.1994488546702082, -1.1852085858520995, 1.6423304391943427, -0.9089266299854902, 1.8752404360573125, -1.3192242113435635, 1.2400697466025725, 0.7899116378058592, 2.7886595476365117, -1.151720989044468, 1.5647911497258846, -1.1002819580651173, -1.1461845360150742, -1.1462158412337895, -1.1462194134331116, -1.1462190701038102, 1.00225956632192, 1.0022779030725635, -2.301941793015343, 1.6166655686061413, 1.4271066297378876, 1.2400588072200078, -2.0037654831040164, 0.48014055076063933, -0.9084681122282926, 1.0022708316028597, -1.6681756434797077, 0.6406635479890878, -1.9943554852367698, 1.004630741995636, 0.8292137058034751, 1.5356298268974182, 1.7944052920206197, -2.2182291962393212, 1.002268374578654, 1.6767161543487836, -1.146197800956558, 1.6634717745547534, 1.002276215733551, 0.6150093536210464, -0.908513700170548, -1.6681844385452604, -2.0496573266662295, -1.6681776431263466, 1.2400069589650444, 2.00077429264315, 1.529357515358672, 1.8106832543862421, -1.8140709635950658, 1.0022035075402336, -2.3405900567736677, -2.301902886350129, -2.0546264612458374, 1.323709214536998, 1.4644428464454755, -0.9086497573557115, -2.1738828773470913, 0.9774547609372425, 1.0022022740481453, -1.1475448850455048, 1.2400588301388333, -1.210426337188174, -0.9083942276571879, -1.6681712939608315, 1.4643933655988888, -1.668330512759884, -1.146196285686363, 1.0019932450512374, 1.0022774645323478, 1.0276971247540867, -0.9083945536217022, -1.3192230744374123, -1.1627929967701895, 1.4529944950283713, -0.113421985343368, 0.33893972959136576, -2.8128487563244855, -2.1333633822729703, 1.0022316447981494, -2.3020321572669475, -1.148247842052339, -2.2181759295350276, -1.2957976033144927, 1.5980228053880938, 2.764874109812294, 3.60352060568149, -1.1461942161102427, -1.1512454697620993, -0.908581321223705, 0.9856645849356453, 3.145165854808402, 1.2400582282284003, 1.2793971908803794, 0.7898575721351617, 1.5662756585649025, -2.0528661466051625, -2.3024000455109426, -1.1461868720853459, -2.243898047617959, 1.536061556245971, 1.0022774601633007, 1.0022765121508965, -1.9943639781311535, 0.7897366198440231, -2.1593401128429868, 1.482703528084342, 1.5647829475035124, 1.0022661035822553, 2.152777575545962, -0.9084277248564423, 1.676751144720832, 1.564783705073216, -2.3019023054734773, 0.638017094905142, 1.000024992233953, -0.6123766577720569, -2.18391129041925, 0.7366008867069654, -2.2475366013218188, 0.78991353263635, -2.159193787581559, -2.3022145068056337, -2.174090139892728, -2.3857980353420114, 1.000166605929042, 0.7898940550620476, -2.120688720129199, 1.9327394165703908, -2.302245987272894, 1.002241352228381, 1.7118586472956494, 0.22530842490868924, 1.4641056332905114, 0.6168386445850393, 1.7366676839816912, -1.298061535247113, -2.26633615685423, -0.9083946160760388, 0.8503716407440302, 1.4644391497786824, 1.676811079116441, 0.7810024453366372, 0.8530090105517661, 1.464416363087855, -1.1461883072734884, 1.001752501836946, -2.1744157652935985, -2.2779906978460867, -0.869133274991495, -2.239468623279058, 1.0276839423221098, 1.2400542077555936, 0.7898121419035681, 1.5647145033730514, -1.31965375644208, 0.9649763456916118, 1.0276554435981893, -0.9083967207633462, 0.9931148503755031, 1.90318187715675, -1.2981021572439295, 0.3247863678913773, -1.9970035829707025, 1.067040580462539, -2.1592304622760725, -1.319224212330423, 0.5602688663414751, 1.0332299794637205, -2.305564818494056, 1.676794719588987, -2.165672954111505, -2.1656261919716147, -0.058309104775740035, -2.213059617450034, -1.146229126928074, 1.0022724272383563, -1.9944772244503641, 1.6768077098132035, -1.9943581542075366, 1.4644415264099166, 0.9726768797582812, -1.5164581902422163, 1.0276966264179968, 1.002241014349585, 1.2792285792580218, 1.9304291931901345, 1.239853919272129, -1.319235908230098, -0.33772136234654077, -1.3192804485486855, 1.2400625229008748, 2.000738763148619, 0.9887148816130529, -1.1979565672387567, 1.2401485819478475, -1.6690472888937438, 1.002174306927163, -2.1693064971841456, 1.0022567289023536, 0.6168633517632233, 1.0022818637294535, 1.2399467690143038, -1.146454702394368, 0.9970494647554368, 0.8348940396367902, 1.2397013441063194, -1.319233697582009, 1.0022901085111122, -1.1630829598849848, 1.0021973280019625, -1.1808295289448114, 1.2400255314130795, 1.0022275473272335, 1.5648188654129902, -1.146178108738648, -1.1462508233416915, 0.7500070101487811, 0.8292054897035865, 2.0008999160825907, 0.7878395000349975, 1.0022012473788087, 0.48026172916645204, 2.812448123557826, -1.8138774907431232, 1.8107352157194008, -2.1674328113453507, 2.001273361696425, -2.0495186499584155, 2.001306044490008, 0.6166659550825201, 3.5815950091283577, 1.5648208114739741, 1.5913657854895196, 1.7845478299773696, 0.8807333262614806, 1.0021515633106979, -2.3023224724321047, -1.9943586643128488, 0.7899143517733715], \"z\": [-0.34642834217237545, -0.3298019167773501, 2.287451154665314, -0.13958681291307168, -0.14734161412529898, -0.17079757804628648, -0.39839565477202304, -0.13416732678867097, -0.1457866437823169, -0.14382733819159293, -0.20010106370438013, 0.16703897091790046, -0.3140505722624352, -0.2566489818304843, -0.17194143220318717, -0.24839544993987447, -0.22411596409825174, -0.17155872820170529, -0.34608864006654416, -0.3386826902064571, -0.08584891594645899, 2.5447086273542623, -0.13667783759989108, -0.16881977348767596, -0.17136311760989453, -0.3449282393072994, -0.2150557930860511, -0.20010932078050822, -0.17141188071357338, -0.3464242863589287, -0.17192373700652558, -0.3464086012390796, -0.17201001824643725, -0.2242051148594807, 0.6522282863711212, -0.3755043679503638, 0.1907277938218528, 0.23747331223581916, 0.07620194659266026, -0.1717568530870501, -0.16737124797398792, -0.17169625865727767, -0.34610037142266475, -0.28726415335455446, -0.17206690017552215, -0.16934410345844228, -0.15133199252359525, -0.17086452915546263, -0.17114136574883188, -0.3444911806314513, -0.32086237716253646, 1.573189709313459, -0.39829058384147553, -0.13954826683098218, -0.1684363177314814, -0.17178323876262178, -0.1721373120164043, -0.4679626925171954, -0.17139810463831354, -0.10087024886678332, -0.029522611125263203, -0.1720188216289714, -0.27743341861466364, -0.28877834106045763, -0.2913850771287901, -0.03719089627352134, -0.13962570763395452, -0.16569597091764293, -0.2920059095600202, -0.3484670718895945, -0.3407423898510364, -0.3448334309812625, 0.010920828485546142, -0.1719982870151661, -0.1700963534948518, -0.1714860949581701, -0.34070498909153646, -0.398661376439321, -0.12680423331184454, -0.23582250721551098, -0.13909059887252015, -0.30537115837097345, -0.39857319217335385, -0.13937718522535747, -0.13936013488083648, -0.13994970144661936, -0.22437866326305517, -0.321712108193395, -0.34510847081179635, -0.17171539266928446, -0.3026336977114665, -0.1828556188785465, -0.1688244477254527, -0.39853775554333515, -0.23628940533679282, -0.1391577503122931, -0.2917872577739614, -0.33754920074686756, 3.8611949210896532, 0.46726899209103195, -0.0014825479397887155, -0.31888330899237927, -0.1705853068782885, -0.3132639415787221, -0.37492721906323756, -0.15521488580414228, -0.28875867557788976, -0.1693068097603592, -0.2920811062380082, -0.17213951405860667, -0.28342356679686453, -0.16917215648051587, -0.34641045037986545, -0.2920334013518337, -0.15542432179648716, -0.1536968233646993, -0.341148810652804, -0.1197849428538401, -0.1796033554265864, -0.17201286784869219, -0.3461453808345649, -0.045209671169657746, -0.12625374994177002, -0.1721483909844901, -0.13965342442327716, 0.4787572697354162, -0.398642946202094, -0.5277138059674202, -0.22376712648163427, -0.15477391682373676, -0.13939379310232772, -0.43616136291772195, -0.22405142521788396, -0.3407046120603369, -0.17027587685499318, -0.16946980911678822, -0.28716355541786087, -0.1484067063959354, -0.29155601936282277, 0.38491300299489084, -0.3066218697988847, -0.2508321226293081, -0.22408675409376344, -0.13954938672850176, -0.08962100958754556, -0.16811469185820724, -0.09395705341954859, -0.31402155056322717, -0.07677311078137816, -0.1707147261234047, -0.31408512636905384, 0.2780605223984708, -0.24365887262235328, -0.3460214930903784, -0.28703265575251946, -0.22324918180953324, -0.14171686448735255, -0.17096145118834488, -0.1489547271492704, -0.3958176669869854, 0.8620225214477394, -0.3138855744331013, -0.07699740181942875, -0.3457843071441502, -0.1719387251441479, -0.22405006084080842, -0.39649056950996864, -0.3126315445988916, -0.3103043523768257, -0.36474884351370523, -0.39738066785724685, -0.17214844935719945, -0.3235815125648559, -0.32236659883168356, -0.3460595019726835, -0.3445018509240048, -0.23337638159249072, -0.22419970411888265, -0.32866604953790396, -0.25135450175603335, -0.39811791930272755, -0.34526540055527066, 0.3124937874442594, -0.3140661002106768, -0.1398089245634759, -0.3986321559064094, -0.3462482906651166, -0.09989870065455739, -0.34640469623699954, -0.1693209761987079, -0.2870226842700038, -0.13976764295049277, -0.23784659455659996, -0.1718125296238434, 0.027359742165202542, -0.34474358933702487, -0.34601970681765487, -0.3848222666616842, -0.15722913824580736, -0.3440737796234218, -0.2348042015194918, -0.4166364175007217, -0.34382277138695533, -0.2864944253216173, -0.14814940928367037, -0.1438489080145024, 3.7913635100205134, -0.39822554833505636, -0.09901570813996098, -0.21081144368326993, 0.8376298732456193, -0.3985871638275158, -0.34520635952690015, -0.3459473477631894, -0.34610132572565294, -0.222032217941512, -0.3457843071441502, -0.3981629016735504, -0.3139290789379947, -0.3459480926507291, -0.3895602739768838, -0.34609516681777236, -0.34169176390110045, -0.39861609133551873, 0.3124881843246462, -0.3453073930225901, 0.35313229404629065, -0.3462940308838954, -0.34636446456977665, -0.33666268273351024, -0.3530227227650952, -0.17213022317272822, 0.3126186221880308, -0.15531328540865416, -0.34259862152297565, -0.3140425660935848, -0.39852623370592943, -0.3461427355876263, 0.48967024846140417, -0.346269404089961, -0.13293438289805418, -0.28866528669219316, -0.29660831979269964, -0.1720985783874213, -0.23457254609960165, -0.2169478086350159, -0.14386126328498883, -0.3271634224065009, -0.17023574193353241, -0.15503226018482696, -0.2884070297381831, -0.1816257681685835, -0.397793429403329, -0.4411360741387744, -0.3965345723339397, -0.1430782926606835, -0.344034566720561, -0.39769154056413825, -0.19167003992131915, -0.3384463108155818, -0.393640737735399, -0.3462128175015778, -0.34621199507389777, -0.33934706854990315, 0.2749804520731159, -0.39816907597995105, -0.1716618515735077, -0.2713420634542004, -0.10620296965475089, -0.34581850626410104, -0.3454250913260529, 0.8812059644979975, -0.2553419300895323, -0.17148423696736886, -0.3223624387960648, -0.1327925792489971, 0.6000489249469456, -0.1597381218947341, -0.014514838628404338, -0.17739245765389744, 0.34853497718817755, -0.3662812486124191, -0.223257527098425, -0.36478657933382086, -0.43045716236421494, -0.17180289940679008, -0.29171915379575075, -0.17156669287300783, -0.22365141960850946, -0.22422768686452502, 0.11758600076006899, 0.3128823706267983, -0.291789790871303, -0.15410310045145456, 3.2304749965627764, -0.10761711958541703, -0.31265227850561284, -0.21511773622958985, -0.42996314336083863, -0.1395859789562435, -0.3984409161573158, -0.28873939690857153, 4.455329315382989, -0.09786502515446308, -0.3456850157782627, 1.571053942233851, -0.17190053182896814, -0.17135325341086655, -0.1710548520262395, -0.17104181150301986, -0.3458487689000848, -0.3463474303150902, 0.31306564444623664, -0.25804343807171837, 0.6740056665361734, -0.39838184121363746, 0.06804034077244257, -0.3434766171752562, -0.17871094624801445, -0.34630312156223453, -0.17402317407838075, -0.30054109260432355, -0.14370764340866837, 0.4211595649307988, -0.3123923437385294, -0.3510795125272431, -0.3982323506026793, -0.14047843567797796, -0.3462535600707415, -0.39244591309949606, -0.17023395500066296, -0.3437460652964574, -0.346124258087689, -0.08349935654747676, -0.2197812312701557, -0.17386889015549836, -0.1465177098240156, -0.1739689009719791, -0.3971769410269039, 3.7962094963810995, 0.1920308244091986, -0.2884676417774463, -0.11003686778653238, -0.34358977466196255, 1.148758354219646, 0.31247097579871536, -0.07155292540570544, -0.3087069767556031, -0.3365488293785897, -0.21952299753812685, -0.12192676700786242, 0.06720055134710369, -0.3452644357135561, -0.08846184082980184, -0.3977569769132893, 1.0879235458557963, -0.22420174059548872, -0.17402074923663466, -0.3357152217763662, -0.1670729368082242, -0.17115308709507274, -0.33285626714507055, -0.34636951322477216, -0.3411208003244361, -0.22412730503318362, -0.13956542291589935, -0.18014793905450135, -0.32386282160762714, -0.26555280793030095, -0.32188669425078936, 8.035268072092418, -0.14233759169715438, -0.3419241861653629, 0.31633754464768704, 0.02048888057108485, -0.13998284120931725, -0.16844332545702861, -0.22638493830937176, -0.14222834984354218, -0.6051850767075881, -0.17172560326084718, 0.1347140751873129, -0.21828012678855954, -0.3544499569868999, -0.4527843269686907, -0.3984580931218864, -0.29858273969488697, -0.28790103337194994, -0.29360768703978174, -0.09964725809012352, 0.32037863936975586, -0.17196213157620344, -0.16599009222503705, -0.36588101911917537, -0.3463968093368842, -0.3463785569386962, -0.14270084715212353, -0.28229416824694464, -0.15501697497411693, -0.320590285158029, -0.3452803198262672, -0.34609564682967286, 4.028007388065282, -0.22329821052743842, -0.3911168894557804, -0.34546858671170594, 0.31265310694757825, -0.3041668046725244, -0.29307330176998386, -0.19172942202680276, -0.1551588317002325, -0.24077808094165595, -0.16058769815746182, -0.28843426682390105, -0.15731335068836066, 0.31657382121640665, 0.5810582932903873, 2.117530225762062, -0.14992615311646118, -0.2886857318505493, -0.15242434543697878, -0.35167932256186035, 0.32623016448607545, -0.3455707375416903, -0.19283890150271962, 2.233539570680459, -0.3322650420716459, -0.25546956736709603, 1.0614764491227322, -0.18735390490629097, -0.14811896286709506, -0.22418393753742036, -0.36084304940015266, -0.3366621080546222, -0.394126713561677, -0.1696483146221493, -0.3578077781175675, -0.3353843217353302, -0.17198665771810928, -0.33928729246749484, -0.12180552144231559, -0.14509992859345783, -0.12307880402927607, 3.0984485466530582, -0.3406990771441881, -0.3979325468274163, -0.285936887148903, -0.34457012252924935, -0.09949758609670586, -0.341931883879257, -0.3405606740168014, -0.22415535827535601, -0.20615454515466164, -0.1487325182807105, -0.18678273295125578, -0.14109517682157185, -0.03866963744284367, -0.24123757013134733, -0.15671228210337168, -0.13958601643969695, 0.5886754290956672, -0.1315385892382499, 0.3922540484373763, -0.393422808763654, -0.15393786163080803, -0.15432917763886927, -0.260088474973718, -0.18433830775228238, -0.1708811920675272, -0.3460996297107882, -0.1417715356910696, -0.3938779859910177, -0.14354080892410917, -0.33677884068956815, 0.5585525096586406, -0.17881586660845386, -0.34117499761507175, -0.34558357104080706, -0.29304976708872343, -0.3064896970710001, -0.3955018537807623, -0.13886365948718835, -0.11789352047381249, -0.13773387736256698, -0.39815931967632584, 3.8084250777692565, 0.087936207795711, 0.52259211365504, -0.39570448234246614, -0.09934234799190109, -0.34497019012685887, -0.10488987320641253, -0.3457936486012476, -0.2566815223393443, -0.3463109411479362, -0.38980477040826056, -0.15557457924858217, -0.26018408205782734, -0.09419705082679204, -0.3855615525833006, -0.13937655705039256, -0.34559083082725417, 0.5422198208804626, -0.3386697580325115, -0.19967124030803154, -0.39473518151233655, -0.3440331904178783, -0.34605934894366114, -0.1720633599330318, -0.17002320703434573, -0.3847832829840441, -0.31256876136118256, 3.791754525494499, -0.09637534546335959, -0.34123390655160524, -0.3480936461621088, -0.44925223009103066, -0.12051821917691515, -0.29218809665002204, -0.14766288286692164, 3.8016003306236636, -0.14818249861375724, 3.8028417065471314, -0.23761872102561368, -0.37499647919241236, -0.34599535842219226, 34.026547624199196, -0.39119089204375523, 2.5096796311455303, -0.34447754250553936, 0.3341831681799263, -0.14382839283274784, -0.2890814080229496]}],                        {\"coloraxis\": {\"colorbar\": {\"title\": {\"text\": \"class\"}}, \"colorscale\": [[0.0, \"#0d0887\"], [0.1111111111111111, \"#46039f\"], [0.2222222222222222, \"#7201a8\"], [0.3333333333333333, \"#9c179e\"], [0.4444444444444444, \"#bd3786\"], [0.5555555555555556, \"#d8576b\"], [0.6666666666666666, \"#ed7953\"], [0.7777777777777778, \"#fb9f3a\"], [0.8888888888888888, \"#fdca26\"], [1.0, \"#f0f921\"]]}, \"legend\": {\"tracegroupgap\": 0}, \"margin\": {\"t\": 60}, \"scene\": {\"domain\": {\"x\": [0.0, 1.0], \"y\": [0.0, 1.0]}, \"xaxis\": {\"title\": {\"text\": \"PC 3\"}}, \"yaxis\": {\"title\": {\"text\": \"PC 2\"}}, \"zaxis\": {\"title\": {\"text\": \"PC 1\"}}}, \"template\": {\"data\": {\"bar\": [{\"error_x\": {\"color\": \"#2a3f5f\"}, \"error_y\": {\"color\": \"#2a3f5f\"}, \"marker\": {\"line\": {\"color\": \"#E5ECF6\", \"width\": 0.5}}, \"type\": \"bar\"}], \"barpolar\": [{\"marker\": {\"line\": {\"color\": \"#E5ECF6\", \"width\": 0.5}}, \"type\": \"barpolar\"}], \"carpet\": [{\"aaxis\": {\"endlinecolor\": \"#2a3f5f\", \"gridcolor\": \"white\", \"linecolor\": \"white\", \"minorgridcolor\": \"white\", \"startlinecolor\": \"#2a3f5f\"}, \"baxis\": {\"endlinecolor\": \"#2a3f5f\", \"gridcolor\": \"white\", \"linecolor\": \"white\", \"minorgridcolor\": \"white\", \"startlinecolor\": \"#2a3f5f\"}, \"type\": \"carpet\"}], \"choropleth\": [{\"colorbar\": {\"outlinewidth\": 0, \"ticks\": \"\"}, \"type\": \"choropleth\"}], \"contour\": [{\"colorbar\": {\"outlinewidth\": 0, \"ticks\": \"\"}, \"colorscale\": [[0.0, \"#0d0887\"], [0.1111111111111111, \"#46039f\"], [0.2222222222222222, \"#7201a8\"], [0.3333333333333333, \"#9c179e\"], [0.4444444444444444, \"#bd3786\"], [0.5555555555555556, \"#d8576b\"], [0.6666666666666666, \"#ed7953\"], [0.7777777777777778, \"#fb9f3a\"], [0.8888888888888888, \"#fdca26\"], [1.0, \"#f0f921\"]], \"type\": \"contour\"}], \"contourcarpet\": [{\"colorbar\": {\"outlinewidth\": 0, \"ticks\": \"\"}, \"type\": \"contourcarpet\"}], \"heatmap\": [{\"colorbar\": {\"outlinewidth\": 0, \"ticks\": \"\"}, \"colorscale\": [[0.0, \"#0d0887\"], [0.1111111111111111, \"#46039f\"], [0.2222222222222222, \"#7201a8\"], [0.3333333333333333, \"#9c179e\"], [0.4444444444444444, \"#bd3786\"], [0.5555555555555556, \"#d8576b\"], [0.6666666666666666, \"#ed7953\"], [0.7777777777777778, \"#fb9f3a\"], [0.8888888888888888, \"#fdca26\"], [1.0, \"#f0f921\"]], \"type\": \"heatmap\"}], \"heatmapgl\": [{\"colorbar\": {\"outlinewidth\": 0, \"ticks\": \"\"}, \"colorscale\": [[0.0, \"#0d0887\"], [0.1111111111111111, \"#46039f\"], [0.2222222222222222, \"#7201a8\"], [0.3333333333333333, \"#9c179e\"], [0.4444444444444444, \"#bd3786\"], [0.5555555555555556, \"#d8576b\"], [0.6666666666666666, \"#ed7953\"], [0.7777777777777778, \"#fb9f3a\"], [0.8888888888888888, \"#fdca26\"], [1.0, \"#f0f921\"]], \"type\": \"heatmapgl\"}], \"histogram\": [{\"marker\": {\"colorbar\": {\"outlinewidth\": 0, \"ticks\": \"\"}}, \"type\": \"histogram\"}], \"histogram2d\": [{\"colorbar\": {\"outlinewidth\": 0, \"ticks\": \"\"}, \"colorscale\": [[0.0, \"#0d0887\"], [0.1111111111111111, \"#46039f\"], [0.2222222222222222, \"#7201a8\"], [0.3333333333333333, \"#9c179e\"], [0.4444444444444444, \"#bd3786\"], [0.5555555555555556, \"#d8576b\"], [0.6666666666666666, \"#ed7953\"], [0.7777777777777778, \"#fb9f3a\"], [0.8888888888888888, \"#fdca26\"], [1.0, \"#f0f921\"]], \"type\": \"histogram2d\"}], \"histogram2dcontour\": [{\"colorbar\": {\"outlinewidth\": 0, \"ticks\": \"\"}, \"colorscale\": [[0.0, \"#0d0887\"], [0.1111111111111111, \"#46039f\"], [0.2222222222222222, \"#7201a8\"], [0.3333333333333333, \"#9c179e\"], [0.4444444444444444, \"#bd3786\"], [0.5555555555555556, \"#d8576b\"], [0.6666666666666666, \"#ed7953\"], [0.7777777777777778, \"#fb9f3a\"], [0.8888888888888888, \"#fdca26\"], [1.0, \"#f0f921\"]], \"type\": \"histogram2dcontour\"}], \"mesh3d\": [{\"colorbar\": {\"outlinewidth\": 0, \"ticks\": \"\"}, \"type\": \"mesh3d\"}], \"parcoords\": [{\"line\": {\"colorbar\": {\"outlinewidth\": 0, \"ticks\": \"\"}}, \"type\": \"parcoords\"}], \"pie\": [{\"automargin\": true, \"type\": \"pie\"}], \"scatter\": [{\"marker\": {\"colorbar\": {\"outlinewidth\": 0, \"ticks\": \"\"}}, \"type\": \"scatter\"}], \"scatter3d\": [{\"line\": {\"colorbar\": {\"outlinewidth\": 0, \"ticks\": \"\"}}, \"marker\": {\"colorbar\": {\"outlinewidth\": 0, \"ticks\": \"\"}}, \"type\": \"scatter3d\"}], \"scattercarpet\": [{\"marker\": {\"colorbar\": {\"outlinewidth\": 0, \"ticks\": \"\"}}, \"type\": \"scattercarpet\"}], \"scattergeo\": [{\"marker\": {\"colorbar\": {\"outlinewidth\": 0, \"ticks\": \"\"}}, \"type\": \"scattergeo\"}], \"scattergl\": [{\"marker\": {\"colorbar\": {\"outlinewidth\": 0, \"ticks\": \"\"}}, \"type\": \"scattergl\"}], \"scattermapbox\": [{\"marker\": {\"colorbar\": {\"outlinewidth\": 0, \"ticks\": \"\"}}, \"type\": \"scattermapbox\"}], \"scatterpolar\": [{\"marker\": {\"colorbar\": {\"outlinewidth\": 0, \"ticks\": \"\"}}, \"type\": \"scatterpolar\"}], \"scatterpolargl\": [{\"marker\": {\"colorbar\": {\"outlinewidth\": 0, \"ticks\": \"\"}}, \"type\": \"scatterpolargl\"}], \"scatterternary\": [{\"marker\": {\"colorbar\": {\"outlinewidth\": 0, \"ticks\": \"\"}}, \"type\": \"scatterternary\"}], \"surface\": [{\"colorbar\": {\"outlinewidth\": 0, \"ticks\": \"\"}, \"colorscale\": [[0.0, \"#0d0887\"], [0.1111111111111111, \"#46039f\"], [0.2222222222222222, \"#7201a8\"], [0.3333333333333333, \"#9c179e\"], [0.4444444444444444, \"#bd3786\"], [0.5555555555555556, \"#d8576b\"], [0.6666666666666666, \"#ed7953\"], [0.7777777777777778, \"#fb9f3a\"], [0.8888888888888888, \"#fdca26\"], [1.0, \"#f0f921\"]], \"type\": \"surface\"}], \"table\": [{\"cells\": {\"fill\": {\"color\": \"#EBF0F8\"}, \"line\": {\"color\": \"white\"}}, \"header\": {\"fill\": {\"color\": \"#C8D4E3\"}, \"line\": {\"color\": \"white\"}}, \"type\": \"table\"}]}, \"layout\": {\"annotationdefaults\": {\"arrowcolor\": \"#2a3f5f\", \"arrowhead\": 0, \"arrowwidth\": 1}, \"autotypenumbers\": \"strict\", \"coloraxis\": {\"colorbar\": {\"outlinewidth\": 0, \"ticks\": \"\"}}, \"colorscale\": {\"diverging\": [[0, \"#8e0152\"], [0.1, \"#c51b7d\"], [0.2, \"#de77ae\"], [0.3, \"#f1b6da\"], [0.4, \"#fde0ef\"], [0.5, \"#f7f7f7\"], [0.6, \"#e6f5d0\"], [0.7, \"#b8e186\"], [0.8, \"#7fbc41\"], [0.9, \"#4d9221\"], [1, \"#276419\"]], \"sequential\": [[0.0, \"#0d0887\"], [0.1111111111111111, \"#46039f\"], [0.2222222222222222, \"#7201a8\"], [0.3333333333333333, \"#9c179e\"], [0.4444444444444444, \"#bd3786\"], [0.5555555555555556, \"#d8576b\"], [0.6666666666666666, \"#ed7953\"], [0.7777777777777778, \"#fb9f3a\"], [0.8888888888888888, \"#fdca26\"], [1.0, \"#f0f921\"]], \"sequentialminus\": [[0.0, \"#0d0887\"], [0.1111111111111111, \"#46039f\"], [0.2222222222222222, \"#7201a8\"], [0.3333333333333333, \"#9c179e\"], [0.4444444444444444, \"#bd3786\"], [0.5555555555555556, \"#d8576b\"], [0.6666666666666666, \"#ed7953\"], [0.7777777777777778, \"#fb9f3a\"], [0.8888888888888888, \"#fdca26\"], [1.0, \"#f0f921\"]]}, \"colorway\": [\"#636efa\", \"#EF553B\", \"#00cc96\", \"#ab63fa\", \"#FFA15A\", \"#19d3f3\", \"#FF6692\", \"#B6E880\", \"#FF97FF\", \"#FECB52\"], \"font\": {\"color\": \"#2a3f5f\"}, \"geo\": {\"bgcolor\": \"white\", \"lakecolor\": \"white\", \"landcolor\": \"#E5ECF6\", \"showlakes\": true, \"showland\": true, \"subunitcolor\": \"white\"}, \"hoverlabel\": {\"align\": \"left\"}, \"hovermode\": \"closest\", \"mapbox\": {\"style\": \"light\"}, \"paper_bgcolor\": \"white\", \"plot_bgcolor\": \"#E5ECF6\", \"polar\": {\"angularaxis\": {\"gridcolor\": \"white\", \"linecolor\": \"white\", \"ticks\": \"\"}, \"bgcolor\": \"#E5ECF6\", \"radialaxis\": {\"gridcolor\": \"white\", \"linecolor\": \"white\", \"ticks\": \"\"}}, \"scene\": {\"xaxis\": {\"backgroundcolor\": \"#E5ECF6\", \"gridcolor\": \"white\", \"gridwidth\": 2, \"linecolor\": \"white\", \"showbackground\": true, \"ticks\": \"\", \"zerolinecolor\": \"white\"}, \"yaxis\": {\"backgroundcolor\": \"#E5ECF6\", \"gridcolor\": \"white\", \"gridwidth\": 2, \"linecolor\": \"white\", \"showbackground\": true, \"ticks\": \"\", \"zerolinecolor\": \"white\"}, \"zaxis\": {\"backgroundcolor\": \"#E5ECF6\", \"gridcolor\": \"white\", \"gridwidth\": 2, \"linecolor\": \"white\", \"showbackground\": true, \"ticks\": \"\", \"zerolinecolor\": \"white\"}}, \"shapedefaults\": {\"line\": {\"color\": \"#2a3f5f\"}}, \"ternary\": {\"aaxis\": {\"gridcolor\": \"white\", \"linecolor\": \"white\", \"ticks\": \"\"}, \"baxis\": {\"gridcolor\": \"white\", \"linecolor\": \"white\", \"ticks\": \"\"}, \"bgcolor\": \"#E5ECF6\", \"caxis\": {\"gridcolor\": \"white\", \"linecolor\": \"white\", \"ticks\": \"\"}}, \"title\": {\"x\": 0.05}, \"xaxis\": {\"automargin\": true, \"gridcolor\": \"white\", \"linecolor\": \"white\", \"ticks\": \"\", \"title\": {\"standoff\": 15}, \"zerolinecolor\": \"white\", \"zerolinewidth\": 2}, \"yaxis\": {\"automargin\": true, \"gridcolor\": \"white\", \"linecolor\": \"white\", \"ticks\": \"\", \"title\": {\"standoff\": 15}, \"zerolinecolor\": \"white\", \"zerolinewidth\": 2}}}, \"width\": 800},                        {\"responsive\": true}                    ).then(function(){\n",
       "                            \n",
       "var gd = document.getElementById('5d3142b4-2f4d-4881-9b36-abb11c409805');\n",
       "var x = new MutationObserver(function (mutations, observer) {{\n",
       "        var display = window.getComputedStyle(gd).display;\n",
       "        if (!display || display === 'none') {{\n",
       "            console.log([gd, 'removed!']);\n",
       "            Plotly.purge(gd);\n",
       "            observer.disconnect();\n",
       "        }}\n",
       "}});\n",
       "\n",
       "// Listen for the removal of the full notebook cells\n",
       "var notebookContainer = gd.closest('#notebook-container');\n",
       "if (notebookContainer) {{\n",
       "    x.observe(notebookContainer, {childList: true});\n",
       "}}\n",
       "\n",
       "// Listen for the clearing of the current output cell\n",
       "var outputEl = gd.closest('.output');\n",
       "if (outputEl) {{\n",
       "    x.observe(outputEl, {childList: true});\n",
       "}}\n",
       "\n",
       "                        })                };                });            </script>        </div>"
      ]
     },
     "metadata": {},
     "output_type": "display_data"
    }
   ],
   "source": [
    "# Create a 3D-Scatter with the PCA data and the clusters\n",
    "fig = px.scatter_3d(clustered_df,\n",
    "                   x='PC 3',\n",
    "                   y='PC 2',\n",
    "                   z='PC 1',\n",
    "                    color='class',\n",
    "                   hover_name='CoinName',\n",
    "                   hover_data=['Algorithm'],\n",
    "                   width=800)\n",
    "fig.show()\n"
   ]
  },
  {
   "cell_type": "markdown",
   "metadata": {},
   "source": [
    "#### Table of Tradable Cryptocurrencies"
   ]
  },
  {
   "cell_type": "code",
   "execution_count": 60,
   "metadata": {},
   "outputs": [
    {
     "data": {},
     "metadata": {},
     "output_type": "display_data"
    },
    {
     "data": {
      "application/vnd.holoviews_exec.v0+json": "",
      "text/html": [
       "<div id='1120'>\n",
       "\n",
       "\n",
       "\n",
       "\n",
       "\n",
       "  <div class=\"bk-root\" id=\"e6675a36-1166-4e65-8241-ab1cb14d0d8a\" data-root-id=\"1120\"></div>\n",
       "</div>\n",
       "<script type=\"application/javascript\">(function(root) {\n",
       "  function embed_document(root) {\n",
       "    var docs_json = {\"71ddb707-a8e2-49a2-9a88-3b1359d695f4\":{\"defs\":[],\"roots\":{\"references\":[{\"attributes\":{\"editor\":{\"id\":\"1150\"},\"field\":\"class\",\"formatter\":{\"id\":\"1149\"},\"title\":\"class\"},\"id\":\"1151\",\"type\":\"TableColumn\"},{\"attributes\":{\"margin\":[5,5,5,5],\"name\":\"HSpacer01798\",\"sizing_mode\":\"stretch_width\"},\"id\":\"1121\",\"type\":\"Spacer\"},{\"attributes\":{\"data\":{\"Algorithm\":[\"Scrypt\",\"Scrypt\",\"X13\",\"SHA-256\",\"Ethash\",\"Scrypt\",\"X11\",\"CryptoNight-V7\",\"Ethash\",\"Equihash\",\"SHA-512\",\"Multiple\",\"SHA-256\",\"SHA-256\",\"Scrypt\",\"X15\",\"X11\",\"Scrypt\",\"Scrypt\",\"Scrypt\",\"Multiple\",\"Scrypt\",\"SHA-256\",\"Scrypt\",\"Scrypt\",\"Scrypt\",\"Quark\",\"Groestl\",\"Scrypt\",\"Scrypt\",\"Scrypt\",\"Scrypt\",\"Scrypt\",\"X11\",\"Scrypt\",\"Groestl\",\"Multiple\",\"SHA-256\",\"Scrypt\",\"Scrypt\",\"Scrypt\",\"Scrypt\",\"PoS\",\"Scrypt\",\"Scrypt\",\"NeoScrypt\",\"Scrypt\",\"Scrypt\",\"Scrypt\",\"Scrypt\",\"X11\",\"Scrypt\",\"X11\",\"SHA-256\",\"Scrypt\",\"Scrypt\",\"Scrypt\",\"SHA3\",\"Scrypt\",\"HybridScryptHash256\",\"Scrypt\",\"Scrypt\",\"SHA-256\",\"Scrypt\",\"X13\",\"Scrypt\",\"SHA-256\",\"Scrypt\",\"X13\",\"NeoScrypt\",\"Scrypt\",\"Scrypt\",\"Scrypt\",\"Scrypt\",\"Scrypt\",\"Scrypt\",\"X11\",\"X11\",\"SHA-256\",\"Multiple\",\"SHA-256\",\"PHI1612\",\"X11\",\"SHA-256\",\"SHA-256\",\"SHA-256\",\"X11\",\"Scrypt\",\"Scrypt\",\"Scrypt\",\"Scrypt\",\"Lyra2REv2\",\"Scrypt\",\"X11\",\"Multiple\",\"SHA-256\",\"X13\",\"Scrypt\",\"CryptoNight\",\"CryptoNight\",\"Shabal256\",\"Counterparty\",\"Scrypt\",\"SHA-256\",\"Groestl\",\"Scrypt\",\"Scrypt\",\"Scrypt\",\"X13\",\"Scrypt\",\"Scrypt\",\"Scrypt\",\"Scrypt\",\"X13\",\"Scrypt\",\"Stanford Folding\",\"X11\",\"Multiple\",\"QuBit\",\"Scrypt\",\"Scrypt\",\"Scrypt\",\"M7 POW\",\"Scrypt\",\"SHA-256\",\"Scrypt\",\"X11\",\"SHA3\",\"X11\",\"Lyra2RE\",\"SHA-256\",\"QUAIT\",\"X11\",\"X11\",\"Scrypt\",\"Scrypt\",\"Scrypt\",\"Ethash\",\"X13\",\"Blake2b\",\"SHA-256\",\"X15\",\"X11\",\"SHA-256\",\"BLAKE256\",\"Scrypt\",\"1GB AES Pattern Search\",\"SHA-256\",\"X11\",\"Scrypt\",\"SHA-256\",\"SHA-256\",\"NIST5\",\"Scrypt\",\"Scrypt\",\"X11\",\"Dagger\",\"Scrypt\",\"X11GOST\",\"X11\",\"Scrypt\",\"SHA-256\",\"Scrypt\",\"PoS\",\"Scrypt\",\"X11\",\"X11\",\"SHA-256\",\"SHA-256\",\"NIST5\",\"X11\",\"Scrypt\",\"POS 3.0\",\"Scrypt\",\"Scrypt\",\"Scrypt\",\"X13\",\"X11\",\"X11\",\"Equihash\",\"X11\",\"Scrypt\",\"CryptoNight\",\"SHA-256\",\"SHA-256\",\"X11\",\"Scrypt\",\"Multiple\",\"Scrypt\",\"Scrypt\",\"Scrypt\",\"SHA-256\",\"Scrypt\",\"Scrypt\",\"SHA-256D\",\"PoS\",\"Scrypt\",\"X11\",\"Lyra2Z\",\"PoS\",\"X13\",\"X14\",\"PoS\",\"SHA-256D\",\"Ethash\",\"Equihash\",\"DPoS\",\"X11\",\"Scrypt\",\"X11\",\"X13\",\"X11\",\"PoS\",\"Scrypt\",\"Scrypt\",\"X11\",\"PoS\",\"X11\",\"SHA-256\",\"Scrypt\",\"X11\",\"Scrypt\",\"Scrypt\",\"X11\",\"CryptoNight\",\"Scrypt\",\"Scrypt\",\"Scrypt\",\"Scrypt\",\"Quark\",\"QuBit\",\"Scrypt\",\"CryptoNight\",\"Lyra2RE\",\"Scrypt\",\"SHA-256\",\"X11\",\"Scrypt\",\"X11\",\"Scrypt\",\"CryptoNight-V7\",\"Scrypt\",\"Scrypt\",\"Scrypt\",\"X13\",\"X11\",\"Equihash\",\"Scrypt\",\"Scrypt\",\"Lyra2RE\",\"Scrypt\",\"Dagger-Hashimoto\",\"X11\",\"Blake2S\",\"X11\",\"Scrypt\",\"PoS\",\"X11\",\"NIST5\",\"PoS\",\"X11\",\"Scrypt\",\"Scrypt\",\"Scrypt\",\"SHA-256\",\"X11\",\"Scrypt\",\"Scrypt\",\"SHA-256\",\"PoS\",\"Scrypt\",\"X15\",\"SHA-256\",\"Scrypt\",\"POS 3.0\",\"CryptoNight-V7\",\"536\",\"Argon2d\",\"Blake2b\",\"Cloverhash\",\"CryptoNight\",\"NIST5\",\"X11\",\"NIST5\",\"Skein\",\"Scrypt\",\"X13\",\"Scrypt\",\"X11\",\"X11\",\"Scrypt\",\"CryptoNight\",\"X13\",\"Time Travel\",\"Scrypt\",\"Keccak\",\"SkunkHash v2 Raptor\",\"X11\",\"Skein\",\"SHA-256\",\"X11\",\"Scrypt\",\"VeChainThor Authority\",\"Scrypt\",\"PoS\",\"Scrypt\",\"Scrypt\",\"Scrypt\",\"Scrypt\",\"Scrypt\",\"Scrypt\",\"Scrypt\",\"CryptoNight\",\"SHA-512\",\"Ouroboros\",\"X11\",\"Equihash\",\"NeoScrypt\",\"X11\",\"Scrypt\",\"NeoScrypt\",\"Lyra2REv2\",\"Equihash\",\"Scrypt\",\"SHA-256\",\"NIST5\",\"PHI1612\",\"Dagger\",\"Scrypt\",\"Quark\",\"Scrypt\",\"POS 2.0\",\"Scrypt\",\"SHA-256\",\"X11\",\"NeoScrypt\",\"Ethash\",\"NeoScrypt\",\"X11\",\"DPoS\",\"NIST5\",\"X13\",\"Multiple\",\"Scrypt\",\"CryptoNight\",\"CryptoNight\",\"Ethash\",\"NIST5\",\"Quark\",\"X11\",\"CryptoNight-V7\",\"Scrypt\",\"Scrypt\",\"Scrypt\",\"X11\",\"BLAKE256\",\"X11\",\"NeoScrypt\",\"Quark\",\"NeoScrypt\",\"Scrypt\",\"Scrypt\",\"Scrypt\",\"X11\",\"X11\",\"SHA-256\",\"C11\",\"POS 3.0\",\"Ethash\",\"Scrypt\",\"CryptoNight\",\"SkunkHash\",\"Scrypt\",\"CryptoNight\",\"Scrypt\",\"Dagger\",\"Lyra2REv2\",\"X13\",\"Proof-of-BibleHash\",\"SHA-256 + Hive\",\"Scrypt\",\"Scrypt\",\"X11\",\"C11\",\"Proof-of-Authority\",\"X11\",\"XEVAN\",\"Scrypt\",\"VBFT\",\"Ethash\",\"CryptoNight\",\"Scrypt\",\"IMesh\",\"NIST5\",\"Scrypt\",\"Scrypt\",\"Equihash\",\"Scrypt\",\"Lyra2Z\",\"Green Protocol\",\"PoS\",\"Scrypt\",\"Semux BFT consensus\",\"X11\",\"Quark\",\"PoS\",\"CryptoNight\",\"X16R\",\"Scrypt\",\"NIST5\",\"Lyra2RE\",\"XEVAN\",\"Tribus\",\"Scrypt\",\"Lyra2Z\",\"CryptoNight\",\"CryptoNight Heavy\",\"CryptoNight\",\"Scrypt\",\"Scrypt\",\"Jump Consistent Hash\",\"SHA-256D\",\"CryptoNight\",\"Scrypt\",\"X15\",\"Scrypt\",\"Quark\",\"SHA-256\",\"DPoS\",\"X16R\",\"HMQ1725\",\"X11\",\"X16R\",\"Quark\",\"Quark\",\"Scrypt\",\"Lyra2REv2\",\"Quark\",\"Scrypt\",\"Scrypt\",\"CryptoNight-V7\",\"Cryptonight-GPU\",\"XEVAN\",\"CryptoNight Heavy\",\"X11\",\"X11\",\"Scrypt\",\"PoS\",\"SHA-256\",\"Keccak\",\"X11\",\"X11\",\"Scrypt\",\"SHA-512\",\"X16R\",\"ECC 256K1\",\"Equihash\",\"XEVAN\",\"Lyra2Z\",\"SHA-256\",\"XEVAN\",\"X11\",\"CryptoNight\",\"Quark\",\"Blake\",\"Blake\",\"Equihash\",\"Exosis\",\"Scrypt\",\"Scrypt\",\"Equihash\",\"Quark\",\"Equihash\",\"Quark\",\"Scrypt\",\"QuBit\",\"X11\",\"Scrypt\",\"XEVAN\",\"SHA-256D\",\"X11\",\"SHA-256\",\"X13\",\"SHA-256\",\"X11\",\"DPoS\",\"Scrypt\",\"Scrypt\",\"X11\",\"NeoScrypt\",\"Scrypt\",\"Blake\",\"Scrypt\",\"SHA-256\",\"Scrypt\",\"X11\",\"Scrypt\",\"Scrypt\",\"SHA-256\",\"X11\",\"SHA-256\",\"Scrypt\",\"Scrypt\",\"Scrypt\",\"Groestl\",\"X11\",\"Scrypt\",\"PoS\",\"Scrypt\",\"Scrypt\",\"X11\",\"SHA-256\",\"DPoS\",\"Scrypt\",\"Scrypt\",\"NeoScrypt\",\"SHA3-256\",\"Multiple\",\"X13\",\"Equihash+Scrypt\",\"DPoS\",\"Ethash\",\"DPoS\",\"SHA-256\",\"Leased POS\",\"PoS\",\"TRC10\",\"PoS\",\"SHA-256\",\"Scrypt\",\"CryptoNight\",\"Equihash\",\"Scrypt\"],\"CoinName\":[\"42 Coin\",\"404Coin\",\"EliteCoin\",\"Bitcoin\",\"Ethereum\",\"Litecoin\",\"Dash\",\"Monero\",\"Ethereum Classic\",\"ZCash\",\"Bitshares\",\"DigiByte\",\"BitcoinDark\",\"PayCoin\",\"ProsperCoin\",\"KoboCoin\",\"Spreadcoin\",\"Argentum\",\"Aurora Coin\",\"BlueCoin\",\"MyriadCoin\",\"MoonCoin\",\"ZetaCoin\",\"SexCoin\",\"Quatloo\",\"EnergyCoin\",\"QuarkCoin\",\"Riecoin\",\"Digitalcoin \",\"BitBar\",\"Catcoin\",\"CryptoBullion\",\"CannaCoin\",\"CryptCoin\",\"CasinoCoin\",\"Diamond\",\"Verge\",\"DevCoin\",\"EarthCoin\",\"E-Gulden\",\"Einsteinium\",\"Emerald\",\"Exclusive Coin\",\"FlutterCoin\",\"Franko\",\"FeatherCoin\",\"GrandCoin\",\"GlobalCoin\",\"GoldCoin\",\"HoboNickels\",\"HyperStake\",\"Infinite Coin\",\"IOCoin\",\"IXcoin\",\"KrugerCoin\",\"LuckyCoin\",\"Litebar \",\"MaxCoin\",\"MegaCoin\",\"MediterraneanCoin\",\"MintCoin\",\"MinCoin\",\"MazaCoin\",\"Nautilus Coin\",\"NavCoin\",\"NobleCoin\",\"Namecoin\",\"NyanCoin\",\"OpalCoin\",\"Orbitcoin\",\"PotCoin\",\"PhoenixCoin\",\"Reddcoin\",\"RonPaulCoin\",\"StableCoin\",\"SmartCoin\",\"SuperCoin\",\"SyncCoin\",\"SysCoin\",\"TeslaCoin\",\"TigerCoin\",\"TittieCoin\",\"TorCoin\",\"TerraCoin\",\"UnbreakableCoin\",\"Unobtanium\",\"UroCoin\",\"UnitaryStatus Dollar\",\"UltraCoin\",\"ViaCoin\",\"VeriCoin\",\"Vertcoin\",\"WorldCoin\",\"X11 Coin\",\"Crypti\",\"JouleCoin\",\"StealthCoin\",\"ZCC Coin\",\"ByteCoin\",\"DigitalNote \",\"BurstCoin\",\"StorjCoin\",\"MonaCoin\",\"Neutron\",\"FairCoin\",\"Gulden\",\"RubyCoin\",\"PesetaCoin\",\"Kore\",\"Wild Beast Coin\",\"Dnotes\",\"Flo\",\"8BIT Coin\",\"Sativa Coin\",\"ArtByte\",\"Folding Coin\",\"Ucoin\",\"Unitus\",\"CypherPunkCoin\",\"OmniCron\",\"Vtorrent\",\"GreenCoin\",\"Cryptonite\",\"MasterCoin\",\"SoonCoin\",\"1Credit\",\"IslaCoin\",\"Nexus\",\"MarsCoin \",\"Crypto\",\"Anarchists Prime\",\"Droidz\",\"BowsCoin\",\"Squall Coin\",\"Song Coin\",\"BitZeny\",\"Diggits\",\"Expanse\",\"Paycon\",\"Siacoin\",\"Emercoin\",\"EverGreenCoin\",\"MindCoin\",\"I0coin\",\"Decred\",\"Revolution VR\",\"HOdlcoin\",\"EDRCoin\",\"Hitcoin\",\"Gamecredits\",\"DubaiCoin\",\"CarpeDiemCoin\",\"PWR Coin\",\"BillaryCoin\",\"GPU Coin\",\"Adzcoin\",\"SoilCoin\",\"YoCoin\",\"SibCoin\",\"EuropeCoin\",\"ZeitCoin\",\"SwingCoin\",\"SafeExchangeCoin\",\"Nebuchadnezzar\",\"Francs\",\"BolivarCoin\",\"Ratecoin\",\"Revenu\",\"Clockcoin\",\"VIP Tokens\",\"BitSend\",\"Omni\",\"Let it Ride\",\"PutinCoin\",\"iBankCoin\",\"Frankywillcoin\",\"MudraCoin\",\"PizzaCoin\",\"Lutetium Coin\",\"Komodo\",\"GoldBlocks\",\"CarterCoin\",\"Karbo\",\"BitTokens\",\"ZayedCoin\",\"MustangCoin\",\"ZoneCoin\",\"Circuits of Value\",\"RootCoin\",\"DopeCoin\",\"BitCurrency\",\"DollarCoin\",\"Swiscoin\",\"Shilling\",\"BuzzCoin\",\"Opair\",\"PesoBit\",\"Halloween Coin\",\"ZCoin\",\"CoffeeCoin\",\"RoyalCoin\",\"GanjaCoin V2\",\"TeamUP\",\"LanaCoin\",\"Elementrem\",\"ZClassic\",\"ARK\",\"InsaneCoin\",\"KiloCoin\",\"ArtexCoin\",\"EmberCoin\",\"XenixCoin\",\"FreeCoin\",\"PLNCoin\",\"AquariusCoin\",\"Kurrent\",\"Creatio\",\"Eternity\",\"Eurocoin\",\"BitcoinFast\",\"Stakenet\",\"BitConnect Coin\",\"MoneyCoin\",\"Enigma\",\"Cannabis Industry Coin\",\"Russiacoin\",\"PandaCoin\",\"GameUnits\",\"GAKHcoin\",\"Allsafe\",\"LiteCreed\",\"OsmiumCoin\",\"Bikercoins\",\"HexxCoin\",\"Klingon Empire Darsek\",\"Internet of People\",\"KushCoin\",\"Printerium\",\"PacCoin\",\"Impeach\",\"Citadel\",\"Zilbercoin\",\"FirstCoin\",\"BeaverCoin\",\"FindCoin\",\"VaultCoin\",\"Zero\",\"OpenChat\",\"Canada eCoin\",\"Zoin\",\"RenosCoin\",\"DubaiCoin\",\"VirtacoinPlus\",\"TajCoin\",\"Impact\",\"EB3coin\",\"Atmos\",\"HappyCoin\",\"Coinonat\",\"MacronCoin\",\"Condensate\",\"Independent Money System\",\"ArgusCoin\",\"LomoCoin\",\"ProCurrency\",\"GoldReserve\",\"BenjiRolls\",\"GrowthCoin\",\"ILCoin\",\"Phreak\",\"Degas Coin\",\"HTML5 Coin\",\"Ultimate Secure Cash\",\"EquiTrader\",\"QTUM\",\"Quantum Resistant Ledger\",\"Espers\",\"Dynamic\",\"Nano\",\"ChanCoin\",\"Dinastycoin\",\"Denarius\",\"DigitalPrice\",\"Virta Unique Coin\",\"Bitcoin Planet\",\"Unify\",\"BritCoin\",\"SocialCoin\",\"ArcticCoin\",\"DAS\",\"Linda\",\"LeviarCoin\",\"DeepOnion\",\"Bitcore\",\"gCn Coin\",\"SmartCash\",\"Signatum\",\"Onix\",\"Cream\",\"Bitcoin Cash\",\"Monoeci\",\"Draftcoin\",\"Vechain\",\"Sojourn Coin\",\"Stakecoin\",\"NewYorkCoin\",\"FrazCoin\",\"Kronecoin\",\"AdCoin\",\"Linx\",\"CoinonatX\",\"Ethereum Dark\",\"Sumokoin\",\"Obsidian\",\"Cardano\",\"Regalcoin\",\"BitcoinZ\",\"TrezarCoin\",\"Elements\",\"TerraNovaCoin\",\"VIVO Coin\",\"Rupee\",\"Bitcoin Gold\",\"WomenCoin\",\"Theresa May Coin\",\"NamoCoin\",\"LUXCoin\",\"Pirl\",\"Xios\",\"Bitcloud 2.0\",\"eBoost\",\"KekCoin\",\"BlackholeCoin\",\"Infinity Economics\",\"Pura\",\"Innova\",\"Ellaism\",\"GoByte\",\"Magnet\",\"Lamden Tau\",\"Electra\",\"Bitcoin Diamond\",\"SHIELD\",\"Cash & Back Coin\",\"UltraNote\",\"BitCoal\",\"DaxxCoin\",\"Bulwark\",\"Kalkulus\",\"AC3\",\"Lethean\",\"GermanCoin\",\"LiteCoin Ultra\",\"PopularCoin\",\"PhantomX\",\"Photon\",\"Sucre\",\"SparksPay\",\"Digiwage\",\"GunCoin\",\"IrishCoin\",\"Trollcoin\",\"Litecoin Plus\",\"Monkey Project\",\"Pioneer Coin\",\"UnitedBitcoin\",\"Interzone\",\"TokenPay\",\"1717 Masonic Commemorative Token\",\"My Big Coin\",\"TurtleCoin\",\"MUNcoin\",\"Unified Society USDEX\",\"Niobio Cash\",\"ShareChain\",\"Travelflex\",\"KREDS\",\"Tokyo Coin\",\"BiblePay\",\"LitecoinCash\",\"BitFlip\",\"LottoCoin\",\"Crypto Improvement Fund\",\"Stipend\",\"Poa Network\",\"Pushi\",\"Ellerium\",\"Velox\",\"Ontology\",\"Callisto Network\",\"BitTube\",\"Poseidon\",\"Aidos Kuneen\",\"Bitspace\",\"Briacoin\",\"Ignition\",\"Bitrolium\",\"MedicCoin\",\"Alpenschillling\",\"Bitcoin Green\",\"Deviant Coin\",\"Abjcoin\",\"Semux\",\"FuturoCoin\",\"Carebit\",\"Zealium\",\"Monero Classic\",\"Proton\",\"iDealCash\",\"Jumpcoin\",\"Infinex\",\"Bitcoin Incognito\",\"KEYCO\",\"HollyWoodCoin\",\"GINcoin\",\"PlatinCoin\",\"Loki\",\"Newton Coin\",\"Swisscoin\",\"Xt3ch\",\"MassGrid\",\"TheVig\",\"PluraCoin\",\"EmaratCoin\",\"Dekado\",\"Lynx\",\"Poseidon Quark\",\"BitcoinWSpectrum\",\"Muse\",\"Motion\",\"PlusOneCoin\",\"Axe\",\"Trivechain\",\"Dystem\",\"Giant\",\"Peony Coin\",\"Absolute Coin\",\"Vitae\",\"HexCoin\",\"TPCash\",\"Webchain\",\"Ryo\",\"Urals Coin\",\"Qwertycoin\",\"ARENON\",\"EUNO\",\"MMOCoin\",\"Ketan\",\"Project Pai\",\"XDNA\",\"PAXEX\",\"Azart\",\"ThunderStake\",\"Kcash\",\"Xchange\",\"Acute Angle Cloud\",\"CrypticCoin\",\"Bettex coin\",\"Actinium\",\"Bitcoin SV\",\"BitMoney\",\"Junson Ming Chan Coin\",\"FREDEnergy\",\"HerbCoin\",\"Universal Molecule\",\"Lithium\",\"PirateCash\",\"Exosis\",\"Block-Logic\",\"Oduwa\",\"Beam\",\"Galilel\",\"Bithereum\",\"Crypto Sports\",\"Credit\",\"SLICE\",\"Dash Platinum\",\"Nasdacoin\",\"Beetle Coin\",\"Titan Coin\",\"Award\",\"BLAST\",\"Bitcoin Rhodium\",\"GlobalToken\",\"Insane Coin\",\"ALAX\",\"LiteDoge\",\"SolarCoin\",\"TruckCoin\",\"UFO Coin\",\"OrangeCoin\",\"BlakeCoin\",\"BitstarCoin\",\"NeosCoin\",\"HyperCoin\",\"PinkCoin\",\"Crypto Escudo\",\"AudioCoin\",\"IncaKoin\",\"Piggy Coin\",\"Crown Coin\",\"Genstake\",\"SmileyCoin\",\"XiaoMiCoin\",\"Groestlcoin\",\"CapriCoin\",\" ClubCoin\",\"Radium\",\"Bata\",\"Pakcoin\",\"Creditbit \",\"OKCash\",\"Lisk\",\"HiCoin\",\"WhiteCoin\",\"FriendshipCoin\",\"Fiii\",\"JoinCoin\",\"Triangles Coin\",\"Vollar\",\"EOS\",\"Reality Clash\",\"Oxycoin\",\"TigerCash\",\"Waves\",\"Particl\",\"BitTorrent\",\"Nxt\",\"ZEPHYR\",\"Gapcoin\",\"Beldex\",\"Horizen\",\"BitcoinPlus\"],\"ProofType\":[\"PoW/PoS\",\"PoW/PoS\",\"PoW/PoS\",\"PoW\",\"PoW\",\"PoW\",\"PoW/PoS\",\"PoW\",\"PoW\",\"PoW\",\"PoS\",\"PoW\",\"PoW/PoS\",\"PoS\",\"PoW\",\"PoW/PoS\",\"PoW\",\"PoW\",\"PoW/PoS\",\"PoW/PoS\",\"PoW\",\"PoW\",\"PoW\",\"PoW\",\"PoW\",\"PoW/PoS\",\"PoW\",\"PoW\",\"PoW\",\"PoW/PoS\",\"PoW\",\"PoW/PoS\",\"PoW\",\"PoW\",\"PoC\",\"PoW/PoS\",\"PoW\",\"PoW\",\"PoW\",\"PoW\",\"PoW\",\"PoW\",\"PoS\",\"PoS/PoW/PoT\",\"PoW\",\"PoW\",\"PoW\",\"PoW\",\"PoW\",\"PoW/PoS\",\"PoS\",\"PoW\",\"PoW/PoS\",\"PoW\",\"PoW\",\"PoW\",\"PoW\",\"PoW/PoS\",\"PoW\",\"PoW\",\"PoS\",\"PoW\",\"PoW/PoS\",\"PoS\",\"PoW/PoS\",\"PoW\",\"PoW\",\"PoW\",\"PoW/PoS\",\"PoW/PoS\",\"PoW/PoS\",\"PoW/PoS\",\"PoW/PoS\",\"PoW\",\"PoW\",\"PoW\",\"PoS\",\"PoW/PoS\",\"PoW\",\"PoS\",\"PoW\",\"PoS\",\"PoW/PoS\",\"PoW\",\"PoW\",\"PoW\",\"PoW\",\"PoW/PoS\",\"PoW/PoS\",\"PoW\",\"PoST\",\"PoW\",\"PoW\",\"PoW/PoS\",\"PoS\",\"PoW\",\"PoW/PoS\",\"PoW/PoS\",\"PoW\",\"PoW\",\"PoC\",\"PoS\",\"PoW\",\"PoW/PoS\",\"PoW/PoS\",\"PoW\",\"PoS\",\"PoW\",\"PoW/PoS\",\"PoW\",\"PoS\",\"PoW\",\"PoW/PoS\",\"PoW/PoS\",\"PoW\",\"PoW\",\"PoS\",\"PoW\",\"PoW\",\"PoW\",\"PoW/PoS\",\"PoW\",\"PoW\",\"PoW\",\"PoW\",\"PoW\",\"PoW/PoS\",\"PoW/nPoS\",\"PoW\",\"PoW\",\"PoW\",\"PoW/PoS\",\"PoW\",\"PoS/PoW\",\"PoW\",\"PoW\",\"PoS\",\"PoW\",\"PoW/PoS\",\"PoW\",\"PoW/PoS\",\"PoW/PoS\",\"PoW\",\"PoW\",\"PoW/PoS\",\"PoW\",\"PoW\",\"PoW/PoS\",\"PoW/PoS\",\"PoW\",\"PoW/PoS\",\"PoW\",\"PoW/PoS\",\"PoW/PoS\",\"PoS\",\"PoW\",\"PoW\",\"PoW\",\"PoW\",\"PoW/PoS\",\"PoS\",\"PoW/PoS\",\"PoC\",\"PoS\",\"PoW\",\"PoW\",\"PoW/PoS\",\"PoW/PoS\",\"PoW/PoS\",\"PoW/PoS\",\"PoW/PoS\",\"PoW\",\"PoS\",\"PoW/PoS\",\"PoW/PoS\",\"PoW/PoS\",\"PoS\",\"PoW\",\"PoS\",\"dPoW/PoW\",\"PoW/PoS\",\"PoW/PoS\",\"PoW\",\"PoW/PoS\",\"PoW\",\"PoW/PoS\",\"PoW/PoS\",\"PoW\",\"PoW/PoS\",\"PoW\",\"PoS\",\"PoW\",\"PoW/PoW\",\"PoW\",\"PoW/PoS\",\"PoS\",\"PoW/PoS\",\"PoW/PoS\",\"PoW\",\"PoS\",\"PoS\",\"PoW/PoS\",\"PoS\",\"PoW/PoS\",\"PoW\",\"PoW\",\"DPoS\",\"PoW/PoS\",\"PoW\",\"PoW\",\"PoW/PoS\",\"PoW/PoS\",\"PoS\",\"PoW/PoS\",\"PoW/PoS\",\"PoW\",\"PoS\",\"PoW/PoS\",\"PoW/PoS\",\"PoW/PoS\",\"TPoS\",\"PoW/PoS\",\"PoW/PoS\",\"PoW/PoS\",\"PoW\",\"PoW/PoS\",\"PoS\",\"PoW/PoS\",\"PoW/PoS\",\"PoS\",\"PoW/PoS\",\"PoW\",\"PoW\",\"PoW\",\"PoW/PoS\",\"PoW/PoS\",\"PoW/PoS\",\"PoW/PoS\",\"PoW\",\"PoW/PoS\",\"PoW\",\"PoS\",\"PoW/PoS \",\"PoW\",\"PoS\",\"PoW\",\"PoW\",\"PoW/PoS\",\"PoW\",\"PoW\",\"PoS\",\"PoW\",\"PoW/PoS\",\"PoW/PoS\",\"PoW/PoS\",\"PoW\",\"PoS\",\"PoW/PoS\",\"PoW\",\"PoS\",\"PoW/PoS\",\"PoW/PoS\",\"PoW/PoS\",\"PoW/PoS\",\"PoS\",\"PoW/PoS\",\"PoW\",\"PoS\",\"PoW\",\"PoS\",\"PoW/PoS\",\"PoW/PoS\",\"PoS\",\"PoW\",\"PoS\",\"PoW\",\"PoW/PoS\",\"PoW\",\"PoW\",\"PoW\",\"PoW\",\"PoW/PoS\",\"PoW\",\"PoW/PoS\",\"PoW/PoS\",\"PoW\",\"PoW/PoS\",\"PoW\",\"PoW\",\"PoW\",\"PoW/PoS\",\"PoW\",\"PoW/PoS\",\"PoW\",\"PoW\",\"PoW\",\"PoS\",\"PoW\",\"PoW/PoS\",\"PoW\",\"PoW/PoS\",\"PoS\",\"Proof of Authority\",\"PoW\",\"PoS\",\"PoW\",\"PoW\",\"PoW\",\"PoW\",\"PoW\",\"PoW/PoS\",\"PoW/PoS\",\"PoW\",\"PoS\",\"PoS\",\"PoW/PoS\",\"PoW\",\"PoW/PoS\",\"PoW\",\"PoW/PoS\",\"PoW\",\"PoS\",\"PoW\",\"PoW/PoS\",\"PoW/PoS\",\"PoW/PoS\",\"PoW/PoS\",\"PoW\",\"PoW/PoS\",\"PoW/PoS\",\"PoW\",\"PoS\",\"PoW/PoS\",\"PoS\",\"PoW\",\"PoW\",\"PoW\",\"PoW\",\"PoW/PoS\",\"DPoS\",\"PoW/PoS\",\"PoW/PoS\",\"PoW\",\"PoW/PoS\",\"PoW\",\"PoW\",\"PoW\",\"PoS\",\"PoS\",\"PoW\",\"PoW\",\"PoW/PoS\",\"PoW/PoS\",\"PoW\",\"PoW/PoS\",\"PoW\",\"PoW\",\"PoW\",\"PoS\",\"PoW\",\"PoW\",\"PoW/PoS\",\"PoW/PoS\",\"PoS\",\"PoW\",\"PoW\",\"PoW\",\"PoS\",\"PoS\",\"PoW and PoS\",\"PoW\",\"PoW\",\"PoW/PoS\",\"PoW\",\"PoW\",\"PoW\",\"PoW\",\"PoS\",\"POBh\",\"PoW + Hive\",\"PoW\",\"PoW\",\"PoW\",\"PoW/PoS\",\"PoA\",\"PoW/PoS\",\"PoW/PoS\",\"PoS\",\"PoS\",\"PoW\",\"PoW\",\"PoW\",\"PoW\",\"PoW/PoS\",\"PoW/PoS\",\"PoW/PoS\",\"PoW\",\"PoS\",\"PoW\",\"PoS\",\"PoS\",\"PoW/PoS\",\"DPoS\",\"PoW\",\"PoW/PoS\",\"PoS\",\"PoW\",\"PoS\",\"PoW/PoS\",\"PoW\",\"PoW\",\"PoS/PoW\",\"PoW\",\"PoS\",\"PoW\",\"PoW\",\"PoW\",\"PoW\",\"PoW/PoS\",\"PoS\",\"PoW\",\"PoW/PoS\",\"PoW\",\"PoW/PoS\",\"PoS\",\"HPoW\",\"PoS\",\"PoS\",\"PoS\",\"PoW\",\"PoW\",\"PoW\",\"PoW/PoS\",\"PoS\",\"PoW/PoS\",\"PoS\",\"PoW/PoS\",\"PoS\",\"PoW\",\"PoW/PoS\",\"PoW\",\"PoW\",\"PoW\",\"PoW\",\"PoS\",\"PoW/PoS\",\"PoS\",\"PoS\",\"PoW\",\"PoW/PoS\",\"PoS\",\"PoW\",\"PoW/PoS\",\"Zero-Knowledge Proof\",\"PoW\",\"DPOS\",\"PoW\",\"PoS\",\"PoW\",\"PoW\",\"Pos\",\"PoS\",\"PoW\",\"PoW/PoS\",\"PoW\",\"PoW\",\"PoS\",\"PoW\",\"PoW\",\"PoW/PoS\",\"PoW\",\"PoW/PoS\",\"PoW\",\"PoS\",\"PoW/PoS\",\"PoW\",\"PoS\",\"PoW/PoS\",\"PoW/PoS\",\"PoW/PoS\",\"PoW/PoS\",\"PoW\",\"PoW\",\"PoW\",\"PoW/PoS\",\"DPoS\",\"PoW/PoS\",\"PoW\",\"PoW/PoS\",\"PoW\",\"PoW/PoS\",\"PoW\",\"PoW/PoS\",\"PoS\",\"PoW/PoS\",\"PoW/PoS\",\"PoW\",\"PoW/PoS\",\"PoW/PoS\",\"PoW/PoS\",\"PoW\",\"PoW/PoS\",\"PoW\",\"PoW/PoS\",\"PoW\",\"PoW/PoS\",\"PoW/PoS\",\"PoS\",\"PoW\",\"PoW\",\"Proof of Trust\",\"PoW/PoS\",\"DPoS\",\"PoS\",\"PoW/PoS\",\"PoW/PoS\",\"DPoC\",\"PoW\",\"PoW/PoS\",\"PoW\",\"DPoS\",\"PoW\",\"DPoS\",\"PoS\",\"LPoS\",\"PoS\",\"DPoS\",\"PoS/LPoS\",\"DPoS\",\"PoW/PoS\",\"PoW\",\"PoW\",\"PoS\"],\"TotalCoinSupply\":[\"42\",\"532000000\",\"314159265359\",\"21000000\",\"0\",\"84000000\",\"22000000\",\"0\",\"210000000\",\"21000000\",\"3600570502\",\"21000000000\",\"22000000\",\"12500000\",\"21000000\",\"350000000\",\"20000000\",\"64000000\",\"16768584\",\"0\",\"2000000000\",\"384000000000\",\"169795588\",\"250000000\",\"100000000\",\"0\",\"247000000\",\"84000000\",\"48166000\",\"500000\",\"21000000 \",\"1000000\",\"13140000\",\"18000000\",\"40000000000\",\"4380000\",\"16555000000\",\"21000000000\",\"13500000000\",\"21000000 \",\"299792458\",\"32000000\",\"0\",\"0\",\"11235813\",\"336000000\",\"1420609614\",\"70000000\",\"72245700\",\"120000000\",\"0\",\"90600000000\",\"22000000\",\"21000000\",\"265420800\",\"20000000\",\"1350000\",\"100000000\",\"42000000\",\"200000000\",\"0\",\"10000000\",\"2419200000\",\"16180000\",\"0\",\"15000000000\",\"21000000\",\"337000000\",\"0\",\"3770000\",\"420000000\",\"98000000\",\"0\",\"21000000\",\"250000000\",\"51200000\",\"0\",\"1000\",\"888000000\",\"100000000\",\"47011968\",\"2300000000\",\"10000000\",\"42000000\",\"80000000\",\"250000\",\"0\",\"1600000000\",\"100000000\",\"23000000\",\"0\",\"84000000\",\"265420800\",\"5500000\",\"0\",\"45000000\",\"0\",\"1000000000\",\"184467440735\",\"10000000000\",\"2158812800\",\"500000000\",\"105120000\",\"68000000\",\"0\",\"1680000000\",\"0\",\"166386000\",\"12000000\",\"2628000\",\"500000000\",\"160000000\",\"0\",\"10000000\",\"1000000000\",\"1000000000\",\"20000000\",\"0\",\"0\",\"3371337\",\"20000000\",\"10000000000\",\"1840000000\",\"619478\",\"21000000\",\"92000000000\",\"0\",\"78000000\",\"33000000\",\"65789100\",\"53760000\",\"5060000\",\"21000000\",\"0\",\"210240000\",\"250000000\",\"100000000\",\"16906397\",\"50000000\",\"0\",\"1000000000\",\"26298000\",\"16000000\",\"21000000\",\"21000000\",\"210000000\",\"81962100\",\"22000000\",\"26550000000\",\"84000000\",\"10500000\",\"21626280000 \",\"0\",\"42000000\",\"221052632\",\"84000000\",\"30000000\",\"168351300\",\"24000000\",\"384000000\",\" 99000000000\",\"40000000\",\"2147483647\",\"20000000\",\"20000000\",\"25000000\",\"75000000\",\"222725000\",\"525000000\",\"90000000\",\"139000000\",\"616448\",\"33500000\",\"2000000000\",\"44333333\",\"100000000\",\"200000000\",\"25000000\",\"657000000\",\"200000000\",\"50000000\",\"90000000\",\"10000000\",\"21000000\",\"9736000\",\"3000000\",\"21000000\",\"1200000000\",\"0\",\"200000000\",\"0\",\"10638298\",\"3100000000\",\"30000000\",\"20000000000\",\"74000000\",\"0\",\"1500000000\",\"21400000\",\"39999898\",\"2500124\",\"100000000\",\"301000000\",\"7506000000\",\"26205539\",\"21000000\",\"125000000\",\"30000000\",\"10000000000\",\"500000000\",\"850000000\",\"3853326.77707314\",\"50000000\",\"38540000 \",\"42000000\",\"228000000\",\"20000000\",\"60000000\",\"20000000\",\"33000000\",\"76500000\",\"28000000\",\"650659833\",\"5000000\",\"21000000\",\"144000000\",\"32514916898\",\"13000000\",\"3315789\",\"15000000\",\"78835200\",\"2714286\",\"25000000\",\"9999999\",\"500000000\",\"21000000\",\"9354000\",\"20000000\",\"100000000000\",\"21933333\",\"185000000\",\"55000000\",\"110000000\",\"3360000\",\"14524851.4827\",\"1000000000\",\"17000000\",\"1000000000\",\"100000000 \",\"21000000\",\"34426423\",\"2232901\",\"100000000\",\"36900000\",\"110000000\",\"4000000000\",\"110290030\",\"100000000\",\"48252000\",\"400000000\",\"500000000\",\"21212121\",\"28600000\",\"1000000000\",\"75000000000\",\"40000000\",\"35520400\",\"2000000000\",\"2500000000\",\"30000000\",\"105000000\",\"90000000000\",\"200084200\",\"72000000\",\"100000000\",\"105000000\",\"50000000000\",\"0\",\"340282367\",\"30000000\",\"2000000000\",\"10000000\",\"100000000\",\"120000000\",\"100000000\",\"19276800\",\"30000000\",\" 75000000\",\"60000000\",\"18900000\",\"50000000000\",\"54000000\",\"18898187.6216583\",\"21000000\",\"200000000000\",\"5000000000\",\"137500000\",\"1100000000\",\"100000000\",\"21000000\",\"9507271\",\"17405891.19707116\",\"86712634466\",\"10500000000\",\"61599965\",\"0\",\"20000000\",\"84000000\",\"100000000\",\"100000000\",\"48252000\",\"4200000\",\"88888888\",\"91388946\",\"45000000000\",\"27000000\",\"21000000000\",\"400000000\",\"1800000000\",\"15733333\",\"27000000\",\"24000000\",\"21000000\",\"25000000000\",\"100000000\",\"1200000000\",\"60000000\",\"156306732.71\",\"21000000\",\"200000000\",\"100000000\",\"21000000\",\"14788275.991\",\"9000000000\",\"350000000\",\"45000000\",\"280000000\",\"31800000\",\"144000000\",\"500000000\",\"30000000000\",\"210000000\",\"660000000\",\"210000000\",\"85000000000\",\"12500000\",\"10000000000\",\"27716121\",\"20000000\",\"550000000\",\"999481516\",\"50000000000\",\"150000000\",\"4999999999\",\"50000000\",\" 90000000000\",\"19800000\",\"21000000\",\"120000000\",\"500000000\",\"64000000\",\"900000000\",\"4000000\",\"21000000\",\"23000000\",\"20166000\",\"23000000\",\"25000000\",\"1618033\",\"30000000\",\"1000000000000\",\"16600000\",\"232000000\",\"336000000\",\"10000000000\",\"100000000\",\"1100000000\",\"800000000\",\"5200000000\",\"840000000\",\"40000000\",\"18406979840\",\"500000000\",\"19340594\",\"252460800\",\"25000000\",\"60000000\",\"124000000\",\"1000000000\",\"6500000000\",\"1000000000\",\"21000000\",\"25000000\",\"50000000\",\"3000000\",\"5000000\",\"70000000\",\"500000000\",\"300000000\",\"21000000\",\"88000000\",\"30000000\",\"100000000\",\"100000000\",\"200000000\",\"80000000\",\"18400000\",\"45000000\",\"5121951220\",\"21000000\",\"26280000\",\"21000000\",\"18000000\",\"26000000\",\"10500000\",\"600000518\",\"150000000\",\"184000000000\",\"10200000000\",\"44000000\",\"168000000\",\"100000000\",\"1000000000\",\"84000000\",\"90000000\",\"92000000000\",\"650000000 \",\"100262205\",\"18081806 \",\"22075700\",\"21000000\",\"21000000\",\"82546564\",\"21000000\",\"5151000\",\"16880000000\",\"52500000\",\"100000000\",\"22105263\",\"1000000000\",\"1750000000\",\"88188888\",\"210000000\",\"184470000000\",\"55000000\",\"50000000\",\"260000000\",\"210000000\",\"2100000000\",\"366000000\",\"100000000\",\"25000000\",\"18000000000\",\"1000000000\",\"100000000\",\"1000000000\",\"7600000000\",\"50000000\",\"84000000\",\"21000000\",\"70000000000\",\"0\",\"8080000000\",\"54000000\",\"105120001.44\",\"25228800\",\"105000000\",\"21000000\",\"120000000\",\"21000000\",\"262800000\",\"19035999\",\"30886000\",\"13370000\",\"74800000000\",\"100000000\",\"19700000\",\"84000000\",\"500000000\",\"5000000000\",\"420000000\",\"64000000\",\"2100000\",\"168000000\",\"30000000\",\"1000000000\",\"35000000000\",\"98100000000\",\"0\",\"4000000000\",\"200000000\",\"7000000000\",\"54256119\",\"21000000\",\"0\",\"500000000\",\"1000000000\",\"10500000000\",\"190000000\",\"1000000000\",\"42000000\",\"15000000\",\"50000000000\",\"400000000\",\"105000000\",\"208000000\",\"160000000\",\"9000000\",\"5000000\",\"182000000\",\"16504333\",\"105000000\",\"159918400\",\"10008835635\",\"300000000\",\"60168145\",\"5000000000\",\"2800000\",\"120000\",\"2100000000\",\"0\",\"24487944\",\"0\",\"1000000000\",\"100000000\",\"8634140\",\"990000000000\",\"1000000000\",\"2000000000\",\"250000000\",\"1400222610\",\"21000000\",\"1000000\"],\"TotalCoinsMined\":{\"__ndarray__\":\"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\",\"dtype\":\"float64\",\"order\":\"little\",\"shape\":[533]},\"class\":{\"__ndarray__\":\"AAAAAAAAAAAAAAAAAQAAAAEAAAABAAAAAAAAAAEAAAABAAAAAQAAAAAAAAABAAAAAAAAAAAAAAABAAAAAAAAAAEAAAABAAAAAAAAAAAAAAABAAAAAQAAAAEAAAABAAAAAQAAAAAAAAABAAAAAQAAAAEAAAAAAAAAAQAAAAAAAAABAAAAAQAAAAAAAAAAAAAAAQAAAAEAAAABAAAAAQAAAAEAAAABAAAAAAAAAAAAAAABAAAAAQAAAAEAAAABAAAAAQAAAAAAAAAAAAAAAQAAAAAAAAABAAAAAQAAAAEAAAABAAAAAAAAAAEAAAABAAAAAAAAAAEAAAAAAAAAAAAAAAAAAAABAAAAAQAAAAEAAAAAAAAAAAAAAAAAAAAAAAAAAAAAAAEAAAABAAAAAQAAAAAAAAAAAAAAAQAAAAAAAAABAAAAAAAAAAAAAAABAAAAAQAAAAEAAAABAAAAAAAAAAAAAAABAAAAAAAAAAEAAAABAAAAAAAAAAAAAAABAAAAAAAAAAAAAAABAAAAAQAAAAAAAAAAAAAAAQAAAAAAAAAAAAAAAQAAAAAAAAABAAAAAAAAAAEAAAAAAAAAAQAAAAAAAAAAAAAAAQAAAAEAAAAAAAAAAQAAAAEAAAABAAAAAAAAAAEAAAABAAAAAQAAAAEAAAABAAAAAAAAAAAAAAABAAAAAQAAAAEAAAAAAAAAAQAAAAAAAAABAAAAAQAAAAAAAAABAAAAAAAAAAEAAAAAAAAAAAAAAAEAAAABAAAAAAAAAAEAAAABAAAAAAAAAAAAAAABAAAAAAAAAAEAAAAAAAAAAAAAAAAAAAABAAAAAQAAAAEAAAABAAAAAAAAAAAAAAAAAAAAAAAAAAAAAAABAAAAAQAAAAAAAAAAAAAAAAAAAAAAAAAAAAAAAQAAAAAAAAAAAAAAAAAAAAAAAAAAAAAAAQAAAAAAAAABAAAAAAAAAAAAAAABAAAAAAAAAAEAAAAAAAAAAAAAAAEAAAAAAAAAAQAAAAAAAAABAAAAAAAAAAEAAAAAAAAAAAAAAAAAAAAAAAAAAQAAAAAAAAAAAAAAAAAAAAAAAAAAAAAAAQAAAAEAAAAAAAAAAAAAAAEAAAABAAAAAAAAAAAAAAAAAAAAAAAAAAAAAAABAAAAAAAAAAAAAAAAAAAAAAAAAAAAAAAAAAAAAAAAAAAAAAABAAAAAAAAAAAAAAAAAAAAAAAAAAAAAAAAAAAAAQAAAAEAAAABAAAAAAAAAAAAAAAAAAAAAAAAAAEAAAAAAAAAAQAAAAAAAAAAAAAAAQAAAAAAAAABAAAAAQAAAAAAAAABAAAAAQAAAAAAAAABAAAAAAAAAAAAAAAAAAAAAQAAAAAAAAAAAAAAAQAAAAAAAAAAAAAAAAAAAAAAAAAAAAAAAAAAAAAAAAABAAAAAAAAAAEAAAAAAAAAAAAAAAAAAAAAAAAAAQAAAAAAAAABAAAAAAAAAAEAAAABAAAAAQAAAAEAAAAAAAAAAQAAAAAAAAAAAAAAAQAAAAAAAAABAAAAAQAAAAEAAAAAAAAAAQAAAAAAAAABAAAAAQAAAAEAAAAAAAAAAQAAAAAAAAABAAAAAAAAAAAAAAADAAAAAQAAAAAAAAABAAAAAQAAAAEAAAABAAAAAQAAAAAAAAAAAAAAAQAAAAAAAAAAAAAAAAAAAAEAAAAAAAAAAQAAAAAAAAABAAAAAAAAAAEAAAAAAAAAAAAAAAAAAAAAAAAAAQAAAAAAAAAAAAAAAQAAAAAAAAAAAAAAAAAAAAEAAAABAAAAAQAAAAEAAAAAAAAAAAAAAAAAAAAAAAAAAQAAAAAAAAABAAAAAQAAAAEAAAAAAAAAAAAAAAEAAAABAAAAAAAAAAAAAAABAAAAAAAAAAEAAAABAAAAAQAAAAAAAAABAAAAAQAAAAAAAAAAAAAAAAAAAAEAAAABAAAAAQAAAAAAAAAAAAAAAAAAAAEAAAABAAAAAAAAAAEAAAABAAAAAQAAAAEAAAAAAAAAAwAAAAMAAAABAAAAAQAAAAEAAAAAAAAAAwAAAAAAAAAAAAAAAAAAAAAAAAABAAAAAQAAAAEAAAABAAAAAAAAAAAAAAAAAAAAAQAAAAAAAAABAAAAAAAAAAAAAAAAAAAAAAAAAAEAAAAAAAAAAAAAAAEAAAAAAAAAAAAAAAEAAAABAAAAAAAAAAEAAAAAAAAAAQAAAAEAAAABAAAAAQAAAAAAAAAAAAAAAQAAAAAAAAABAAAAAAAAAAAAAAAAAAAAAAAAAAAAAAAAAAAAAQAAAAEAAAABAAAAAAAAAAAAAAAAAAAAAAAAAAAAAAAAAAAAAQAAAAAAAAABAAAAAQAAAAEAAAABAAAAAAAAAAAAAAAAAAAAAAAAAAEAAAAAAAAAAAAAAAEAAAAAAAAAAAAAAAEAAAAAAAAAAQAAAAAAAAABAAAAAQAAAAAAAAAAAAAAAQAAAAAAAAABAAAAAQAAAAAAAAABAAAAAQAAAAAAAAABAAAAAAAAAAEAAAAAAAAAAAAAAAEAAAAAAAAAAAAAAAAAAAAAAAAAAAAAAAEAAAABAAAAAQAAAAAAAAAAAAAAAAAAAAEAAAAAAAAAAQAAAAAAAAABAAAAAAAAAAAAAAAAAAAAAAAAAAEAAAAAAAAAAAAAAAAAAAABAAAAAAAAAAEAAAAAAAAAAQAAAAAAAAAAAAAAAAAAAAEAAAABAAAAAAAAAAAAAAAAAAAAAAAAAAAAAAAAAAAAAwAAAAEAAAAAAAAAAQAAAAAAAAABAAAAAAAAAAAAAAADAAAAAAAAAAIAAAAAAAAAAAAAAAAAAAABAAAAAQAAAAAAAAA=\",\"dtype\":\"int32\",\"order\":\"little\",\"shape\":[533]}},\"selected\":{\"id\":\"1123\"},\"selection_policy\":{\"id\":\"1158\"}},\"id\":\"1122\",\"type\":\"ColumnDataSource\"},{\"attributes\":{},\"id\":\"1123\",\"type\":\"Selection\"},{\"attributes\":{},\"id\":\"1130\",\"type\":\"StringEditor\"},{\"attributes\":{},\"id\":\"1149\",\"type\":\"NumberFormatter\"},{\"attributes\":{},\"id\":\"1140\",\"type\":\"StringEditor\"},{\"attributes\":{},\"id\":\"1135\",\"type\":\"StringEditor\"},{\"attributes\":{},\"id\":\"1139\",\"type\":\"StringFormatter\"},{\"attributes\":{\"editor\":{\"id\":\"1125\"},\"field\":\"CoinName\",\"formatter\":{\"id\":\"1124\"},\"title\":\"CoinName\"},\"id\":\"1126\",\"type\":\"TableColumn\"},{\"attributes\":{},\"id\":\"1129\",\"type\":\"StringFormatter\"},{\"attributes\":{},\"id\":\"1150\",\"type\":\"IntEditor\"},{\"attributes\":{},\"id\":\"1134\",\"type\":\"StringFormatter\"},{\"attributes\":{\"editor\":{\"id\":\"1130\"},\"field\":\"Algorithm\",\"formatter\":{\"id\":\"1129\"},\"title\":\"Algorithm\"},\"id\":\"1131\",\"type\":\"TableColumn\"},{\"attributes\":{\"margin\":[5,5,5,5],\"name\":\"HSpacer01799\",\"sizing_mode\":\"stretch_width\"},\"id\":\"1161\",\"type\":\"Spacer\"},{\"attributes\":{},\"id\":\"1145\",\"type\":\"NumberEditor\"},{\"attributes\":{\"format\":\"0,0.0[00000]\"},\"id\":\"1144\",\"type\":\"NumberFormatter\"},{\"attributes\":{\"children\":[{\"id\":\"1121\"},{\"id\":\"1154\"},{\"id\":\"1161\"}],\"margin\":[0,0,0,0],\"name\":\"Row01794\",\"tags\":[\"embedded\"]},\"id\":\"1120\",\"type\":\"Row\"},{\"attributes\":{\"editor\":{\"id\":\"1135\"},\"field\":\"ProofType\",\"formatter\":{\"id\":\"1134\"},\"title\":\"ProofType\"},\"id\":\"1136\",\"type\":\"TableColumn\"},{\"attributes\":{},\"id\":\"1125\",\"type\":\"StringEditor\"},{\"attributes\":{\"editor\":{\"id\":\"1140\"},\"field\":\"TotalCoinSupply\",\"formatter\":{\"id\":\"1139\"},\"title\":\"TotalCoinSupply\"},\"id\":\"1141\",\"type\":\"TableColumn\"},{\"attributes\":{},\"id\":\"1158\",\"type\":\"UnionRenderers\"},{\"attributes\":{\"editor\":{\"id\":\"1145\"},\"field\":\"TotalCoinsMined\",\"formatter\":{\"id\":\"1144\"},\"title\":\"TotalCoinsMined\"},\"id\":\"1146\",\"type\":\"TableColumn\"},{\"attributes\":{\"source\":{\"id\":\"1122\"}},\"id\":\"1156\",\"type\":\"CDSView\"},{\"attributes\":{},\"id\":\"1124\",\"type\":\"StringFormatter\"},{\"attributes\":{\"columns\":[{\"id\":\"1126\"},{\"id\":\"1131\"},{\"id\":\"1136\"},{\"id\":\"1141\"},{\"id\":\"1146\"},{\"id\":\"1151\"}],\"height\":300,\"reorderable\":false,\"source\":{\"id\":\"1122\"},\"view\":{\"id\":\"1156\"},\"width\":700},\"id\":\"1154\",\"type\":\"DataTable\"}],\"root_ids\":[\"1120\"]},\"title\":\"Bokeh Application\",\"version\":\"2.3.2\"}};\n",
       "    var render_items = [{\"docid\":\"71ddb707-a8e2-49a2-9a88-3b1359d695f4\",\"root_ids\":[\"1120\"],\"roots\":{\"1120\":\"e6675a36-1166-4e65-8241-ab1cb14d0d8a\"}}];\n",
       "    root.Bokeh.embed.embed_items_notebook(docs_json, render_items);\n",
       "  }\n",
       "  if (root.Bokeh !== undefined && root.Bokeh.Panel !== undefined) {\n",
       "    embed_document(root);\n",
       "  } else {\n",
       "    var attempts = 0;\n",
       "    var timer = setInterval(function(root) {\n",
       "      if (root.Bokeh !== undefined && root.Bokeh.Panel !== undefined) {\n",
       "        clearInterval(timer);\n",
       "        embed_document(root);\n",
       "      } else if (document.readyState == \"complete\") {\n",
       "        attempts++;\n",
       "        if (attempts > 100) {\n",
       "          clearInterval(timer);\n",
       "          console.log(\"Bokeh: ERROR: Unable to run BokehJS code because BokehJS library is missing\");\n",
       "        }\n",
       "      }\n",
       "    }, 10, root)\n",
       "  }\n",
       "})(window);</script>"
      ],
      "text/plain": [
       ":Table   [CoinName,Algorithm,ProofType,TotalCoinSupply,TotalCoinsMined,class]"
      ]
     },
     "execution_count": 60,
     "metadata": {
      "application/vnd.holoviews_exec.v0+json": {
       "id": "1120"
      }
     },
     "output_type": "execute_result"
    }
   ],
   "source": [
    "# Table with tradable cryptos\n",
    "clustered_df.hvplot.table(columns=['CoinName', 'Algorithm', 'ProofType',\n",
    "                                  'TotalCoinSupply', 'TotalCoinsMined',\n",
    "                                  'class']\n",
    "                         )\n"
   ]
  },
  {
   "cell_type": "code",
   "execution_count": 61,
   "metadata": {},
   "outputs": [
    {
     "name": "stdout",
     "output_type": "stream",
     "text": [
      "The total number of tradable cryptocurrenices is: 533\n"
     ]
    }
   ],
   "source": [
    "# Print the total number of tradable cryptocurrencies\n",
    "print(f'The total number of tradable cryptocurrenices is: {len(clustered_df)}')"
   ]
  },
  {
   "cell_type": "markdown",
   "metadata": {},
   "source": [
    "#### Scatter Plot with Tradable Cryptocurrencies"
   ]
  },
  {
   "cell_type": "code",
   "execution_count": 62,
   "metadata": {},
   "outputs": [],
   "source": [
    "# Scale data to create the scatter plot\n",
    "scaler = MinMaxScaler()\n",
    "\n",
    "normalize_columns = ['TotalCoinsMined', 'TotalCoinSupply']\n",
    "x = crypto_df[normalize_columns].values\n",
    "x_scaled = scaler.fit_transform(x)\n",
    "\n",
    "df_tradable = pd.DataFrame(x_scaled, columns=normalize_columns, index=crypto_df.index).reset_index()\n",
    "\n"
   ]
  },
  {
   "cell_type": "code",
   "execution_count": 64,
   "metadata": {},
   "outputs": [
    {
     "data": {},
     "metadata": {},
     "output_type": "display_data"
    },
    {
     "data": {
      "application/vnd.holoviews_exec.v0+json": "",
      "text/html": [
       "<div id='1173'>\n",
       "\n",
       "\n",
       "\n",
       "\n",
       "\n",
       "  <div class=\"bk-root\" id=\"fbee8c40-2635-4632-b0ec-0f86ae031a4a\" data-root-id=\"1173\"></div>\n",
       "</div>\n",
       "<script type=\"application/javascript\">(function(root) {\n",
       "  function embed_document(root) {\n",
       "    var docs_json = {\"6b5ea31e-def1-4a2d-af8c-ee0e64669290\":{\"defs\":[],\"roots\":{\"references\":[{\"attributes\":{},\"id\":\"1232\",\"type\":\"UnionRenderers\"},{\"attributes\":{\"end\":1.1,\"reset_end\":1.1,\"reset_start\":-0.1,\"start\":-0.1,\"tags\":[[[\"TotalCoinSupply\",\"TotalCoinSupply\",null]]]},\"id\":\"1176\",\"type\":\"Range1d\"},{\"attributes\":{\"bottom_units\":\"screen\",\"fill_alpha\":0.5,\"fill_color\":\"lightgrey\",\"left_units\":\"screen\",\"level\":\"overlay\",\"line_alpha\":1.0,\"line_color\":\"black\",\"line_dash\":[4,4],\"line_width\":2,\"right_units\":\"screen\",\"syncable\":false,\"top_units\":\"screen\"},\"id\":\"1200\",\"type\":\"BoxAnnotation\"},{\"attributes\":{\"callback\":null,\"renderers\":[{\"id\":\"1214\"}],\"tags\":[\"hv_created\"],\"tooltips\":[[\"TotalCoinsMined\",\"@{TotalCoinsMined}\"],[\"TotalCoinSupply\",\"@{TotalCoinSupply}\"],[\"index\",\"@{index}\"]]},\"id\":\"1177\",\"type\":\"HoverTool\"},{\"attributes\":{},\"id\":\"1188\",\"type\":\"BasicTicker\"},{\"attributes\":{\"end\":1.042857142857143,\"reset_end\":1.042857142857143,\"reset_start\":-0.04285714285714286,\"start\":-0.04285714285714286,\"tags\":[[[\"TotalCoinsMined\",\"TotalCoinsMined\",null]]]},\"id\":\"1175\",\"type\":\"Range1d\"},{\"attributes\":{\"below\":[{\"id\":\"1187\"}],\"center\":[{\"id\":\"1190\"},{\"id\":\"1194\"}],\"height\":300,\"left\":[{\"id\":\"1191\"}],\"margin\":[5,5,5,5],\"min_border_bottom\":10,\"min_border_left\":10,\"min_border_right\":10,\"min_border_top\":10,\"renderers\":[{\"id\":\"1214\"}],\"sizing_mode\":\"fixed\",\"title\":{\"id\":\"1179\"},\"toolbar\":{\"id\":\"1201\"},\"width\":700,\"x_range\":{\"id\":\"1175\"},\"x_scale\":{\"id\":\"1183\"},\"y_range\":{\"id\":\"1176\"},\"y_scale\":{\"id\":\"1185\"}},\"id\":\"1178\",\"subtype\":\"Figure\",\"type\":\"Plot\"},{\"attributes\":{\"children\":[{\"id\":\"1174\"},{\"id\":\"1178\"},{\"id\":\"1243\"}],\"margin\":[0,0,0,0],\"name\":\"Row01913\",\"tags\":[\"embedded\"]},\"id\":\"1173\",\"type\":\"Row\"},{\"attributes\":{},\"id\":\"1185\",\"type\":\"LinearScale\"},{\"attributes\":{\"axis_label\":\"TotalCoinsMined\",\"formatter\":{\"id\":\"1217\"},\"major_label_policy\":{\"id\":\"1219\"},\"ticker\":{\"id\":\"1188\"}},\"id\":\"1187\",\"type\":\"LinearAxis\"},{\"attributes\":{},\"id\":\"1217\",\"type\":\"BasicTickFormatter\"},{\"attributes\":{},\"id\":\"1183\",\"type\":\"LinearScale\"},{\"attributes\":{\"axis\":{\"id\":\"1187\"},\"grid_line_color\":null,\"ticker\":null},\"id\":\"1190\",\"type\":\"Grid\"},{\"attributes\":{},\"id\":\"1219\",\"type\":\"AllLabels\"},{\"attributes\":{\"data\":{\"TotalCoinSupply\":{\"__ndarray__\":\"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\",\"dtype\":\"float64\",\"order\":\"little\",\"shape\":[533]},\"TotalCoinsMined\":{\"__ndarray__\":\"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\",\"dtype\":\"float64\",\"order\":\"little\",\"shape\":[533]},\"index\":[0,2,5,7,8,9,10,11,12,13,14,15,16,19,20,24,27,37,39,42,44,45,46,47,48,49,50,51,52,54,61,62,63,73,74,76,77,80,81,82,84,85,86,94,95,98,99,100,101,107,110,112,113,114,120,122,124,129,130,131,133,135,137,139,140,144,146,147,148,149,151,153,155,157,162,168,174,175,176,179,180,181,182,183,186,187,188,189,190,193,195,196,197,200,202,203,205,208,210,212,214,215,218,220,224,225,226,227,228,229,231,232,234,235,239,244,246,247,248,251,254,256,263,267,273,276,281,286,289,294,301,302,303,307,315,320,321,322,324,325,327,330,331,332,333,335,336,337,338,339,341,343,345,347,352,355,358,359,362,363,369,371,372,373,375,385,391,397,403,404,413,420,422,426,428,431,436,437,438,440,441,446,452,454,455,456,458,459,462,463,472,475,476,478,479,482,483,491,504,509,516,522,523,525,526,534,539,543,548,555,560,563,565,567,570,571,572,573,576,578,580,581,585,592,593,599,600,605,606,608,609,622,623,626,639,640,642,652,653,654,662,663,664,674,675,679,681,682,683,684,694,695,696,698,699,703,711,712,713,714,715,717,718,719,721,722,723,725,726,728,732,737,739,742,745,747,748,749,750,751,752,753,754,755,756,757,758,759,761,764,765,766,767,768,769,770,771,772,774,775,777,779,780,781,782,783,785,786,787,788,789,791,792,793,794,795,796,798,799,800,801,803,804,805,806,808,809,810,811,812,813,814,815,819,822,823,827,830,835,836,837,838,840,844,845,850,851,852,855,856,858,859,860,862,863,866,867,873,875,876,878,879,880,882,887,888,889,897,899,901,903,905,906,909,918,920,921,923,924,925,926,927,935,936,937,938,940,941,942,943,946,948,952,958,963,964,966,968,970,972,973,974,978,981,982,983,984,987,989,990,991,992,993,995,996,1001,1005,1006,1009,1013,1014,1015,1016,1017,1021,1022,1023,1026,1029,1030,1031,1032,1034,1035,1036,1037,1039,1040,1044,1046,1048,1049,1051,1052,1054,1056,1057,1059,1063,1065,1066,1068,1071,1074,1075,1076,1086,1087,1091,1097,1101,1104,1105,1111,1114,1115,1119,1120,1121,1123,1124,1125,1127,1130,1131,1136,1137,1138,1140,1141,1142,1144,1147,1148,1149,1151,1155,1157,1158,1159,1161,1163,1164,1165,1166,1167,1170,1172,1175,1176,1177,1178,1181,1185,1186,1187,1188,1189,1190,1191,1192,1193,1194,1195,1196,1198,1200,1201,1202,1204,1211,1213,1214,1226,1230,1231,1234,1237,1238,1242,1245,1246,1247]},\"selected\":{\"id\":\"1209\"},\"selection_policy\":{\"id\":\"1232\"}},\"id\":\"1208\",\"type\":\"ColumnDataSource\"},{\"attributes\":{},\"id\":\"1222\",\"type\":\"AllLabels\"},{\"attributes\":{\"axis\":{\"id\":\"1191\"},\"dimension\":1,\"grid_line_color\":null,\"ticker\":null},\"id\":\"1194\",\"type\":\"Grid\"},{\"attributes\":{},\"id\":\"1220\",\"type\":\"BasicTickFormatter\"},{\"attributes\":{\"axis_label\":\"TotalCoinSupply\",\"formatter\":{\"id\":\"1220\"},\"major_label_policy\":{\"id\":\"1222\"},\"ticker\":{\"id\":\"1192\"}},\"id\":\"1191\",\"type\":\"LinearAxis\"},{\"attributes\":{},\"id\":\"1192\",\"type\":\"BasicTicker\"},{\"attributes\":{\"fill_alpha\":{\"value\":0.2},\"fill_color\":{\"value\":\"#30a2da\"},\"line_alpha\":{\"value\":0.2},\"line_color\":{\"value\":\"#30a2da\"},\"size\":{\"value\":5.477225575051661},\"x\":{\"field\":\"TotalCoinsMined\"},\"y\":{\"field\":\"TotalCoinSupply\"}},\"id\":\"1213\",\"type\":\"Scatter\"},{\"attributes\":{},\"id\":\"1197\",\"type\":\"WheelZoomTool\"},{\"attributes\":{},\"id\":\"1195\",\"type\":\"SaveTool\"},{\"attributes\":{\"overlay\":{\"id\":\"1200\"}},\"id\":\"1198\",\"type\":\"BoxZoomTool\"},{\"attributes\":{\"margin\":[5,5,5,5],\"name\":\"HSpacer01918\",\"sizing_mode\":\"stretch_width\"},\"id\":\"1243\",\"type\":\"Spacer\"},{\"attributes\":{},\"id\":\"1199\",\"type\":\"ResetTool\"},{\"attributes\":{\"text_color\":\"black\",\"text_font_size\":\"12pt\"},\"id\":\"1179\",\"type\":\"Title\"},{\"attributes\":{\"active_multi\":null,\"tools\":[{\"id\":\"1177\"},{\"id\":\"1195\"},{\"id\":\"1196\"},{\"id\":\"1197\"},{\"id\":\"1198\"},{\"id\":\"1199\"}]},\"id\":\"1201\",\"type\":\"Toolbar\"},{\"attributes\":{\"fill_color\":{\"value\":\"#30a2da\"},\"line_color\":{\"value\":\"#30a2da\"},\"size\":{\"value\":5.477225575051661},\"x\":{\"field\":\"TotalCoinsMined\"},\"y\":{\"field\":\"TotalCoinSupply\"}},\"id\":\"1211\",\"type\":\"Scatter\"},{\"attributes\":{\"margin\":[5,5,5,5],\"name\":\"HSpacer01917\",\"sizing_mode\":\"stretch_width\"},\"id\":\"1174\",\"type\":\"Spacer\"},{\"attributes\":{},\"id\":\"1209\",\"type\":\"Selection\"},{\"attributes\":{\"fill_alpha\":{\"value\":0.1},\"fill_color\":{\"value\":\"#30a2da\"},\"line_alpha\":{\"value\":0.1},\"line_color\":{\"value\":\"#30a2da\"},\"size\":{\"value\":5.477225575051661},\"x\":{\"field\":\"TotalCoinsMined\"},\"y\":{\"field\":\"TotalCoinSupply\"}},\"id\":\"1212\",\"type\":\"Scatter\"},{\"attributes\":{\"angle\":{\"value\":0.0},\"fill_alpha\":{\"value\":1.0},\"fill_color\":{\"value\":\"#30a2da\"},\"hatch_alpha\":{\"value\":1.0},\"hatch_color\":{\"value\":\"black\"},\"hatch_scale\":{\"value\":12.0},\"hatch_weight\":{\"value\":1.0},\"line_alpha\":{\"value\":1.0},\"line_cap\":{\"value\":\"butt\"},\"line_color\":{\"value\":\"#30a2da\"},\"line_dash\":{\"value\":[]},\"line_dash_offset\":{\"value\":0},\"line_join\":{\"value\":\"bevel\"},\"line_width\":{\"value\":1},\"marker\":{\"value\":\"circle\"},\"size\":{\"value\":5.477225575051661},\"x\":{\"field\":\"TotalCoinsMined\"},\"y\":{\"field\":\"TotalCoinSupply\"}},\"id\":\"1216\",\"type\":\"Scatter\"},{\"attributes\":{\"source\":{\"id\":\"1208\"}},\"id\":\"1215\",\"type\":\"CDSView\"},{\"attributes\":{\"data_source\":{\"id\":\"1208\"},\"glyph\":{\"id\":\"1211\"},\"hover_glyph\":null,\"muted_glyph\":{\"id\":\"1213\"},\"nonselection_glyph\":{\"id\":\"1212\"},\"selection_glyph\":{\"id\":\"1216\"},\"view\":{\"id\":\"1215\"}},\"id\":\"1214\",\"type\":\"GlyphRenderer\"},{\"attributes\":{},\"id\":\"1196\",\"type\":\"PanTool\"}],\"root_ids\":[\"1173\"]},\"title\":\"Bokeh Application\",\"version\":\"2.3.2\"}};\n",
       "    var render_items = [{\"docid\":\"6b5ea31e-def1-4a2d-af8c-ee0e64669290\",\"root_ids\":[\"1173\"],\"roots\":{\"1173\":\"fbee8c40-2635-4632-b0ec-0f86ae031a4a\"}}];\n",
       "    root.Bokeh.embed.embed_items_notebook(docs_json, render_items);\n",
       "  }\n",
       "  if (root.Bokeh !== undefined && root.Bokeh.Panel !== undefined) {\n",
       "    embed_document(root);\n",
       "  } else {\n",
       "    var attempts = 0;\n",
       "    var timer = setInterval(function(root) {\n",
       "      if (root.Bokeh !== undefined && root.Bokeh.Panel !== undefined) {\n",
       "        clearInterval(timer);\n",
       "        embed_document(root);\n",
       "      } else if (document.readyState == \"complete\") {\n",
       "        attempts++;\n",
       "        if (attempts > 100) {\n",
       "          clearInterval(timer);\n",
       "          console.log(\"Bokeh: ERROR: Unable to run BokehJS code because BokehJS library is missing\");\n",
       "        }\n",
       "      }\n",
       "    }, 10, root)\n",
       "  }\n",
       "})(window);</script>"
      ],
      "text/plain": [
       ":Scatter   [TotalCoinsMined]   (TotalCoinSupply,index)"
      ]
     },
     "execution_count": 64,
     "metadata": {
      "application/vnd.holoviews_exec.v0+json": {
       "id": "1173"
      }
     },
     "output_type": "execute_result"
    }
   ],
   "source": [
    "# Plot the scatter with x=\"TotalCoinsMined\" and y=\"TotalCoinSupply\"\n",
    "df_tradable.hvplot.scatter(\n",
    "    x='TotalCoinsMined',\n",
    "    y='TotalCoinSupply',\n",
    "    hover_cols=['index'],\n",
    ")"
   ]
  },
  {
   "cell_type": "code",
   "execution_count": null,
   "metadata": {},
   "outputs": [],
   "source": []
  }
 ],
 "metadata": {
  "file_extension": ".py",
  "kernelspec": {
   "display_name": "Python 3",
   "language": "python",
   "name": "python3"
  },
  "language_info": {
   "codemirror_mode": {
    "name": "ipython",
    "version": 3
   },
   "file_extension": ".py",
   "mimetype": "text/x-python",
   "name": "python",
   "nbconvert_exporter": "python",
   "pygments_lexer": "ipython3",
   "version": "3.8.5"
  },
  "mimetype": "text/x-python",
  "name": "python",
  "npconvert_exporter": "python",
  "pygments_lexer": "ipython3",
  "version": 3
 },
 "nbformat": 4,
 "nbformat_minor": 4
}
